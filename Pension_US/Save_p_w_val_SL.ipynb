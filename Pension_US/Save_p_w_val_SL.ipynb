{
 "cells": [
  {
   "cell_type": "code",
   "execution_count": 1,
   "metadata": {},
   "outputs": [],
   "source": [
    "import pandas as pd\n",
    "import numpy as np\n",
    "from pandas import Series, DataFrame\n",
    "from datetime import datetime, timedelta\n",
    "from dateutil.relativedelta import relativedelta\n",
    "from matplotlib import pyplot as plt\n",
    "import pickle\n",
    "import sys\n",
    "\n",
    "sys.path.append('./../')"
   ]
  },
  {
   "cell_type": "code",
   "execution_count": 2,
   "metadata": {},
   "outputs": [],
   "source": [
    "yyyy = np.load('./result/year/full_year.npy', allow_pickle=True).reshape(1)[0][35][0]\n",
    "folder_name = 'dyna'"
   ]
  },
  {
   "cell_type": "code",
   "execution_count": 3,
   "metadata": {},
   "outputs": [],
   "source": [
    "def model(retire_year, t, k) :\n",
    "    retire = pd.read_csv('./w/SL100.csv')\n",
    "    retire.drop(columns=retire.columns[0], axis=1, inplace=True)\n",
    "    retire = retire[[str(year) for year in yyyy]]\n",
    "    retire.columns = yyyy\n",
    "    \n",
    "    return  retire[retire_year][t]"
   ]
  },
  {
   "cell_type": "code",
   "execution_count": 4,
   "metadata": {},
   "outputs": [],
   "source": [
    "model_name = 'SL_100'"
   ]
  },
  {
   "cell_type": "code",
   "execution_count": 5,
   "metadata": {
    "scrolled": true
   },
   "outputs": [],
   "source": [
    "from Portfolio_value import cons_withdraw, dyna_withdraw"
   ]
  },
  {
   "cell_type": "code",
   "execution_count": 6,
   "metadata": {},
   "outputs": [],
   "source": [
    "df =  pd.read_csv('./data/snp2.csv')"
   ]
  },
  {
   "cell_type": "code",
   "execution_count": 7,
   "metadata": {},
   "outputs": [],
   "source": [
    "\n",
    "portfolio_strategy = [model]"
   ]
  },
  {
   "cell_type": "code",
   "execution_count": 8,
   "metadata": {},
   "outputs": [],
   "source": [
    "# upper_year = 20\n",
    "# k = 1.0\n",
    "# withdraw_rate = 0.08\n",
    "\n",
    "upper_years = [35]"
   ]
  },
  {
   "cell_type": "markdown",
   "metadata": {},
   "source": [
    "# const"
   ]
  },
  {
   "cell_type": "code",
   "execution_count": 9,
   "metadata": {
    "scrolled": true
   },
   "outputs": [],
   "source": [
    "functions = [cons_withdraw]\n",
    "init_p_val = 500000\n",
    "k = 0\n",
    "for upper_year in upper_years:\n",
    "    for withdraw_rate in [0.05]:\n",
    "        print('year{}_rate{}'.format(upper_year, withdraw_rate))\n",
    "        p_val = {}\n",
    "        w_val = {}\n",
    "        years = yyyy\n",
    "        for j, weight in enumerate(portfolio_strategy) :\n",
    "            print('{} Strategy'.format(weight))\n",
    "\n",
    "            for i, function in enumerate(functions) :\n",
    "                for year in years :\n",
    "                    print(year)\n",
    "                    p_val[year] = function(year, weight, k, upper_year, withdraw_rate, df, init_p_val)[0]\n",
    "                    w_val[year] = function(year, weight, k, upper_year, withdraw_rate, df, init_p_val)[1]\n",
    "\n",
    "        p_val = pd.DataFrame(p_val)\n",
    "        w_val = pd.DataFrame(w_val)\n",
    "        p_val.to_csv('./result/{}/p_val/{}_rate{}_const.csv'.format(folder_name, model_name, withdraw_rate))\n",
    "        w_val.to_csv('./result/{}/w_val/{}_rate{}_const.csv'.format(folder_name, model_name, withdraw_rate))\n",
    "        \n",
    "        "
   ]
  },
  {
   "cell_type": "markdown",
   "metadata": {},
   "source": [
    "# dynamic"
   ]
  },
  {
   "cell_type": "code",
   "execution_count": 30,
   "metadata": {
    "scrolled": true
   },
   "outputs": [],
   "source": [
    "functions = [dyna_withdraw]\n",
    "init_p_val = 500000\n",
    "k = 0\n",
    "\n",
    "for upper_year in upper_years:\n",
    "    for withdraw_rate in [0.07]:\n",
    "        print('year{}_rate{}'.format(upper_year, withdraw_rate))\n",
    "        p_val = {}\n",
    "        w_val = {}\n",
    "        years = yyyy\n",
    "        for j, weight in enumerate(portfolio_strategy) :\n",
    "            print('{} Strategy'.format(weight))\n",
    "\n",
    "            for i, function in enumerate(functions) :\n",
    "                for year in years :\n",
    "                    print(year)\n",
    "                    p_val[year] = function(year, weight, k, upper_year, withdraw_rate, df, init_p_val)[0]\n",
    "                    w_val[year] = function(year, weight, k, upper_year, withdraw_rate, df, init_p_val)[1]\n",
    "\n",
    "        p_val = pd.DataFrame(p_val)\n",
    "        w_val = pd.DataFrame(w_val)\n",
    "        p_val.to_csv('./result/{}/p_val/{}_rate{}_dyna.csv'.format(folder_name, model_name, withdraw_rate))\n",
    "        w_val.to_csv('./result/{}/w_val/{}_rate{}_dyna.csv'.format(folder_name, model_name, withdraw_rate))"
   ]
  }
 ],
 "metadata": {
  "kernelspec": {
   "display_name": "hyungjinko",
   "language": "python",
   "name": "hyungjinko"
  },
  "language_info": {
   "codemirror_mode": {
    "name": "ipython",
    "version": 3
   },
   "file_extension": ".py",
   "mimetype": "text/x-python",
   "name": "python",
   "nbconvert_exporter": "python",
   "pygments_lexer": "ipython3",
   "version": "3.8.5"
  }
 },
 "nbformat": 4,
 "nbformat_minor": 4
}
