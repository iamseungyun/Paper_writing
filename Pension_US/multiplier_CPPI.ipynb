{
 "cells": [
  {
   "cell_type": "code",
   "execution_count": 1,
   "metadata": {},
   "outputs": [],
   "source": [
    "import pandas as pd\n",
    "import numpy as np\n",
    "from pandas import Series, DataFrame\n",
    "from datetime import datetime, timedelta\n",
    "from dateutil.relativedelta import relativedelta\n",
    "from matplotlib import pyplot as plt\n",
    "import pickle\n",
    "import sys\n",
    "sys.path.append('./../')\n",
    "sys.path.append('./../../')\n",
    "import Portfolio_value as pv\n",
    "# import import_ipynb"
   ]
  },
  {
   "cell_type": "code",
   "execution_count": 2,
   "metadata": {},
   "outputs": [],
   "source": [
    "df =  pd.read_csv('./data/data.csv')\n",
    "folder_name = 'dyna'\n"
   ]
  },
  {
   "cell_type": "code",
   "execution_count": 3,
   "metadata": {},
   "outputs": [],
   "source": [
    "p_val = np.load('./result/{}/p_val/p_val_0.08.npy'.format(folder_name), allow_pickle=True)\n",
    "w_val = np.load('./result/{}/w_val/w_val_0.08.npy'.format(folder_name), allow_pickle=True)\n",
    "\n",
    "p_val = p_val.reshape(1)\n",
    "p_val = p_val[0]\n",
    "\n",
    "w_val = w_val.reshape(1)\n",
    "w_val = w_val[0]"
   ]
  },
  {
   "cell_type": "code",
   "execution_count": 4,
   "metadata": {},
   "outputs": [],
   "source": [
    "bear_year = np.load('./result/year/bear_year.npy', allow_pickle=True).reshape(1)[0]\n"
   ]
  },
  {
   "cell_type": "code",
   "execution_count": 5,
   "metadata": {},
   "outputs": [],
   "source": [
    "upper_years = [35]"
   ]
  },
  {
   "cell_type": "code",
   "execution_count": 6,
   "metadata": {},
   "outputs": [],
   "source": [
    "model_names = ['CPPI_100_5', 'CPPI_100_10', 'CPPI_100_15','CPPI_100_20','CPPI_100_25','CPPI_100_30', 'CPPI_100_35',\n 'CPPI_100_40', 'CPPI_100_45', 'CPPI_100_50']\n",
    "for protection_level in [1.0]:\n",
    "    for multiplier in range(5,55,5):\n",
    "        model_names.append('CPPI_{}_{}'.format(int(protection_level*100), multiplier))"
   ]
  },
  {
   "cell_type": "code",
   "execution_count": 7,
   "metadata": {},
   "outputs": [],
   "source": [
    "bear_perform = {}\n",
    "for model_name in model_names:\n",
    "    bear_perform[model_name] = {\n",
    "    'dep':[],\n",
    "    'max':[],\n",
    "    'under':[],\n",
    "    'inc':[],\n",
    "    'beq':[],\n",
    "    'total':[]\n",
    "}"
   ]
  },
  {
   "cell_type": "code",
   "execution_count": 8,
   "metadata": {},
   "outputs": [],
   "source": [
    "# PI_Korea랑은 코드가 좀 다름\n",
    "\n",
    "def get_metric_for_PI(retire_year, k, upper_year, model_name, withrate, const_or_dyna, df, init_wealth, p_val, w_val):\n",
    "    # bequest\n",
    "    \n",
    "    p_amounts = p_val['{}_rate{}_{}'.format(model_name, withrate, const_or_dyna)][retire_year]\n",
    "    bequest = p_amounts[12*upper_year]*init_wealth*(1-withrate)/100\n",
    "    \n",
    "    # withdraw_amount\n",
    "    w_amounts = w_val['{}_rate{}_{}'.format(model_name, withrate, const_or_dyna)][retire_year]\n",
    "    withdraw_amount = sum(w_amounts)\n",
    "    \n",
    "    # depletion time\n",
    "    if np.argwhere(p_amounts == 0).size > 0 : # 고갈이 되면\n",
    "        dep_time = np.argwhere(p_amounts == 0)[0][0]\n",
    "    elif np.argwhere(p_amounts == 0).size == 0: # 고갈이 안되면\n",
    "        dep_time = upper_year*12\n",
    "        \n",
    "    # max decline\n",
    "    dec = np.min(p_amounts)/p_amounts[0]\n",
    "    dec = dec - 1\n",
    "    \n",
    "    # underwater duration\n",
    "    start_date = datetime(retire_year, 1, 1)\n",
    "    end_date = start_date + relativedelta(years=upper_year)\n",
    "    \n",
    "    df['Date'] = pd.to_datetime(df['Date'], format='%Y-%m')\n",
    "    df = df[(df['Date'] >= start_date) & (df['Date'] <= end_date)]\n",
    "    \n",
    "    under_count = 0\n",
    "    for i in range(upper_year*12):\n",
    "        if p_amounts[i]*df.iloc[i]['CPI'] < p_amounts[0]*df.iloc[0]['CPI'] :\n",
    "             under_count+= 1\n",
    "        \n",
    "    return bequest / init_wealth * 100, withdraw_amount / init_wealth * 100, dep_time, dec * 100, under_count"
   ]
  },
  {
   "cell_type": "code",
   "execution_count": 9,
   "metadata": {},
   "outputs": [
    {
     "name": "stdout",
     "output_type": "stream",
     "text": [
      "CPPI_100_5\n",
      "CPPI_100_10\n",
      "CPPI_100_15\n",
      "CPPI_100_20\n",
      "CPPI_100_25\n",
      "CPPI_100_30\n",
      "CPPI_100_35\n",
      "CPPI_100_40\n",
      "CPPI_100_45\n",
      "CPPI_100_50\n"
     ]
    }
   ],
   "source": [
    "init_wealth = 500000\n",
    "withdraw_rate = 0.08\n",
    "k=0\n",
    "const_or_dyna = 'dyna'\n",
    "upper_year = 35\n",
    "\n",
    "for model_name in model_names:\n",
    "    print(model_name)\n",
    "    for years in bear_year[upper_year]:\n",
    "        for year in years:\n",
    "            res = get_metric_for_PI(year, k, upper_year, model_name, withdraw_rate, const_or_dyna, df, init_wealth, p_val, w_val)\n",
    "            if res[2] < upper_year*12 : #고갈 시점이 upper_year보다 작으면 (이미 고갈이 되면)\n",
    "                bear_perform[model_name]['dep'].append(100)\n",
    "            elif res[2] >= upper_year*12: # 고갈이 안되면\n",
    "                bear_perform[model_name]['dep'].append(0)\n",
    "            bear_perform[model_name]['max'].append(res[3])\n",
    "            bear_perform[model_name]['under'].append(res[4])\n",
    "            bear_perform[model_name]['inc'].append(res[1])\n",
    "            bear_perform[model_name]['beq'].append(res[0])\n",
    "            bear_perform[model_name]['total'].append(res[1] + res[0])\n"
   ]
  },
  {
   "cell_type": "code",
   "execution_count": 10,
   "metadata": {},
   "outputs": [],
   "source": [
    "# Define all dictionaries and indices we want to calculate mean for\n",
    "dicts = [bear_perform]\n",
    "indices = model_names\n",
    "\n",
    "# Use list comprehension to compute all means at once\n",
    "# Store results in lists\n",
    "a = [np.round(np.mean(d[i]['dep']),1) for i in indices for d in dicts]\n",
    "b = [np.round(np.mean(d[i]['max']),1) for i in indices for d in dicts]\n",
    "c = [np.round(np.mean(d[i]['under']),1) for i in indices for d in dicts]\n",
    "d = [np.round(np.mean(d[i]['inc']),1) for i in indices for d in dicts]\n",
    "e = [np.round(np.mean(d[i]['beq']),1) for i in indices for d in dicts]\n",
    "f = [np.round(np.mean(d[i]['total']),1) for i in indices for d in dicts]\n",
    "\n",
    "# If you need to access the results separately, you can do so by indexing the lists:\n",
    "# For example, a1 corresponds to a_results[0], a2 corresponds to a_results[1], etc."
   ]
  },
  {
   "cell_type": "code",
   "execution_count": 11,
   "metadata": {},
   "outputs": [
    {
     "name": "stdout",
     "output_type": "stream",
     "text": [
      "['CPPI_100_5', 'CPPI_100_10', 'CPPI_100_15', 'CPPI_100_20', 'CPPI_100_25', 'CPPI_100_30', 'CPPI_100_35', 'CPPI_100_40', 'CPPI_100_45', 'CPPI_100_50']\n",
      "Depletion Prob. (\\%) & & 100.0 & 100.0 & 90.9 & 77.3 & 68.2 & 68.2 & 63.6 & 59.1 & 59.1 & 59.1\n",
      "Max. decline (\\%) & & -100.0 & -100.0 & -98.5 & -95.3 & -90.0 & -88.4 & -86.4 & -84.7 & -83.3 & -82.5\n",
      "Underwater duration (month) & & 398.1 & 383.2 & 356.4 & 330.4 & 279.1 & 269.5 & 268.4 & 264.2 & 259.6 & 251.0\n",
      "Total withdrawal (\\%) & & 106.1 & 112.6 & 116.8 & 121.2 & 125.6 & 127.3 & 130.3 & 131.6 & 132.8 & 133.6\n",
      "Bequest (\\%) & & 0.0 & 0.0 & 1.5 & 4.7 & 10.9 & 14.6 & 18.6 & 21.5 & 24.0 & 26.2\n",
      "Total withdrawal + Bequest (\\%) & & 106.1 & 112.6 & 118.3 & 126.0 & 136.5 & 141.9 & 149.0 & 153.1 & 156.8 & 159.8\n"
     ]
    }
   ],
   "source": [
    "\n",
    "print(model_names)\n",
    "print('Depletion Prob. (\\%) & & ' + ' & '.join(['{}'] * len(a)).format(*a))\n",
    "print('Max. decline (\\%) & & ' + ' & '.join(['{}'] * len(b)).format(*b))\n",
    "print('Underwater duration (month) & & ' + ' & '.join(['{}'] * len(c)).format(*c))\n",
    "print('Total withdrawal (\\%) & & ' + ' & '.join(['{}'] * len(d)).format(*d))\n",
    "print('Bequest (\\%) & & ' + ' & '.join(['{}'] * len(e)).format(*e))\n",
    "print('Total withdrawal + Bequest (\\%) & & ' + ' & '.join(['{}'] * len(f)).format(*f))\n",
    "\n",
    "\n",
    "\n"
   ]
  }
],
 "metadata": {
  "kernelspec": {
   "display_name": "Python 3",
   "language": "python",
   "name": "python3"
  },
  "language_info": {
   "codemirror_mode": {
    "name": "ipython",
    "version": 3
   },
   "file_extension": ".py",
   "mimetype": "text/x-python",
   "name": "python",
   "nbconvert_exporter": "python",
   "pygments_lexer": "ipython3",
   "version": "3.8.3"
  }
 },
 "nbformat": 4,
 "nbformat_minor": 4
}
