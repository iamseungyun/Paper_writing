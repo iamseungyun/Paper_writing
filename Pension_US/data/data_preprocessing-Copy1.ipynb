{
 "cells": [
  {
   "cell_type": "code",
   "execution_count": 1,
   "metadata": {},
   "outputs": [],
   "source": [
    "import pandas as pd\n",
    "import numpy as np\n",
    "\n"
   ]
  },
  {
   "cell_type": "code",
   "execution_count": 4,
   "metadata": {},
   "outputs": [],
   "source": [
    "\n",
    "dt = pd.read_csv('./snp.csv')"
   ]
  },
  {
   "cell_type": "code",
   "execution_count": 8,
   "metadata": {},
   "outputs": [],
   "source": [
    "dt = dt[['Date', 'SnP']]"
   ]
  },
  {
   "cell_type": "code",
   "execution_count": 10,
   "metadata": {},
   "outputs": [],
   "source": [
    "dt = dt.set_index('Date')"
   ]
  },
  {
   "cell_type": "code",
   "execution_count": 12,
   "metadata": {},
   "outputs": [],
   "source": [
    "final_df = dt"
   ]
  },
  {
   "cell_type": "code",
   "execution_count": 17,
   "metadata": {},
   "outputs": [],
   "source": [
    "final_df.index = pd.to_datetime(final_df.index)"
   ]
  },
  {
   "cell_type": "code",
   "execution_count": 18,
   "metadata": {},
   "outputs": [],
   "source": [
    "final_df.index = final_df.index.to_period('M').to_timestamp()\n"
   ]
  },
  {
   "cell_type": "code",
   "execution_count": 21,
   "metadata": {},
   "outputs": [],
   "source": [
    "final_df.columns = ['Price']"
   ]
  },
  {
   "cell_type": "code",
   "execution_count": 47,
   "metadata": {
    "scrolled": false
   },
   "outputs": [
    {
     "name": "stdout",
     "output_type": "stream",
     "text": [
      "9th bear market (2018-2019):\n",
      "Peak-to-trough decline (percentage): 20.19%\n",
      "Peak-to-trough duration (months): -12\n",
      "Peak month (date): 2019-12-01 00:00:00\n",
      "Trough month (date): 2019-01-01 00:00:00\n",
      "\n"
     ]
    }
   ],
   "source": [
    "\n",
    "# Given bear markets\n",
    "bear_markets = {\n",
    "#     '1st bear market (1928-1932)': {\n",
    "#         'full': [1929,1930,1931],\n",
    "#         'partial': [1928,1932]\n",
    "#     },\n",
    "#     '2nd bear market (1936-1938)': {\n",
    "#         'full': [1937],\n",
    "#         'partial': [1936,1938]\n",
    "#     },\n",
    "#     '3rd bear market (1945-1947)': {\n",
    "#         'full': [1946],\n",
    "#         'partial': [1945,1947]\n",
    "#     },\n",
    "#     '4th bear market (1961-1963)': {\n",
    "#         'full': [1962],\n",
    "#         'partial': [1961,1963]\n",
    "#     },\n",
    "#     '5th bear market (1967-1970)': {\n",
    "#         'full': [1968,1969],\n",
    "#         'partial': [1967,1970]\n",
    "#     },\n",
    "#     '6th bear market (1972-1975)': {\n",
    "#         'full': [1973, 1974],\n",
    "#         'partial': [1972, 1975]\n",
    "#     },\n",
    "#     '7th bear market (1999-2003)': {\n",
    "#         'full': [2000,2001,2002],\n",
    "#         'partial': [1999,2003]\n",
    "#     },\n",
    "#     '8th bear market (2006-2008)': {\n",
    "#         'full': [2007,2008],\n",
    "#         'partial': [2006,2009]\n",
    "#     },\n",
    "    '9th bear market (2018-2019)': {\n",
    "        'full': [2019],\n",
    "        'partial': [2018]\n",
    "    }\n",
    "}\n",
    "# Iterate over bear markets\n",
    "for name, periods in bear_markets.items():\n",
    "    \n",
    "    full_years = pd.date_range(start=f'{min(periods[\"full\"])}-01-01', end=f'{max(periods[\"full\"])}-12-31', freq='M')\n",
    "    full_years = full_years.to_period('M').to_timestamp()\n",
    "    partial_years = pd.date_range(start=f'{min(periods[\"partial\"])}-01-01', end=f'{max(periods[\"partial\"])}-12-31', freq='M')\n",
    "    partial_years = partial_years.to_period('M').to_timestamp()\n",
    "    # Get market data for the bear market period\n",
    "    market_data = final_df[final_df.index.isin(full_years.union(partial_years))]\n",
    "    # Ensure the market data for the period is not empty\n",
    "    if not market_data.empty:\n",
    "        # Calculate peak-to-trough decline (percentage), peak-to-trough duration (months), and peak and trough months (date)\n",
    "        \n",
    "        peak_price = market_data['Price'].max()\n",
    "        trough_price = market_data['Price'].min()\n",
    "\n",
    "        peak_month = market_data['Price'].idxmax()\n",
    "        trough_month = market_data['Price'].idxmin()\n",
    "\n",
    "        if 2020 in periods['partial']:\n",
    "            \n",
    "            market_data = final_df[final_df.index.isin(full_years.union(partial_years))]\n",
    "            market_data = market_data[:-5]\n",
    "            peak_price = market_data['Price'].max()\n",
    "            trough_price = market_data['Price'].min()\n",
    "\n",
    "            peak_month = market_data['Price'].idxmax()\n",
    "            trough_month = market_data['Price'].idxmin()\n",
    "\n",
    "        \n",
    "        decline = ((peak_price - trough_price) / peak_price) * 100\n",
    "        duration = (trough_month - peak_month).days // 30\n",
    "\n",
    "        print(f\"{name}:\")\n",
    "        print(f\"Peak-to-trough decline (percentage): {decline:.2f}%\")\n",
    "        print(f\"Peak-to-trough duration (months): {duration}\")\n",
    "        print(f\"Peak month (date): {peak_month}\")\n",
    "        print(f\"Trough month (date): {trough_month}\\n\")\n",
    "    else:\n",
    "        print(f\"No data available for {name}\")\n"
   ]
  },
  {
   "cell_type": "code",
   "execution_count": 48,
   "metadata": {},
   "outputs": [
    {
     "data": {
      "image/png": "[encoded data removed]",
      "text/plain": [
       "<Figure size 432x288 with 1 Axes>"
      ]
     },
     "metadata": {
      "needs_background": "light"
     },
     "output_type": "display_data"
    }
   ],
   "source": [
    "\n",
    "from matplotlib import pyplot as plt\n",
    "for i in range(2018,2020):\n",
    "    plt.plot(final_df['{}-01-01'.format(i):'{}-12-01'.format(i)])\n",
    "plt.show()\n",
    "plt.close()"
   ]
  },
  {
   "cell_type": "code",
   "execution_count": 31,
   "metadata": {},
   "outputs": [],
   "source": [
    "ret = np.log(final_df / final_df.shift(1))\n",
    "ret.iloc[0] = 0\n",
    "ret.index = ret.index.to_period('M').to_timestamp()"
   ]
  },
  {
   "cell_type": "code",
   "execution_count": 32,
   "metadata": {},
   "outputs": [],
   "source": [
    "dt_final = pd.DataFrame()\n",
    "dt_final['Mkt'] = ret['1980-01':'2022-12-01']"
   ]
  },
  {
   "cell_type": "code",
   "execution_count": 33,
   "metadata": {},
   "outputs": [],
   "source": [
    "rf = pd.read_csv('./risk_free.csv')\n",
    "rf['RF'] = rf['RF'].astype('float')\n",
    "rf['RF'] = rf['RF'] / 100"
   ]
  },
  {
   "cell_type": "code",
   "execution_count": 34,
   "metadata": {},
   "outputs": [],
   "source": [
    "rf.set_index('Date', inplace=True)\n",
    "rf.index = pd.to_datetime(rf.index)\n",
    "rf = rf.sort_values(by='Date')"
   ]
  },
  {
   "cell_type": "code",
   "execution_count": 35,
   "metadata": {},
   "outputs": [],
   "source": [
    "rf.index = rf.index.to_period('M').to_timestamp()\n",
    "dt_final.index = dt_final.index.to_period('M').to_timestamp()\n",
    "rf = rf['1980-01-01':'2022-12-01']"
   ]
  },
  {
   "cell_type": "code",
   "execution_count": 36,
   "metadata": {
    "scrolled": true
   },
   "outputs": [
    {
     "name": "stderr",
     "output_type": "stream",
     "text": [
      "<ipython-input-36-61d48d1d095d>:1: FutureWarning: In a future version of pandas all arguments of concat except for the argument 'objs' will be keyword-only.\n",
      "  dt_final = pd.concat([dt_final,rf],1)\n"
     ]
    }
   ],
   "source": [
    "dt_final = pd.concat([dt_final,rf],1)"
   ]
  },
  {
   "cell_type": "code",
   "execution_count": 37,
   "metadata": {},
   "outputs": [],
   "source": [
    "# https://fred.stlouisfed.org/series/INTDSRKRM193N"
   ]
  },
  {
   "cell_type": "code",
   "execution_count": 38,
   "metadata": {},
   "outputs": [],
   "source": [
    "CPI = pd.read_csv('./CPI.csv')\n",
    "CPI = CPI.set_index('Date')\n",
    "CPI.index = pd.to_datetime(CPI.index)\n",
    "CPI = CPI['1980-01-01':'2022-12-01']"
   ]
  },
  {
   "cell_type": "code",
   "execution_count": 39,
   "metadata": {},
   "outputs": [
    {
     "name": "stderr",
     "output_type": "stream",
     "text": [
      "<ipython-input-39-2581057e238c>:1: FutureWarning: In a future version of pandas all arguments of concat except for the argument 'objs' will be keyword-only.\n",
      "  dt_final = pd.concat([dt_final,CPI],1)\n"
     ]
    }
   ],
   "source": [
    "dt_final = pd.concat([dt_final,CPI],1)\n",
    "dt_final = dt_final.astype(float)"
   ]
  },
  {
   "cell_type": "code",
   "execution_count": 41,
   "metadata": {},
   "outputs": [],
   "source": [
    "dt_final['RF'] = dt_final['RF'] / 12 # monthly로 바꿔야함"
   ]
  },
  {
   "cell_type": "code",
   "execution_count": 68,
   "metadata": {},
   "outputs": [],
   "source": [
    "dt_final = dt_final[~dt_final.index.duplicated(keep=\"first\")]"
   ]
  },
  {
   "cell_type": "code",
   "execution_count": 69,
   "metadata": {},
   "outputs": [],
   "source": [
    "dt_final.to_csv('./data.csv')"
   ]
  },
  {
   "cell_type": "code",
   "execution_count": 32,
   "metadata": {},
   "outputs": [],
   "source": [
    "dt_snp = pd.read_csv('./data_snp.csv')\n",
    "dt_snp = dt_snp.set_index('Date')"
   ]
  },
  {
   "cell_type": "code",
   "execution_count": 36,
   "metadata": {},
   "outputs": [],
   "source": [
    "dt_snp"
   ]
  },
  {
   "cell_type": "code",
   "execution_count": null,
   "metadata": {},
   "outputs": [],
   "source": []
  }
 ],
 "metadata": {
  "kernelspec": {
   "display_name": "Python 3",
   "language": "python",
   "name": "python3"
  },
  "language_info": {
   "codemirror_mode": {
    "name": "ipython",
    "version": 3
   },
   "file_extension": ".py",
   "mimetype": "text/x-python",
   "name": "python",
   "nbconvert_exporter": "python",
   "pygments_lexer": "ipython3",
   "version": "3.8.3"
  }
 },
 "nbformat": 4,
 "nbformat_minor": 4
}
