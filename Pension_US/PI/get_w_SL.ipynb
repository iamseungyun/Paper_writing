{
 "cells": [
  {
   "cell_type": "code",
   "execution_count": 1,
   "metadata": {},
   "outputs": [],
   "source": [
    "import pandas as pd\n",
    "import numpy as np\n",
    "import matplotlib.pyplot as plt\n",
    "import sys\n",
    "sys.path.append('../')\n",
    "import portfolio_insurance as pi\n",
    "import requests\n",
    "import json\n",
    "import time"
   ]
  },
  {
   "cell_type": "markdown",
   "metadata": {},
   "source": [
    "# Data"
   ]
  },
  {
   "cell_type": "code",
   "execution_count": 2,
   "metadata": {},
   "outputs": [],
   "source": [
    "dt = pd.read_csv('./../data/snp2.csv')\n",
    "dt['yyyy'] = dt['Date'].str[:4]\n",
    "price = dt[['Date', 'SnP', 'yyyy']]\n",
    "ret = dt[['Date', 'Return', 'yyyy']]\n",
    "rf = dt[['Date', 'RF', 'yyyy']]\n",
    "\n",
    "price = price.set_index('Date')\n",
    "ret = ret.set_index('Date')\n",
    "rf = rf.set_index('Date')\n",
    "\n",
    "vol = ret.rolling(window=12).std()\n",
    "vol[:11] = vol[11:11+11]\n",
    "vol['yyyy'] = ret['yyyy']"
   ]
  },
  {
   "cell_type": "markdown",
   "metadata": {},
   "source": [
    "# Bootstrapping"
   ]
  },
  {
   "cell_type": "code",
   "execution_count": 3,
   "metadata": {},
   "outputs": [],
   "source": [
    "win = 12\n",
    "T = win/12\n",
    "trad_filter = 0.00"
   ]
  },
  {
   "cell_type": "code",
   "execution_count": 4,
   "metadata": {},
   "outputs": [],
   "source": [
    "strategies = ['SL95']"
   ]
  },
  {
   "cell_type": "code",
   "execution_count": 5,
   "metadata": {},
   "outputs": [],
   "source": [
    "a = { 'SL95':0.55}\n",
    "cost = { 'SL95':False}\n",
    "func1 = { 'SL95':pi.get_E_stop_loss }\n",
    "func2 = { 'SL95':pi.delta_hedging }\n",
    "\n",
    "E, res = {}, {}\n",
    "res_final = {}\n",
    "\n",
    "for item in strategies:\n",
    "    res_final[item] = []"
   ]
  },
  {
   "cell_type": "code",
   "execution_count": 6,
   "metadata": {},
   "outputs": [],
   "source": [
    "start_year = 1928\n",
    "end_year = start_year + 92\n",
    "window_size = 1\n",
    "\n",
    "# Generate the list of lists\n",
    "year_lists = [[str(year) for year in range(year_i, year_i + window_size)] for year_i in range(start_year, end_year - window_size + 1)]\n",
    "\n",
    "# Print the lists\n",
    "# year_lists[-1]"
   ]
  },
  {
   "cell_type": "code",
   "execution_count": 7,
   "metadata": {},
   "outputs": [],
   "source": [
    "final_w = {}\n",
    "for item in strategies:\n",
    "    final_w[item] = {}\n",
    "    for yyyy_list in list(np.arange(int(year_lists[0][0]),int(year_lists[-1][0]))):\n",
    "        final_w[item][yyyy_list] = []"
   ]
  },
  {
   "cell_type": "code",
   "execution_count": 8,
   "metadata": {
    "scrolled": true
   },
   "outputs": [],
   "source": [
    "\n",
    "        \n",
    "for yyyy_list in year_lists[:-1]:\n",
    "    print('from: ', yyyy_list[0])\n",
    "    print('to: ', yyyy_list[-1])\n",
    "    \n",
    "    price_ = price[price['yyyy'].isin(yyyy_list)]['SnP']\n",
    "    ret_ = ret[ret['yyyy'].isin(yyyy_list)]['Return']\n",
    "    rf_ = rf[rf['yyyy'].isin(yyyy_list)]['RF']\n",
    "    vol_ = vol[vol['yyyy'].isin(yyyy_list)]['Return']\n",
    "\n",
    "#     price_ = np.array(price_)\n",
    "#     vol_ = np.array(vol_)\n",
    "    ret_ = np.array(ret_)\n",
    "    rf_ = np.array(rf_)\n",
    "    price_ = price_ / price_[0]\n",
    "    rf_ = rf_ / 100\n",
    "    \n",
    "\n",
    "    for item in strategies:\n",
    "        if item in ['SL95']:\n",
    "            \n",
    "            E[item] = func1[item](price_, vol_, T, a[item], np.mean(rf_))\n",
    "            res[item] = func2[item](E[item], ret_, price_, rf_, cost[item])\n",
    "\n",
    "        res_final[item].append(E[item])\n",
    "        \n",
    "\n",
    "#         plt.plot(price_[:300], label='BH')\n",
    "#         plt.plot(res['SL95'][:300], label='SL95')\n",
    "#         plt.legend()\n",
    "#         plt.show()\n",
    "#         plt.close()\n",
    "    \n",
    "        final_w[item][int(yyyy_list[0])] = E[item]\n",
    "    "
   ]
  },
  {
   "cell_type": "code",
   "execution_count": 9,
   "metadata": {},
   "outputs": [],
   "source": [
    "final_w_sequence = {'SL95':{}}\n",
    "years_to_include = 35\n",
    "\n",
    "for key in final_w['SL95']:\n",
    "    # Initialize an empty list for each key\n",
    "    final_w_sequence['SL95'][key] = []\n",
    "    for i in range(years_to_include):\n",
    "        # Check if the year exists in the final_w dictionary\n",
    "        if key + i in final_w['SL95']:\n",
    "            # Extend the list for the key with the list for the current year\n",
    "            final_w_sequence['SL95'][key].extend(final_w['SL95'][key + i])\n",
    "\n",
    "\n"
   ]
  },
  {
   "cell_type": "code",
   "execution_count": 10,
   "metadata": {},
   "outputs": [],
   "source": [
    "full_year = np.load('./../result/year/full_year.npy', allow_pickle=True).reshape(1)[0]"
   ]
  },
  {
   "cell_type": "code",
   "execution_count": 11,
   "metadata": {},
   "outputs": [],
   "source": [
    "w_dict = {}\n",
    "for item in full_year[35][0]:#[1928, 1929, 1930, 1931, 1932, 1936, 1937, 1938, 1945, 1946, 1947, 1961, 1962, 1963, 1967, 1968, 1969, 1970, 1972, 1973, 1974, 1975]:#list(final_w_sequence['SP95'].keys())[:48]:\n",
    "    w_dict[item] = final_w_sequence['SL95'][item]\n",
    "    "
   ]
  },
  {
   "cell_type": "code",
   "execution_count": 12,
   "metadata": {},
   "outputs": [
    {
     "data": {
      "text/plain": [
       "56"
      ]
     },
     "execution_count": 12,
     "metadata": {},
     "output_type": "execute_result"
    }
   ],
   "source": [
    "len(w_dict.keys())"
   ]
  },
  {
   "cell_type": "code",
   "execution_count": 13,
   "metadata": {
    "scrolled": true
   },
   "outputs": [],
   "source": [
    "pd.DataFrame(w_dict).to_csv('./../w/SL55.csv')"
   ]
  }
 ],
 "metadata": {
  "kernelspec": {
   "display_name": "Python 3",
   "language": "python",
   "name": "python3"
  },
  "language_info": {
   "codemirror_mode": {
    "name": "ipython",
    "version": 3
   },
   "file_extension": ".py",
   "mimetype": "text/x-python",
   "name": "python",
   "nbconvert_exporter": "python",
   "pygments_lexer": "ipython3",
   "version": "3.8.3"
  }
 },
 "nbformat": 4,
 "nbformat_minor": 4
}
