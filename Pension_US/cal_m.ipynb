{
 "cells": [
  {
   "cell_type": "code",
   "execution_count": 667,
   "metadata": {},
   "outputs": [],
   "source": [
    "import pandas as pd\n",
    "import numpy as np\n",
    "import matplotlib.pyplot as plt\n",
    "import sys\n",
    "sys.path.append('../')\n",
    "import portfolio_insurance as pi\n",
    "import requests\n",
    "import json\n",
    "import time\n",
    "\n",
    "from scipy.stats import norm"
   ]
  },
  {
   "cell_type": "code",
   "execution_count": 668,
   "metadata": {},
   "outputs": [],
   "source": [
    "dt = pd.read_csv('./data/snp2.csv')\n",
    "# dt = dt[400:500]\n",
    "dt['yyyy'] = dt['Date'].str[:4]\n",
    "price = dt[['Date', 'SnP', 'yyyy']]\n",
    "ret = dt[['Date', 'Return', 'yyyy']]\n",
    "rf = dt[['Date', 'RF', 'yyyy']]\n",
    "\n",
    "price = price.set_index('Date')\n",
    "ret = ret.set_index('Date')\n",
    "rf = rf.set_index('Date')\n",
    "\n",
    "vol = ret.rolling(window=12).std()\n",
    "vol[:11] = vol[11:11+11]\n",
    "vol['yyyy'] = ret['yyyy']\n",
    "\n",
    "\n",
    "full_year = np.load('./result/year/full_year.npy', allow_pickle=True).reshape(1)[0]"
   ]
  },
  {
   "cell_type": "code",
   "execution_count": 669,
   "metadata": {},
   "outputs": [
    {
     "data": {
      "text/plain": [
       "0.10855384615384615"
      ]
     },
     "execution_count": 669,
     "metadata": {},
     "output_type": "execute_result"
    }
   ],
   "source": [
    "ret['Return'].mean() * 12"
   ]
  },
  {
   "cell_type": "code",
   "execution_count": 670,
   "metadata": {},
   "outputs": [
    {
     "data": {
      "text/plain": [
       "0.1590220976619829"
      ]
     },
     "execution_count": 670,
     "metadata": {},
     "output_type": "execute_result"
    }
   ],
   "source": [
    "vol['Return'].mean() * np.sqrt(12)"
   ]
  },
  {
   "cell_type": "code",
   "execution_count": 671,
   "metadata": {},
   "outputs": [
    {
     "data": {
      "text/plain": [
       "0.032924175824175755"
      ]
     },
     "execution_count": 671,
     "metadata": {},
     "output_type": "execute_result"
    }
   ],
   "source": [
    "rf['RF'].mean() * 12"
   ]
  },
  {
   "cell_type": "code",
   "execution_count": 672,
   "metadata": {},
   "outputs": [],
   "source": [
    "def d1(S,K,r,sigma,T,t):\n",
    "    #S/K = a\n",
    "    #S = a * K\n",
    "#     print('S_0:', S)\n",
    "#     print('K:', K)\n",
    "#     print('rf:', r)\n",
    "#     print('sigma:', sigma)\n",
    "#     print('T:', T)\n",
    "    c = np.log(S/K)+(r+(sigma**2)/2)*(T-t)\n",
    "#     print('c:', c)\n",
    "    b = sigma*np.sqrt(T-t)\n",
    "#     print('b:', b)\n",
    "    return c/b"
   ]
  },
  {
   "cell_type": "code",
   "execution_count": 673,
   "metadata": {},
   "outputs": [],
   "source": [
    "def call(S, K, r, sigma, T, t):\n",
    "    \n",
    "    d1_result = d1(S, K, r, sigma, T, t)\n",
    "    Nd1 = norm.cdf(d1_result)\n",
    "    Nd2 = norm.cdf(d1_result-sigma*np.sqrt(T-t))\n",
    "    \n",
    "    \n",
    "    return S*Nd1 - K*np.exp(-r*(T-t))*Nd2"
   ]
  },
  {
   "cell_type": "code",
   "execution_count": 731,
   "metadata": {},
   "outputs": [],
   "source": [
    "S = 100\n",
    "\n",
    "t = 0.0\n",
    "mu_y = ret['Return'].mean() * 12\n",
    "r_y = rf['RF'].mean() * 12\n",
    "sigma_y = ret['Return'].std() * np.sqrt(12)\n",
    "\n",
    "T_y = 1\n",
    "\n",
    "K = 100\n",
    "# print(K * np.exp(-r_y*T) / S)\n",
    "c1 = call(S,K,mu_y,sigma_y,T_y,t)\n",
    "c2 = call(S,K,r_y,sigma_y,T_y,t)\n",
    "m_y = 1 + (1/(mu_y-r_y))*np.log(c1/c2)\n",
    "        \n",
    "    \n",
    "    \n",
    "    "
   ]
  },
  {
   "cell_type": "code",
   "execution_count": 732,
   "metadata": {},
   "outputs": [
    {
     "data": {
      "text/plain": [
       "1.6015177516212573"
      ]
     },
     "execution_count": 732,
     "metadata": {},
     "output_type": "execute_result"
    }
   ],
   "source": [
    "m_y"
   ]
  },
  {
   "cell_type": "code",
   "execution_count": null,
   "metadata": {},
   "outputs": [],
   "source": []
  }
 ],
 "metadata": {
  "kernelspec": {
   "display_name": "Python 3",
   "language": "python",
   "name": "python3"
  },
  "language_info": {
   "codemirror_mode": {
    "name": "ipython",
    "version": 3
   },
   "file_extension": ".py",
   "mimetype": "text/x-python",
   "name": "python",
   "nbconvert_exporter": "python",
   "pygments_lexer": "ipython3",
   "version": "3.8.3"
  }
 },
 "nbformat": 4,
 "nbformat_minor": 4
}
