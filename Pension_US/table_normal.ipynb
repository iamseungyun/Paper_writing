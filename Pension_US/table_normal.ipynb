{
 "cells": [
  {
   "cell_type": "code",
   "execution_count": 1,
   "metadata": {},
   "outputs": [],
   "source": [
    "import pandas as pd\n",
    "import numpy as np\n",
    "from pandas import Series, DataFrame\n",
    "from datetime import datetime, timedelta\n",
    "from dateutil.relativedelta import relativedelta\n",
    "from matplotlib import pyplot as plt\n",
    "import pickle\n",
    "import sys\n",
    "sys.path.append('./../')\n",
    "sys.path.append('./../../')\n",
    "import Portfolio_value as pv\n",
    "import portfolio_insurance as pi\n",
    "import scipy"
   ]
  },
  {
   "cell_type": "code",
   "execution_count": 2,
   "metadata": {},
   "outputs": [],
   "source": [
    "df =  pd.read_csv('./data/snp2.csv')"
   ]
  },
  {
   "cell_type": "code",
   "execution_count": 3,
   "metadata": {},
   "outputs": [],
   "source": [
    "rf = df['RF'].mean() * 12"
   ]
  },
  {
   "cell_type": "code",
   "execution_count": 4,
   "metadata": {},
   "outputs": [],
   "source": [
    "p_val = np.load('./result/normal/p_val_0.05.npy', allow_pickle=True)\n",
    "w_val = np.load('./result/normal/w_val_0.05.npy', allow_pickle=True)\n",
    "\n",
    "p_val = p_val.reshape(1)\n",
    "p_val = p_val[0]\n",
    "\n",
    "w_val = w_val.reshape(1)\n",
    "w_val = w_val[0]"
   ]
  },
  {
   "cell_type": "code",
   "execution_count": 5,
   "metadata": {},
   "outputs": [],
   "source": [
    "bear_year = np.load('./result/year/normal_year.npy', allow_pickle=True).reshape(1)[0]\n"
   ]
  },
  {
   "cell_type": "code",
   "execution_count": 6,
   "metadata": {},
   "outputs": [],
   "source": [
    "upper_years = [35]"
   ]
  },
  {
   "cell_type": "code",
   "execution_count": 7,
   "metadata": {},
   "outputs": [],
   "source": [
    "\n",
    "\n",
    "# model_names = ['BH_80', 'BH_75', 'BH_70', 'BH_65', 'BH_60', 'BH_55', 'BH_50', 'BH_45', 'BH_40', 'BH_35', 'BH_30', 'SL_100', 'SP_100', 'CPPI_100_70', 'TIPP_100_70'] # main table\n",
    "model_names = ['BH_75', 'BH_70', 'BH_65', 'BH_60', 'BH_55', 'BH_50', 'SL_100', 'SP_100', 'CPPI_100_70', 'TIPP_100_70'] # main table\n",
    "\n",
    "\n"
   ]
  },
  {
   "cell_type": "code",
   "execution_count": 8,
   "metadata": {},
   "outputs": [],
   "source": [
    "bear_perform = {}\n",
    "for model_name in model_names:\n",
    "    bear_perform[model_name] = {\n",
    "    'dep':[],\n",
    "    'max':[],\n",
    "    'under':[],\n",
    "    'inc':[],\n",
    "    'beq':[],\n",
    "    'total':[]\n",
    "}"
   ]
  },
  {
   "cell_type": "code",
   "execution_count": 9,
   "metadata": {},
   "outputs": [],
   "source": [
    "# PI_Korea랑은 코드가 좀 다름\n",
    "\n",
    "def get_metric_for_PI(retire_year, k, upper_year, model_name, withrate, const_or_dyna, df, init_wealth, p_val, w_val):\n",
    "    # bequest\n",
    "    p_amounts = p_val['{}_rate{}_{}'.format(model_name, withrate, const_or_dyna)][retire_year]\n",
    "    bequest = p_amounts[12*upper_year]*init_wealth*(1-withrate)/100\n",
    "    \n",
    "    # withdraw_amount\n",
    "    w_amounts = w_val['{}_rate{}_{}'.format(model_name, withrate, const_or_dyna)][retire_year]\n",
    "    withdraw_amount = sum(w_amounts)\n",
    "    \n",
    "    # depletion time\n",
    "    if np.argwhere(p_amounts == 0).size > 0 : # 고갈이 되면\n",
    "        dep_time = np.argwhere(p_amounts == 0)[0][0]\n",
    "    elif np.argwhere(p_amounts == 0).size == 0: # 고갈이 안되면\n",
    "        dep_time = upper_year*12\n",
    "        \n",
    "    # max decline\n",
    "    dec = np.min(p_amounts)/p_amounts[0]\n",
    "    dec = dec - 1\n",
    "    \n",
    "    # underwater duration\n",
    "    start_date = datetime(retire_year, 1, 1)\n",
    "    end_date = start_date + relativedelta(years=upper_year)\n",
    "    \n",
    "    df['Date'] = pd.to_datetime(df['Date'], format='%Y-%m')\n",
    "    df = df[(df['Date'] >= start_date) & (df['Date'] <= end_date)]\n",
    "    \n",
    "    under_count = 0\n",
    "    for i in range(upper_year*12):\n",
    "        if p_amounts[i]*df.iloc[i]['CPI'] < p_amounts[0]*df.iloc[0]['CPI'] :\n",
    "             under_count+= 1\n",
    "        \n",
    "    return bequest / init_wealth * 100, withdraw_amount / init_wealth * 100, dep_time, dec * 100, under_count"
   ]
  },
  {
   "cell_type": "code",
   "execution_count": 10,
   "metadata": {},
   "outputs": [
    {
     "name": "stdout",
     "output_type": "stream",
     "text": [
      "BH_75\n",
      "BH_70\n",
      "BH_65\n",
      "BH_60\n",
      "BH_55\n",
      "BH_50\n",
      "SL_100\n",
      "SP_100\n",
      "CPPI_100_70\n",
      "TIPP_100_70\n"
     ]
    }
   ],
   "source": [
    "init_wealth = 500000\n",
    "withdraw_rate = 0.05\n",
    "k=0\n",
    "const_or_dyna = 'const'\n",
    "upper_year = 35\n",
    "\n",
    "for model_name in model_names:\n",
    "    print(model_name)\n",
    "    for years in bear_year[upper_year]:\n",
    "        for year in years:\n",
    "            res = get_metric_for_PI(year, k, upper_year, model_name, withdraw_rate, const_or_dyna, df, init_wealth, p_val, w_val)\n",
    "            if res[2] < upper_year*12 : #고갈 시점이 upper_year보다 작으면 (이미 고갈이 되면)\n",
    "                bear_perform[model_name]['dep'].append(100)\n",
    "            elif res[2] >= upper_year*12: # 고갈이 안되면\n",
    "                bear_perform[model_name]['dep'].append(0)\n",
    "            bear_perform[model_name]['max'].append(res[3])\n",
    "            bear_perform[model_name]['under'].append(res[4])\n",
    "            bear_perform[model_name]['inc'].append(res[1])\n",
    "            bear_perform[model_name]['beq'].append(res[0])\n",
    "            bear_perform[model_name]['total'].append(res[1] + res[0])\n"
   ]
  },
  {
   "cell_type": "code",
   "execution_count": 11,
   "metadata": {},
   "outputs": [],
   "source": [
    "avg, std, skew, kurto, SR = {}, {}, {}, {}, {}\n",
    "ASR, MDD, AvDD, VaR, ES, semi, Omega, Omega2, Omega3 = {}, {}, {}, {}, {}, {}, {}, {}, {}\n",
    "E, res, ret_sim, ret_sim_y = {}, {}, {}, {}\n",
    "\n",
    "log_u = {}\n",
    "quad_u_01 = {}\n",
    "quad_u_05 = {}\n",
    "quad_u_10 = {}\n",
    "power_u_01 = {}\n",
    "power_u_05 = {}\n",
    "power_u_09 = {}\n",
    "exp_u_01 = {}\n",
    "exp_u_05 = {}\n",
    "exp_u_10 = {}\n",
    "exp_u_50 = {}\n",
    "\n",
    "\n",
    "MPV_1 = {}\n",
    "MPV_225 = {}\n",
    "CPV = {}\n",
    "\n",
    "\n",
    "for items in list(p_val.keys()):\n",
    "    item = items.split('_')[0] + '_' + items.split('_')[1]\n",
    "    ret_sim[item], ret_sim_y[item] = [], []\n",
    "    avg[item], std[item] = [], []\n",
    "    skew[item], kurto[item] = [], []\n",
    "    MDD[item], AvDD[item] = [], []\n",
    "    SR[item] = []\n",
    "    VaR[item], ES[item], semi[item] = [], [], []\n",
    "    Omega[item], Omega2[item], Omega3[item] = [], [], []"
   ]
  },
  {
   "cell_type": "code",
   "execution_count": 12,
   "metadata": {},
   "outputs": [],
   "source": [
    "res_final = {}\n",
    "for items in list(p_val.keys()):\n",
    "    item = items.split('_')[0] + '_' + items.split('_')[1]\n",
    "    res_final[item] = [pd.Series(i[1]) for i in list(p_val[items].items())]\n"
   ]
  },
  {
   "cell_type": "code",
   "execution_count": 13,
   "metadata": {
    "scrolled": true
   },
   "outputs": [],
   "source": [
    "\n",
    "for k in range(len(bear_year[35][0])):    \n",
    "    for items in list(p_val.keys()):\n",
    "        item = items.split('_')[0] + '_' + items.split('_')[1]\n",
    "        res[item] = res_final[item][k]\n",
    "        ret_m = (res[item] - res[item].shift(1)) / (res[item].shift(1)+0.0000000000000001)\n",
    "        ret_m = ret_m.iloc[1:]\n",
    "#         ret_sim[item].extend(list(ret_m*12))\n",
    "        \n",
    "        avg_= np.mean(ret_m) * 12\n",
    "        std_ = np.std(ret_m) * np.sqrt(12)\n",
    "        avg[item].append(avg_)\n",
    "        std[item].append(std_)\n",
    "        skew_ = scipy.stats.skew(ret_m)\n",
    "        kurto_ = scipy.stats.kurtosis(ret_m)\n",
    "        skew[item].append(skew_)\n",
    "        kurto[item].append(kurto_)\n",
    "        \n",
    "        SR_ = (avg_ - rf) / (std_+0.0000000000000001)\n",
    "        SR[item].append(SR_)\n",
    "        \n",
    "        \n",
    "        MDD[item].append(pi.MDD(res[item]))\n",
    "        AvDD[item].append(pi.AvDD(res[item]))\n",
    "        \n",
    "        VaR[item].append(pi.VaR(ret_m, level=5, freq='Y'))\n",
    "        ES[item].append(pi.ES(ret_m, level=5, freq='Y'))\n",
    "        semi[item].append(pi.semi(ret_m, freq='Y'))\n",
    "        \n",
    "        Omega[item].append(pi.Omega(ret_m, threshold=0, freq='Y'))\n",
    "        Omega2[item].append(pi.Omega(ret_m, threshold=-0.05, freq='Y'))\n",
    "        \n",
    "\n",
    "        \n",
    "#         ret_sim_y[item].append((res[item].iloc[-1] - res[item].iloc[0])/res[item].iloc[0])\n",
    "        \n"
   ]
  },
  {
   "cell_type": "code",
   "execution_count": 14,
   "metadata": {},
   "outputs": [],
   "source": [
    "for items in list(p_val.keys()):\n",
    "    item = items.split('_')[0] + '_' + items.split('_')[1]\n",
    "    ret_sim[item] = pd.Series(ret_sim[item])\n",
    "    ret_sim_y[item] = pd.Series(ret_sim_y[item])\n",
    "    \n",
    "    # 매달 계산한걸 평균\n",
    "    avg[item] = np.array(avg[item])\n",
    "    std[item] = np.array(std[item])\n",
    "    \n",
    "    skew[item] = np.array(skew[item])#ret_sim[item].skew()\n",
    "    kurto[item] = np.array(kurto[item])#ret_sim[item].kurtosis()\n",
    "    SR[item] = np.array(SR[item])#(avg[item].mean() - rf) / (std[item].mean() + 0.0000000000000001)\n",
    "    \n",
    "    MDD[item] = np.array(MDD[item])\n",
    "    AvDD[item] = np.array(AvDD[item])\n",
    "    \n",
    "    VaR[item] = np.array(VaR[item])#pi.VaR(ret_sim_y[item], level=5, freq='Y')\n",
    "    ES[item] = np.array(ES[item])#pi.ES(ret_sim_y[item], level=5, freq='Y')\n",
    "    semi[item] = np.array(semi[item])#pi.semi(ret_sim_y[item], freq='Y')\n",
    "    \n",
    "    Omega[item] = np.array(Omega[item])#pi.Omega(ret_sim[item], threshold=0, freq='Y')\n",
    "    Omega2[item] = np.array(Omega2[item])#pi.Omega(ret_sim[item], threshold=0, freq='Y')\n",
    "    \n",
    "\n"
   ]
  },
  {
   "cell_type": "code",
   "execution_count": 15,
   "metadata": {},
   "outputs": [],
   "source": [
    "for items in list(bear_perform.keys()):\n",
    "    item = items.split('_')[0] + '_' + items.split('_')[1]\n",
    "    \n",
    "    bear_perform[items]['avg'] = avg[item]\n",
    "    bear_perform[items]['std'] = std[item]\n",
    "    bear_perform[items]['skew'] = skew[item]\n",
    "    bear_perform[items]['kurto'] = kurto[item]\n",
    "    bear_perform[items]['SR'] = SR[item]\n",
    "    bear_perform[items]['MDD'] = MDD[item]\n",
    "    bear_perform[items]['AvDD'] = AvDD[item]\n",
    "    bear_perform[items]['VaR'] = VaR[item]\n",
    "    bear_perform[items]['ES'] = ES[item]\n",
    "    bear_perform[items]['semi'] = semi[item]\n",
    "    bear_perform[items]['Omega'] = Omega[item]\n",
    "    bear_perform[items]['Omega2'] = Omega2[item]\n",
    "    \n",
    "    "
   ]
  },
  {
   "cell_type": "code",
   "execution_count": 16,
   "metadata": {},
   "outputs": [],
   "source": [
    "# Define all dictionaries and indices we want to calculate mean for\n",
    "dicts = [bear_perform]\n",
    "indices = model_names\n",
    "\n",
    "# Use list comprehension to compute all means at once\n",
    "# Store results in lists\n",
    "a = [np.round(np.mean(d[i]['dep']),1) for i in indices for d in dicts]\n",
    "b = [np.round(np.mean(d[i]['max']),1) for i in indices for d in dicts]\n",
    "c = [np.round(np.mean(d[i]['under']),1) for i in indices for d in dicts]\n",
    "d = [np.round(np.mean(d[i]['inc']),1) for i in indices for d in dicts]\n",
    "e = [np.round(np.mean(d[i]['beq']),1) for i in indices for d in dicts]\n",
    "f = [np.round(np.mean(d[i]['total']),1) for i in indices for d in dicts]\n",
    "\n",
    "d1 = [np.round(np.mean(d[i]['avg'])*100,2) for i in indices for d in dicts]\n",
    "d2 = [np.round(np.mean(d[i]['std'])*100,1) for i in indices for d in dicts]\n",
    "d3 = [np.round(np.mean(d[i]['skew']),2) for i in indices for d in dicts]\n",
    "d4 = [np.round(np.mean(d[i]['SR']),2) for i in indices for d in dicts]\n",
    "d5 = [np.round(np.mean(d[i]['MDD'])*100,1) for i in indices for d in dicts]\n",
    "d6 = [np.round(np.mean(d[i]['AvDD'])*100,1) for i in indices for d in dicts]\n",
    "d7 = [np.round(np.mean(d[i]['VaR'])*100,1) for i in indices for d in dicts]\n",
    "d8 = [np.round(np.mean(d[i]['ES'])*100,1) for i in indices for d in dicts]\n",
    "d9 = [np.round(np.mean(d[i]['semi'])*100,1) for i in indices for d in dicts]\n",
    "d10 = [np.round(np.mean(d[i]['Omega']),2) for i in indices for d in dicts]\n",
    "d11 = [np.round(np.mean(d[i]['Omega2']),1) for i in indices for d in dicts]\n",
    "\n",
    "\n",
    "\n",
    "\n",
    "# If you need to access the results separately, you can do so by indexing the lists:\n",
    "# For example, a1 corresponds to a_results[0], a2 corresponds to a_results[1], etc."
   ]
  },
  {
   "cell_type": "code",
   "execution_count": 17,
   "metadata": {},
   "outputs": [
    {
     "name": "stdout",
     "output_type": "stream",
     "text": [
      "Depletion Prob. (\\%) & & 11.8 & 11.8 & 11.8 & 11.8 & 11.8 & 20.6 && 50.0 & \\textbf{5.9} & \\textbf{5.9} & 88.2\\\\\n",
      "Max. decline (\\%) & & -30.5 & -31.8 & -33.7 & -37.6 & -43.7 & -51.3 && -68.9 & \\textbf{-26.3} & \\underline{-29.4} & -99.4\\\\\n",
      "Underwater duration (month) & & \\underline{44.4} & 46.0 & 48.9 & 56.5 & 77.2 & 91.1 && 199.3 & \\textbf{23.3} & 45.8 & 348.4\\\\\n",
      "Total withdrawal and Bequest (\\%) & & \\underline{361.9} & 325.7 & 293.3 & 264.4 & 238.8 & 216.1 && 172.5 & 351.5 & \\textbf{363.6} & 108.8\\\\\n",
      "Omega ratio (0\\%) & & 1.14 & 1.1 & 1.06 & 1.01 & 0.95 & 0.87 && 0.68 & \\underline{1.17} & \\textbf{1.2} & 0.13\\\\\n",
      "Omega ratio (-5\\%) & & 36.1 & 41.9 & 48.6 & 56.0 & 61.6 & \\underline{67.4} && 24.4 & 47.9 & \\textbf{67.7} & 7.3\\\\\n"
     ]
    }
   ],
   "source": [
    "def format_values(lst, highest_best=True):\n",
    "    if highest_best:\n",
    "        best_val = max(lst)\n",
    "    else:\n",
    "        best_val = min(lst)\n",
    "\n",
    "    sorted_lst = sorted(lst, reverse=highest_best)\n",
    "    second_best_val = sorted_lst[1] if len(sorted_lst) > 1 else None\n",
    "\n",
    "    formatted_lst = []\n",
    "    for val in lst:\n",
    "        if val == best_val:\n",
    "            formatted_lst.append(r\"\\textbf{\" + str(val) + \"}\")\n",
    "        elif val == second_best_val:\n",
    "            formatted_lst.append(r\"\\underline{\" + str(val) + \"}\")\n",
    "        else:\n",
    "            formatted_lst.append(str(val))\n",
    "\n",
    "    return formatted_lst\n",
    "\n",
    "# ... (rest of your code remains unchanged)\n",
    "\n",
    "formatted_a = format_values(a, highest_best=False)\n",
    "formatted_b = format_values(b)\n",
    "formatted_c = format_values(c, highest_best=False)\n",
    "formatted_f = format_values(f)\n",
    "formatted_d10 = format_values(d10)\n",
    "formatted_d11 = format_values(d11)\n",
    "\n",
    "# The print statements remain the same.\n",
    "\n",
    "n_bnh = 6\n",
    "print('Depletion Prob. (\\%) & & ' + ' & '.join(['{}'] * n_bnh).format(*formatted_a[:n_bnh]) + ' && ' + ' & '.join(['{}'] * (len(formatted_a) - n_bnh)).format(*formatted_a[n_bnh:]) + '\\\\\\\\')\n",
    "print('Max. decline (\\%) & & ' + ' & '.join(['{}'] * n_bnh).format(*formatted_b[:n_bnh]) + ' && ' + ' & '.join(['{}'] * (len(formatted_b) - n_bnh)).format(*formatted_b[n_bnh:])+ '\\\\\\\\')\n",
    "print('Underwater duration (month) & & ' + ' & '.join(['{}'] * n_bnh).format(*formatted_c[:n_bnh]) + ' && ' + ' & '.join(['{}'] * (len(formatted_c) - n_bnh)).format(*formatted_c[n_bnh:])+ '\\\\\\\\')\n",
    "print('Total withdrawal and Bequest (\\%) & & ' + ' & '.join(['{}'] * n_bnh).format(*formatted_f[:n_bnh]) + ' && ' + ' & '.join(['{}'] * (len(formatted_f) - n_bnh)).format(*formatted_f[n_bnh:])+ '\\\\\\\\')\n",
    "\n",
    "print('Omega ratio (0\\%) & & ' + ' & '.join(['{}'] * n_bnh).format(*formatted_d10[:n_bnh]) + ' && ' + ' & '.join(['{}'] * (len(formatted_d10) - n_bnh)).format(*formatted_d10[n_bnh:])+ '\\\\\\\\')\n",
    "print('Omega ratio (-5\\%) & & ' + ' & '.join(['{}'] * n_bnh).format(*formatted_d11[:n_bnh]) + ' && ' + ' & '.join(['{}'] * (len(formatted_d11) - n_bnh)).format(*formatted_d11[n_bnh:])+ '\\\\\\\\')\n"
   ]
  }
 ],
 "metadata": {
  "kernelspec": {
   "display_name": "Python 3",
   "language": "python",
   "name": "python3"
  },
  "language_info": {
   "codemirror_mode": {
    "name": "ipython",
    "version": 3
   },
   "file_extension": ".py",
   "mimetype": "text/x-python",
   "name": "python",
   "nbconvert_exporter": "python",
   "pygments_lexer": "ipython3",
   "version": "3.8.3"
  }
 },
 "nbformat": 4,
 "nbformat_minor": 4
}
