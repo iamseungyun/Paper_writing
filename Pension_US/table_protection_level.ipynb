{
 "cells": [
  {
   "cell_type": "code",
   "execution_count": 1,
   "metadata": {},
   "outputs": [],
   "source": [
    "import pandas as pd\n",
    "import numpy as np\n",
    "from pandas import Series, DataFrame\n",
    "from datetime import datetime, timedelta\n",
    "from dateutil.relativedelta import relativedelta\n",
    "from matplotlib import pyplot as plt\n",
    "import pickle\n",
    "import sys\n",
    "sys.path.append('./../')\n",
    "sys.path.append('./../../')\n",
    "import Portfolio_value as pv\n",
    "import portfolio_insurance as pi\n",
    "import scipy"
   ]
  },
  {
   "cell_type": "code",
   "execution_count": 2,
   "metadata": {},
   "outputs": [],
   "source": [
    "df =  pd.read_csv('./data/snp2.csv')"
   ]
  },
  {
   "cell_type": "code",
   "execution_count": 3,
   "metadata": {},
   "outputs": [],
   "source": [
    "rf = df['RF'].mean() * 12"
   ]
  },
  {
   "cell_type": "code",
   "execution_count": 4,
   "metadata": {},
   "outputs": [],
   "source": [
    "p_val = np.load('./result/protection_level/p_val/p_val_0.05.npy', allow_pickle=True)\n",
    "w_val = np.load('./result/protection_level/w_val/w_val_0.05.npy', allow_pickle=True)\n",
    "\n",
    "p_val = p_val.reshape(1)\n",
    "p_val = p_val[0]\n",
    "\n",
    "w_val = w_val.reshape(1)\n",
    "w_val = w_val[0]"
   ]
  },
  {
   "cell_type": "code",
   "execution_count": 5,
   "metadata": {},
   "outputs": [],
   "source": [
    "bear_year = np.load('./result/year/bear_year.npy', allow_pickle=True).reshape(1)[0]\n"
   ]
  },
  {
   "cell_type": "code",
   "execution_count": 6,
   "metadata": {},
   "outputs": [],
   "source": [
    "upper_years = [35]"
   ]
  },
  {
   "cell_type": "code",
   "execution_count": 7,
   "metadata": {},
   "outputs": [],
   "source": [
    "# CPPI_100은 20보다 큰 수에서 좀 찾아보기\n",
    "# TIPP_80 이하가 되면 좋은데...\n"
   ]
  },
  {
   "cell_type": "code",
   "execution_count": 8,
   "metadata": {},
   "outputs": [],
   "source": [
    "\n",
    "\n",
    "# model_names = ['BH_100', 'BH_90', 'BH_80', 'BH_70', 'BH_60', 'BH_50', 'SL_95', 'SP_95', 'CPPI_95_10', 'TIPP_95_40']\n",
    "# model_names = ['BH_100', 'BH_90', 'BH_80', 'BH_70', 'BH_60', 'BH_50', 'SL_90', 'SP_90', 'CPPI_90_5', 'TIPP_90_30']\n",
    "\n",
    "\n",
    "\n",
    "\n",
    "\n",
    "\n"
   ]
  },
  {
   "cell_type": "code",
   "execution_count": 9,
   "metadata": {},
   "outputs": [],
   "source": [
    "bear_perform = {}\n",
    "for model_name in model_names:\n",
    "    bear_perform[model_name] = {\n",
    "    'dep':[],\n",
    "    'max':[],\n",
    "    'under':[],\n",
    "    'inc':[],\n",
    "    'beq':[],\n",
    "    'total':[]\n",
    "}"
   ]
  },
  {
   "cell_type": "code",
   "execution_count": 10,
   "metadata": {},
   "outputs": [],
   "source": [
    "# PI_Korea랑은 코드가 좀 다름\n",
    "\n",
    "def get_metric_for_PI(retire_year, k, upper_year, model_name, withrate, const_or_dyna, df, init_wealth, p_val, w_val):\n",
    "    # bequest\n",
    "    p_amounts = p_val['{}_rate{}_{}'.format(model_name, withrate, const_or_dyna)][retire_year]\n",
    "    bequest = p_amounts[12*upper_year]*init_wealth*(1-withrate)/100\n",
    "    \n",
    "    # withdraw_amount\n",
    "    w_amounts = w_val['{}_rate{}_{}'.format(model_name, withrate, const_or_dyna)][retire_year]\n",
    "    withdraw_amount = sum(w_amounts)\n",
    "    \n",
    "    # depletion time\n",
    "    if np.argwhere(p_amounts == 0).size > 0 : # 고갈이 되면\n",
    "        dep_time = np.argwhere(p_amounts == 0)[0][0]\n",
    "    elif np.argwhere(p_amounts == 0).size == 0: # 고갈이 안되면\n",
    "        dep_time = upper_year*12\n",
    "        \n",
    "    # max decline\n",
    "    dec = np.min(p_amounts)/p_amounts[0]\n",
    "    dec = dec - 1\n",
    "    \n",
    "    # underwater duration\n",
    "    start_date = datetime(retire_year, 1, 1)\n",
    "    end_date = start_date + relativedelta(years=upper_year)\n",
    "    \n",
    "    df['Date'] = pd.to_datetime(df['Date'], format='%Y-%m')\n",
    "    df = df[(df['Date'] >= start_date) & (df['Date'] <= end_date)]\n",
    "    \n",
    "    under_count = 0\n",
    "    for i in range(upper_year*12):\n",
    "        if p_amounts[i]*df.iloc[i]['CPI'] < p_amounts[0]*df.iloc[0]['CPI'] :\n",
    "             under_count+= 1\n",
    "        \n",
    "    return bequest / init_wealth * 100, withdraw_amount / init_wealth * 100, dep_time, dec * 100, under_count"
   ]
  },
  {
   "cell_type": "code",
   "execution_count": 11,
   "metadata": {},
   "outputs": [
    {
     "name": "stdout",
     "output_type": "stream",
     "text": [
      "BH_100\n",
      "BH_90\n",
      "BH_80\n",
      "BH_70\n",
      "BH_60\n",
      "BH_50\n",
      "SL_95\n",
      "SP_95\n",
      "CPPI_95_10\n",
      "TIPP_95_40\n"
     ]
    }
   ],
   "source": [
    "init_wealth = 500000\n",
    "withdraw_rate = 0.05\n",
    "k=0\n",
    "const_or_dyna = 'const'\n",
    "upper_year = 35\n",
    "\n",
    "for model_name in model_names:\n",
    "    print(model_name)\n",
    "    for years in bear_year[upper_year]:\n",
    "        for year in years:\n",
    "            res = get_metric_for_PI(year, k, upper_year, model_name, withdraw_rate, const_or_dyna, df, init_wealth, p_val, w_val)\n",
    "            if res[2] < upper_year*12 : #고갈 시점이 upper_year보다 작으면 (이미 고갈이 되면)\n",
    "                bear_perform[model_name]['dep'].append(100)\n",
    "            elif res[2] >= upper_year*12: # 고갈이 안되면\n",
    "                bear_perform[model_name]['dep'].append(0)\n",
    "            bear_perform[model_name]['max'].append(res[3])\n",
    "            bear_perform[model_name]['under'].append(res[4])\n",
    "            bear_perform[model_name]['inc'].append(res[1])\n",
    "            bear_perform[model_name]['beq'].append(res[0])\n",
    "            bear_perform[model_name]['total'].append(res[1] + res[0])\n"
   ]
  },
  {
   "cell_type": "code",
   "execution_count": 12,
   "metadata": {},
   "outputs": [],
   "source": [
    "avg, std, skew, kurto, SR = {}, {}, {}, {}, {}\n",
    "ASR, MDD, AvDD, VaR, ES, semi, Omega, Omega2, Omega3 = {}, {}, {}, {}, {}, {}, {}, {}, {}\n",
    "E, res, ret_sim, ret_sim_y = {}, {}, {}, {}\n",
    "\n",
    "log_u = {}\n",
    "quad_u_01 = {}\n",
    "quad_u_05 = {}\n",
    "quad_u_10 = {}\n",
    "power_u_01 = {}\n",
    "power_u_05 = {}\n",
    "power_u_09 = {}\n",
    "exp_u_01 = {}\n",
    "exp_u_05 = {}\n",
    "exp_u_10 = {}\n",
    "exp_u_50 = {}\n",
    "\n",
    "\n",
    "MPV_1 = {}\n",
    "MPV_225 = {}\n",
    "CPV = {}\n",
    "\n",
    "\n",
    "for items in list(p_val.keys()):\n",
    "    item = items.split('_')[0] + '_' + items.split('_')[1]\n",
    "    ret_sim[item], ret_sim_y[item] = [], []\n",
    "    avg[item], std[item] = [], []\n",
    "    skew[item], kurto[item] = [], []\n",
    "    MDD[item], AvDD[item] = [], []\n",
    "    SR[item] = []\n",
    "    VaR[item], ES[item], semi[item] = [], [], []\n",
    "    Omega[item], Omega2[item], Omega3[item] = [], [], []"
   ]
  },
  {
   "cell_type": "code",
   "execution_count": 13,
   "metadata": {},
   "outputs": [],
   "source": [
    "res_final = {}\n",
    "for items in list(p_val.keys()):\n",
    "    item = items.split('_')[0] + '_' + items.split('_')[1]\n",
    "    res_final[item] = [pd.Series(i[1]) for i in list(p_val[items].items())]\n"
   ]
  },
  {
   "cell_type": "code",
   "execution_count": 14,
   "metadata": {
    "scrolled": true
   },
   "outputs": [],
   "source": [
    "\n",
    "for k in range(len(bear_year[35][0])):    \n",
    "    for items in list(p_val.keys()):\n",
    "        item = items.split('_')[0] + '_' + items.split('_')[1]\n",
    "        res[item] = res_final[item][k]\n",
    "        ret_m = (res[item] - res[item].shift(1)) / (res[item].shift(1)+0.0000000000000001)\n",
    "        ret_m = ret_m.iloc[1:]\n",
    "#         ret_sim[item].extend(list(ret_m*12))\n",
    "        \n",
    "        avg_= np.mean(ret_m) * 12\n",
    "        std_ = np.std(ret_m) * np.sqrt(12)\n",
    "        avg[item].append(avg_)\n",
    "        std[item].append(std_)\n",
    "        skew_ = scipy.stats.skew(ret_m)\n",
    "        kurto_ = scipy.stats.kurtosis(ret_m)\n",
    "        skew[item].append(skew_)\n",
    "        kurto[item].append(kurto_)\n",
    "        \n",
    "        SR_ = (avg_ - rf) / (std_+0.0000000000000001)\n",
    "        SR[item].append(SR_)\n",
    "        \n",
    "        \n",
    "        MDD[item].append(pi.MDD(res[item]))\n",
    "        AvDD[item].append(pi.AvDD(res[item]))\n",
    "        \n",
    "        VaR[item].append(pi.VaR(ret_m, level=5, freq='Y'))\n",
    "        ES[item].append(pi.ES(ret_m, level=5, freq='Y'))\n",
    "        semi[item].append(pi.semi(ret_m, freq='Y'))\n",
    "        \n",
    "        Omega[item].append(pi.Omega(ret_m, threshold=0, freq='Y'))\n",
    "        Omega2[item].append(pi.Omega(ret_m, threshold=-0.05, freq='Y'))\n",
    "        \n",
    "\n",
    "        \n",
    "#         ret_sim_y[item].append((res[item].iloc[-1] - res[item].iloc[0])/res[item].iloc[0])\n",
    "        \n"
   ]
  },
  {
   "cell_type": "code",
   "execution_count": 15,
   "metadata": {},
   "outputs": [
    {
     "name": "stderr",
     "output_type": "stream",
     "text": [
      "<ipython-input-15-05abcc511f8f>:3: FutureWarning: The default dtype for empty Series will be 'object' instead of 'float64' in a future version. Specify a dtype explicitly to silence this warning.\n",
      "  ret_sim[item] = pd.Series(ret_sim[item])\n",
      "<ipython-input-15-05abcc511f8f>:4: FutureWarning: The default dtype for empty Series will be 'object' instead of 'float64' in a future version. Specify a dtype explicitly to silence this warning.\n",
      "  ret_sim_y[item] = pd.Series(ret_sim_y[item])\n"
     ]
    }
   ],
   "source": [
    "for items in list(p_val.keys()):\n",
    "    item = items.split('_')[0] + '_' + items.split('_')[1]\n",
    "    ret_sim[item] = pd.Series(ret_sim[item])\n",
    "    ret_sim_y[item] = pd.Series(ret_sim_y[item])\n",
    "    \n",
    "    # 매달 계산한걸 평균\n",
    "    avg[item] = np.array(avg[item])\n",
    "    std[item] = np.array(std[item])\n",
    "    \n",
    "    skew[item] = np.array(skew[item])#ret_sim[item].skew()\n",
    "    kurto[item] = np.array(kurto[item])#ret_sim[item].kurtosis()\n",
    "    SR[item] = np.array(SR[item])#(avg[item].mean() - rf) / (std[item].mean() + 0.0000000000000001)\n",
    "    \n",
    "    MDD[item] = np.array(MDD[item])\n",
    "    AvDD[item] = np.array(AvDD[item])\n",
    "    \n",
    "    VaR[item] = np.array(VaR[item])#pi.VaR(ret_sim_y[item], level=5, freq='Y')\n",
    "    ES[item] = np.array(ES[item])#pi.ES(ret_sim_y[item], level=5, freq='Y')\n",
    "    semi[item] = np.array(semi[item])#pi.semi(ret_sim_y[item], freq='Y')\n",
    "    \n",
    "    Omega[item] = np.array(Omega[item])#pi.Omega(ret_sim[item], threshold=0, freq='Y')\n",
    "    Omega2[item] = np.array(Omega2[item])#pi.Omega(ret_sim[item], threshold=0, freq='Y')\n",
    "    \n",
    "\n"
   ]
  },
  {
   "cell_type": "code",
   "execution_count": 16,
   "metadata": {},
   "outputs": [],
   "source": [
    "for items in list(bear_perform.keys()):\n",
    "    item = items.split('_')[0] + '_' + items.split('_')[1]\n",
    "    \n",
    "    bear_perform[items]['avg'] = avg[item]\n",
    "    bear_perform[items]['std'] = std[item]\n",
    "    bear_perform[items]['skew'] = skew[item]\n",
    "    bear_perform[items]['kurto'] = kurto[item]\n",
    "    bear_perform[items]['SR'] = SR[item]\n",
    "    bear_perform[items]['MDD'] = MDD[item]\n",
    "    bear_perform[items]['AvDD'] = AvDD[item]\n",
    "    bear_perform[items]['VaR'] = VaR[item]\n",
    "    bear_perform[items]['ES'] = ES[item]\n",
    "    bear_perform[items]['semi'] = semi[item]\n",
    "    bear_perform[items]['Omega'] = Omega[item]\n",
    "    bear_perform[items]['Omega2'] = Omega2[item]\n",
    "    \n",
    "    "
   ]
  },
  {
   "cell_type": "code",
   "execution_count": 17,
   "metadata": {},
   "outputs": [],
   "source": [
    "# Define all dictionaries and indices we want to calculate mean for\n",
    "dicts = [bear_perform]\n",
    "indices = model_names\n",
    "\n",
    "# Use list comprehension to compute all means at once\n",
    "# Store results in lists\n",
    "a = [np.round(np.mean(d[i]['dep']),1) for i in indices for d in dicts]\n",
    "b = [np.round(np.mean(d[i]['max']),1) for i in indices for d in dicts]\n",
    "c = [np.round(np.mean(d[i]['under']),1) for i in indices for d in dicts]\n",
    "d = [np.round(np.mean(d[i]['inc']),1) for i in indices for d in dicts]\n",
    "e = [np.round(np.mean(d[i]['beq']),1) for i in indices for d in dicts]\n",
    "f = [np.round(np.mean(d[i]['total']),1) for i in indices for d in dicts]\n",
    "\n",
    "d1 = [np.round(np.mean(d[i]['avg'])*100,2) for i in indices for d in dicts]\n",
    "d2 = [np.round(np.mean(d[i]['std'])*100,1) for i in indices for d in dicts]\n",
    "d3 = [np.round(np.mean(d[i]['skew']),2) for i in indices for d in dicts]\n",
    "d4 = [np.round(np.mean(d[i]['SR']),2) for i in indices for d in dicts]\n",
    "d5 = [np.round(np.mean(d[i]['MDD'])*100,1) for i in indices for d in dicts]\n",
    "d6 = [np.round(np.mean(d[i]['AvDD'])*100,1) for i in indices for d in dicts]\n",
    "d7 = [np.round(np.mean(d[i]['VaR'])*100,1) for i in indices for d in dicts]\n",
    "d8 = [np.round(np.mean(d[i]['ES'])*100,1) for i in indices for d in dicts]\n",
    "d9 = [np.round(np.mean(d[i]['semi'])*100,1) for i in indices for d in dicts]\n",
    "d10 = [np.round(np.mean(d[i]['Omega']),2) for i in indices for d in dicts]\n",
    "d11 = [np.round(np.mean(d[i]['Omega2']),1) for i in indices for d in dicts]\n",
    "\n",
    "\n",
    "\n",
    "\n",
    "# If you need to access the results separately, you can do so by indexing the lists:\n",
    "# For example, a1 corresponds to a_results[0], a2 corresponds to a_results[1], etc."
   ]
  },
  {
   "cell_type": "code",
   "execution_count": 18,
   "metadata": {},
   "outputs": [
    {
     "name": "stdout",
     "output_type": "stream",
     "text": [
      "['BH_100', 'BH_90', 'BH_80', 'BH_70', 'BH_60', 'BH_50', 'SL_95', 'SP_95', 'CPPI_95_10', 'TIPP_95_40']\n",
      "\\textit{Pension-level performance} &&&&&&&&&&&&\\\\\n",
      "\\hspace{3mm} Depletion Prob. (\\%) & & 31.8 & 31.8 & 36.4 & 40.9 & 50.0 & 63.6 && 72.7 & 13.6 & 36.4 & 81.8\\\\\n",
      "\\hspace{3mm} Max. decline (\\%) & & -66.5 & -66.9 & -67.5 & -70.6 & -75.3 & -84.3 && -83.0 & -59.9 & -72.0 & -92.8\\\\\n",
      "\\hspace{3mm} Underwater duration (month) & & 191.8 & 196.3 & 198.3 & 210.9 & 233.1 & 267.7 && 269.2 & 131.0 & 170.1 & 315.0\\\\\n",
      "\\hspace{3mm} Total withdrawal (\\%) & & 132.0 & 134.2 & 135.5 & 136.1 & 135.8 & 133.3 && 111.1 & 146.1 & 134.6 & 100.5\\\\\n",
      "\\hspace{3mm} Bequest (\\%) & & 199.4 & 146.3 & 102.4 & 66.8 & 39.2 & 19.7 && 48.8 & 122.5 & 46.3 & 8.8\\\\\n",
      "\\hspace{3mm} Total withdrawal + Bequest (\\%) & & 331.4 & 280.5 & 237.9 & 202.9 & 175.1 & 153.0 && 159.9 & 268.6 & 180.8 & 109.3\\\\\n",
      "\\textit{Portfolio-level performance} &&&&&&&&&&&&\\\\\n",
      "\\hspace{3mm} Average return (\\%) & & -1.35 & -2.17 & -3.27 & -4.42 & -6.29 & -8.05 && -7.35 & -1.15 & -4.77 & -9.77\\\\\n",
      "\\hspace{3mm} Volatility (\\%) & & 20.9 & 20.0 & 19.2 & 18.6 & 19.4 & 20.4 && 22.2 & 15.4 & 17.0 & 22.6\\\\\n",
      "\\hspace{3mm} Skewness & & -2.19 & -2.37 & -2.84 & -3.37 & -4.42 & -5.82 && -6.21 & -1.75 & -3.97 & -7.88\\\\\n",
      "\\hspace{3mm} Sharpe ratio & & -0.17 & -0.22 & -0.28 & -0.36 & -0.45 & -0.54 && -0.43 & -0.24 & -0.43 & -0.57\\\\\n",
      "\\textit{Downside risk} &&&&&&&&&&&&\\\\\n",
      "\\hspace{3mm} MDD (\\%) & & -76.3 & -75.2 & -75.1 & -76.2 & -80.6 & -85.7 && -86.2 & -64.8 & -74.1 & -94.4\\\\\n",
      "\\hspace{3mm} AvDD (\\%) & & -45.9 & -45.2 & -45.4 & -46.5 & -49.0 & -52.7 && -61.8 & -35.3 & -47.2 & -68.0\\\\\n",
      "\\hspace{3mm} VaR 5\\% (\\%) & & -8.9 & -8.5 & -8.1 & -7.7 & -7.3 & -6.7 && -7.6 & -7.3 & -7.1 & -6.6\\\\\n",
      "\\hspace{3mm} ES 5\\% (\\%) & & -15.8 & -15.4 & -15.2 & -15.1 & -16.2 & -17.2 && -19.0 & -12.2 & -14.3 & -19.6\\\\\n",
      "\\hspace{3mm} Semideviation (\\%) & & 6.6 & 6.5 & 6.6 & 6.7 & 7.8 & 9.2 && 11.3 & 4.4 & 7.1 & 13.7\\\\\n",
      "\\hspace{3mm} Omega ratio (0) & & 0.97 & 0.94 & 0.89 & 0.82 & 0.72 & 0.61 && 0.63 & 0.98 & 0.76 & 0.42\\\\\n",
      "\\hspace{3mm} Omega ratio (-5\\%) & & 11.5 & 13.4 & 15.7 & 18.2 & 19.8 & 18.3 && 11.7 & 20.5 & 21.0 & 10.9\\\\\n"
     ]
    }
   ],
   "source": [
    "# print('&& 100/0 & 90/10 & 80/20 & 70/30 & 60/40 & 50/50 & & SL & SP & CPPI & TIPP \\\\\\\\ \\\\hline')\n",
    "print(model_names)\n",
    "print('\\\\textit{Pension-level performance} &&&&&&&&&&&&\\\\\\\\')\n",
    "print('\\hspace{3mm} Depletion Prob. (\\%) & & ' + ' & '.join(['{}'] * 6).format(*(a[:6])) + ' && ' + ' & '.join(['{}'] * (len(a) - 6)).format(*(a[6:])) + '\\\\\\\\')\n",
    "print('\\hspace{3mm} Max. decline (\\%) & & ' + ' & '.join(['{}'] * 6).format(*(b[:6])) + ' && ' + ' & '.join(['{}'] * (len(b) - 6)).format(*(b[6:]))+ '\\\\\\\\')\n",
    "print('\\hspace{3mm} Underwater duration (month) & & ' + ' & '.join(['{}'] * 6).format(*(c[:6])) + ' && ' + ' & '.join(['{}'] * (len(c) - 6)).format(*(c[6:]))+ '\\\\\\\\')\n",
    "print('\\hspace{3mm} Total withdrawal (\\%) & & ' + ' & '.join(['{}'] * 6).format(*(d[:6])) + ' && ' + ' & '.join(['{}'] * (len(d) - 6)).format(*(d[6:]))+ '\\\\\\\\')\n",
    "print('\\hspace{3mm} Bequest (\\%) & & ' + ' & '.join(['{}'] * 6).format(*(e[:6])) + ' && ' + ' & '.join(['{}'] * (len(e) - 6)).format(*(e[6:]))+ '\\\\\\\\')\n",
    "print('\\hspace{3mm} Total withdrawal + Bequest (\\%) & & ' + ' & '.join(['{}'] * 6).format(*(f[:6])) + ' && ' + ' & '.join(['{}'] * (len(f) - 6)).format(*(f[6:]))+ '\\\\\\\\')\n",
    "\n",
    "print('\\\\textit{Portfolio-level performance} &&&&&&&&&&&&\\\\\\\\')\n",
    "print('\\hspace{3mm} Average return (\\%) & & ' + ' & '.join(['{}'] * 6).format(*(d1[:6])) + ' && ' + ' & '.join(['{}'] * (len(d1) - 6)).format(*(d1[6:]))+ '\\\\\\\\')\n",
    "print('\\hspace{3mm} Volatility (\\%) & & ' + ' & '.join(['{}'] * 6).format(*(d2[:6])) + ' && ' + ' & '.join(['{}'] * (len(d2) - 6)).format(*(d2[6:]))+ '\\\\\\\\')\n",
    "print('\\hspace{3mm} Skewness & & ' + ' & '.join(['{}'] * 6).format(*(d3[:6])) + ' && ' + ' & '.join(['{}'] * (len(d3) - 6)).format(*(d3[6:]))+ '\\\\\\\\')\n",
    "print('\\hspace{3mm} Sharpe ratio & & ' + ' & '.join(['{}'] * 6).format(*(d4[:6])) + ' && ' + ' & '.join(['{}'] * (len(d4) - 6)).format(*(d4[6:]))+ '\\\\\\\\')\n",
    "\n",
    "print('\\\\textit{Downside risk} &&&&&&&&&&&&\\\\\\\\')\n",
    "print('\\hspace{3mm} MDD (\\%) & & ' + ' & '.join(['{}'] * 6).format(*(d5[:6])) + ' && ' + ' & '.join(['{}'] * (len(d5) - 6)).format(*(d5[6:]))+ '\\\\\\\\')\n",
    "print('\\hspace{3mm} AvDD (\\%) & & ' + ' & '.join(['{}'] * 6).format(*(d6[:6])) + ' && ' + ' & '.join(['{}'] * (len(d6) - 6)).format(*(d6[6:]))+ '\\\\\\\\')\n",
    "print('\\hspace{3mm} VaR 5\\% (\\%) & & ' + ' & '.join(['{}'] * 6).format(*(d7[:6])) + ' && ' + ' & '.join(['{}'] * (len(d7) - 6)).format(*(d7[6:]))+ '\\\\\\\\')\n",
    "print('\\hspace{3mm} ES 5\\% (\\%) & & ' + ' & '.join(['{}'] * 6).format(*(d8[:6])) + ' && ' + ' & '.join(['{}'] * (len(d8) - 6)).format(*(d8[6:]))+ '\\\\\\\\')\n",
    "print('\\hspace{3mm} Semideviation (\\%) & & ' + ' & '.join(['{}'] * 6).format(*(d9[:6])) + ' && ' + ' & '.join(['{}'] * (len(d9) - 6)).format(*(d9[6:]))+ '\\\\\\\\')\n",
    "print('\\hspace{3mm} Omega ratio (0) & & ' + ' & '.join(['{}'] * 6).format(*(d10[:6])) + ' && ' + ' & '.join(['{}'] * (len(d10) - 6)).format(*(d10[6:]))+ '\\\\\\\\')\n",
    "print('\\hspace{3mm} Omega ratio (-5\\%) & & ' + ' & '.join(['{}'] * 6).format(*(d11[:6])) + ' && ' + ' & '.join(['{}'] * (len(d11) - 6)).format(*(d11[6:]))+ '\\\\\\\\')\n"
   ]
  },
  {
   "cell_type": "code",
   "execution_count": 19,
   "metadata": {},
   "outputs": [
    {
     "name": "stdout",
     "output_type": "stream",
     "text": [
      "&& 100/0 & 90/10 & 80/20 & 70/30 & 60/40 & 50/50 & & SL & SP & CPPI & TIPP \\\\ \\hline\n",
      "\\hspace{3mm} \\textit{Pension-level performance} &&&&&&&&&&&&\\\\\n",
      "\\hspace{6mm} Depletion Prob. (\\%) & & 31.8 & 31.8 & 36.4 & 40.9 & 50.0 & 63.6 && 72.7 & 13.6 & 36.4 & 81.8\\\\\n",
      "\\hspace{6mm} Max. decline (\\%) & & -66.5 & -66.9 & -67.5 & -70.6 & -75.3 & -84.3 && -83.0 & -59.9 & -72.0 & -92.8\\\\\n",
      "\\hspace{6mm} Underwater duration (month) & & 191.8 & 196.3 & 198.3 & 210.9 & 233.1 & 267.7 && 269.2 & 131.0 & 170.1 & 315.0\\\\\n",
      "\\hspace{6mm} Total withdrawal (\\%) & & 132.0 & 134.2 & 135.5 & 136.1 & 135.8 & 133.3 && 111.1 & 146.1 & 134.6 & 100.5\\\\\n",
      "\\hspace{6mm} Bequest (\\%) & & 199.4 & 146.3 & 102.4 & 66.8 & 39.2 & 19.7 && 48.8 & 122.5 & 46.3 & 8.8\\\\\n",
      "\\hspace{6mm} Total withdrawal + Bequest (\\%) & & 331.4 & 280.5 & 237.9 & 202.9 & 175.1 & 153.0 && 159.9 & 268.6 & 180.8 & 109.3\\\\\n",
      "\\hspace{3mm} \\textit{Portfolio-level performance} &&&&&&&&&&&&\\\\\n",
      "\\hspace{6mm} Average return (\\%) & & -1.35 & -2.17 & -3.27 & -4.42 & -6.29 & -8.05 && -7.35 & -1.15 & -4.77 & -9.77\\\\\n",
      "\\hspace{6mm} Volatility (\\%) & & 20.9 & 20.0 & 19.2 & 18.6 & 19.4 & 20.4 && 22.2 & 15.4 & 17.0 & 22.6\\\\\n",
      "\\hspace{6mm} Skewness & & -2.19 & -2.37 & -2.84 & -3.37 & -4.42 & -5.82 && -6.21 & -1.75 & -3.97 & -7.88\\\\\n",
      "\\hspace{6mm} Sharpe ratio & & -0.17 & -0.22 & -0.28 & -0.36 & -0.45 & -0.54 && -0.43 & -0.24 & -0.43 & -0.57\\\\\n",
      "\\hspace{3mm} \\textit{Downside risk} &&&&&&&&&&&&\\\\\n",
      "\\hspace{6mm} MDD (\\%) & & -76.3 & -75.2 & -75.1 & -76.2 & -80.6 & -85.7 && -86.2 & -64.8 & -74.1 & -94.4\\\\\n",
      "\\hspace{6mm} AvDD (\\%) & & -45.9 & -45.2 & -45.4 & -46.5 & -49.0 & -52.7 && -61.8 & -35.3 & -47.2 & -68.0\\\\\n",
      "\\hspace{6mm} VaR 5\\% (\\%) & & -8.9 & -8.5 & -8.1 & -7.7 & -7.3 & -6.7 && -7.6 & -7.3 & -7.1 & -6.6\\\\\n",
      "\\hspace{6mm} ES 5\\% (\\%) & & -15.8 & -15.4 & -15.2 & -15.1 & -16.2 & -17.2 && -19.0 & -12.2 & -14.3 & -19.6\\\\\n",
      "\\hspace{6mm} Semideviation (\\%) & & 6.6 & 6.5 & 6.6 & 6.7 & 7.8 & 9.2 && 11.3 & 4.4 & 7.1 & 13.7\\\\\n",
      "\\hspace{6mm} Omega ratio (0) & & 0.97 & 0.94 & 0.89 & 0.82 & 0.72 & 0.61 && 0.63 & 0.98 & 0.76 & 0.42\\\\\n",
      "\\hspace{6mm} Omega ratio (-5\\%) & & 11.5 & 13.4 & 15.7 & 18.2 & 19.8 & 18.3 && 11.7 & 20.5 & 21.0 & 10.9\\\\\n"
     ]
    }
   ],
   "source": [
    "print('&& 100/0 & 90/10 & 80/20 & 70/30 & 60/40 & 50/50 & & SL & SP & CPPI & TIPP \\\\\\\\ \\\\hline')\n",
    "print('\\hspace{3mm} \\\\textit{Pension-level performance} &&&&&&&&&&&&\\\\\\\\')\n",
    "print('\\hspace{6mm} Depletion Prob. (\\%) & & ' + ' & '.join(['{}'] * 6).format(*(a[:6])) + ' && ' + ' & '.join(['{}'] * (len(a) - 6)).format(*(a[6:])) + '\\\\\\\\')\n",
    "print('\\hspace{6mm} Max. decline (\\%) & & ' + ' & '.join(['{}'] * 6).format(*(b[:6])) + ' && ' + ' & '.join(['{}'] * (len(b) - 6)).format(*(b[6:]))+ '\\\\\\\\')\n",
    "print('\\hspace{6mm} Underwater duration (month) & & ' + ' & '.join(['{}'] * 6).format(*(c[:6])) + ' && ' + ' & '.join(['{}'] * (len(c) - 6)).format(*(c[6:]))+ '\\\\\\\\')\n",
    "print('\\hspace{6mm} Total withdrawal (\\%) & & ' + ' & '.join(['{}'] * 6).format(*(d[:6])) + ' && ' + ' & '.join(['{}'] * (len(d) - 6)).format(*(d[6:]))+ '\\\\\\\\')\n",
    "print('\\hspace{6mm} Bequest (\\%) & & ' + ' & '.join(['{}'] * 6).format(*(e[:6])) + ' && ' + ' & '.join(['{}'] * (len(e) - 6)).format(*(e[6:]))+ '\\\\\\\\')\n",
    "print('\\hspace{6mm} Total withdrawal + Bequest (\\%) & & ' + ' & '.join(['{}'] * 6).format(*(f[:6])) + ' && ' + ' & '.join(['{}'] * (len(f) - 6)).format(*(f[6:]))+ '\\\\\\\\')\n",
    "\n",
    "print('\\hspace{3mm} \\\\textit{Portfolio-level performance} &&&&&&&&&&&&\\\\\\\\')\n",
    "print('\\hspace{6mm} Average return (\\%) & & ' + ' & '.join(['{}'] * 6).format(*(d1[:6])) + ' && ' + ' & '.join(['{}'] * (len(d1) - 6)).format(*(d1[6:]))+ '\\\\\\\\')\n",
    "print('\\hspace{6mm} Volatility (\\%) & & ' + ' & '.join(['{}'] * 6).format(*(d2[:6])) + ' && ' + ' & '.join(['{}'] * (len(d2) - 6)).format(*(d2[6:]))+ '\\\\\\\\')\n",
    "print('\\hspace{6mm} Skewness & & ' + ' & '.join(['{}'] * 6).format(*(d3[:6])) + ' && ' + ' & '.join(['{}'] * (len(d3) - 6)).format(*(d3[6:]))+ '\\\\\\\\')\n",
    "print('\\hspace{6mm} Sharpe ratio & & ' + ' & '.join(['{}'] * 6).format(*(d4[:6])) + ' && ' + ' & '.join(['{}'] * (len(d4) - 6)).format(*(d4[6:]))+ '\\\\\\\\')\n",
    "\n",
    "print('\\hspace{3mm} \\\\textit{Downside risk} &&&&&&&&&&&&\\\\\\\\')\n",
    "print('\\hspace{6mm} MDD (\\%) & & ' + ' & '.join(['{}'] * 6).format(*(d5[:6])) + ' && ' + ' & '.join(['{}'] * (len(d5) - 6)).format(*(d5[6:]))+ '\\\\\\\\')\n",
    "print('\\hspace{6mm} AvDD (\\%) & & ' + ' & '.join(['{}'] * 6).format(*(d6[:6])) + ' && ' + ' & '.join(['{}'] * (len(d6) - 6)).format(*(d6[6:]))+ '\\\\\\\\')\n",
    "print('\\hspace{6mm} VaR 5\\% (\\%) & & ' + ' & '.join(['{}'] * 6).format(*(d7[:6])) + ' && ' + ' & '.join(['{}'] * (len(d7) - 6)).format(*(d7[6:]))+ '\\\\\\\\')\n",
    "print('\\hspace{6mm} ES 5\\% (\\%) & & ' + ' & '.join(['{}'] * 6).format(*(d8[:6])) + ' && ' + ' & '.join(['{}'] * (len(d8) - 6)).format(*(d8[6:]))+ '\\\\\\\\')\n",
    "print('\\hspace{6mm} Semideviation (\\%) & & ' + ' & '.join(['{}'] * 6).format(*(d9[:6])) + ' && ' + ' & '.join(['{}'] * (len(d9) - 6)).format(*(d9[6:]))+ '\\\\\\\\')\n",
    "print('\\hspace{6mm} Omega ratio (0) & & ' + ' & '.join(['{}'] * 6).format(*(d10[:6])) + ' && ' + ' & '.join(['{}'] * (len(d10) - 6)).format(*(d10[6:]))+ '\\\\\\\\')\n",
    "print('\\hspace{6mm} Omega ratio (-5\\%) & & ' + ' & '.join(['{}'] * 6).format(*(d11[:6])) + ' && ' + ' & '.join(['{}'] * (len(d11) - 6)).format(*(d11[6:]))+ '\\\\\\\\')\n"
   ]
  },
  {
   "cell_type": "code",
   "execution_count": null,
   "metadata": {},
   "outputs": [],
   "source": []
  }
 ],
 "metadata": {
  "kernelspec": {
   "display_name": "Python 3",
   "language": "python",
   "name": "python3"
  },
  "language_info": {
   "codemirror_mode": {
    "name": "ipython",
    "version": 3
   },
   "file_extension": ".py",
   "mimetype": "text/x-python",
   "name": "python",
   "nbconvert_exporter": "python",
   "pygments_lexer": "ipython3",
   "version": "3.8.3"
  }
 },
 "nbformat": 4,
 "nbformat_minor": 4
}
