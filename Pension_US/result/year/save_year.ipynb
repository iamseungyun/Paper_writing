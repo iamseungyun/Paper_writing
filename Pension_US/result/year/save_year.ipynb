{
 "cells": [
  {
   "cell_type": "code",
   "execution_count": 16,
   "metadata": {},
   "outputs": [],
   "source": [
    "import pandas as pd\n",
    "import numpy as np"
   ]
  },
  {
   "cell_type": "code",
   "execution_count": null,
   "metadata": {},
   "outputs": [],
   "source": [
    "# from = 1928\n",
    "# end = 2018\n",
    "# 2018 - 35 = 1983"
   ]
  },
  {
   "cell_type": "code",
   "execution_count": 34,
   "metadata": {},
   "outputs": [],
   "source": [
    "normal_year = {35: [[1933,1934,1935,1939,1940,1941,1942,1943,1944,1948,1949,1950,1951,1952,1953,1954,1955,1956,1957,1958,1959,1960,1964,1965,1966,1971,1976,1977,1978,1979,1980,1981,1982,1983]]}\n",
    "full_bear_year = {35: [[1929,1930,1931,1937,1946,1962,1968,1969,1973,1974]]}\n",
    "partial_bear_year = {35: [[1928,1932,1936,1938,1945,1947,1961,1963,1967,1970,1972,1975]]}\n",
    "bear_year = {35:[[1928,1929,1930,1931,1932,1936,1937,1938,1945,1946,1947,1961,1962,1963,1967,1968,1969,1970,1972,1973,1974,1975]]}\n",
    "\n"
   ]
  },
  {
   "cell_type": "code",
   "execution_count": 32,
   "metadata": {},
   "outputs": [
    {
     "data": {
      "text/plain": [
       "56"
      ]
     },
     "execution_count": 32,
     "metadata": {},
     "output_type": "execute_result"
    }
   ],
   "source": [
    "len(normal_year[35][0]) + len(full_bear_year[35][0]) + len(partial_bear_year[35][0])"
   ]
  },
  {
   "cell_type": "code",
   "execution_count": 18,
   "metadata": {},
   "outputs": [],
   "source": [
    "full_year = {35: [list(np.arange(1928,1984))]}"
   ]
  },
  {
   "cell_type": "code",
   "execution_count": 37,
   "metadata": {},
   "outputs": [],
   "source": [
    "np.save('./normal_year.npy', normal_year)\n",
    "np.save('./full_bear_year.npy', full_bear_year)\n",
    "np.save('./partial_bear_year.npy', partial_bear_year)\n",
    "np.save('./bear_year.npy', bear_year)\n",
    "np.save('./full_year.npy', full_year)\n",
    "\n"
   ]
  },
  {
   "cell_type": "code",
   "execution_count": null,
   "metadata": {},
   "outputs": [],
   "source": []
  }
 ],
 "metadata": {
  "kernelspec": {
   "display_name": "Python 3",
   "language": "python",
   "name": "python3"
  },
  "language_info": {
   "codemirror_mode": {
    "name": "ipython",
    "version": 3
   },
   "file_extension": ".py",
   "mimetype": "text/x-python",
   "name": "python",
   "nbconvert_exporter": "python",
   "pygments_lexer": "ipython3",
   "version": "3.8.3"
  }
 },
 "nbformat": 4,
 "nbformat_minor": 4
}
