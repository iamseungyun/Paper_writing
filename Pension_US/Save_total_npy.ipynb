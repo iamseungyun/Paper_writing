{
 "cells": [
  {
   "cell_type": "code",
   "execution_count": 1,
   "metadata": {},
   "outputs": [],
   "source": [
    "import pandas as pd\n",
    "import numpy as np\n",
    "from pandas import Series, DataFrame\n",
    "from datetime import datetime, timedelta\n",
    "from dateutil.relativedelta import relativedelta\n",
    "from matplotlib import pyplot as plt\n",
    "import pickle\n",
    "import sys\n",
    "\n",
    "sys.path.append('./../')"
   ]
  },
  {
   "cell_type": "code",
   "execution_count": 2,
   "metadata": {},
   "outputs": [],
   "source": [
    "yyyy = np.load('./result/year/bear_year.npy', allow_pickle=True).reshape(1)[0][35][0]# upper_year = 20\n",
    "# k = 1.0\n",
    "# withdraw_rate = 0.08\n",
    "\n",
    "upper_years = [35]\n",
    "read_folder_name = 'raw_file'\n",
    "folder_name = 'main_table'\n",
    "static_dyna = 'const'"
   ]
  },
  {
   "cell_type": "code",
   "execution_count": 3,
   "metadata": {},
   "outputs": [],
   "source": [
    "# model_names = ['BH_80', 'BH_75', 'BH_70', 'BH_65', 'BH_60', 'BH_55', 'BH_50', 'BH_45', 'BH_40', 'BH_35', 'BH_30', 'SL_100', 'SP_100', 'CPPI_100_70', 'TIPP_100_70']\n",
    "# model_names = ['CPPI_95_30']\n",
    "model_names = ['BH_75', 'BH_70', 'BH_65', 'BH_60', 'BH_55', 'BH_50', 'SL_100', 'SP_100', 'CPPI_100_70', 'TIPP_100_70'] # main table\n",
    "\n",
    "\n",
    "\n",
    "\n"
   ]
  },
  {
   "cell_type": "code",
   "execution_count": 4,
   "metadata": {},
   "outputs": [],
   "source": [
    "p_val = {}\n",
    "w_val = {}\n",
    "for upper_year in upper_years:\n",
    "    for model_name in model_names:\n",
    "        for withdraw_rate in [0.05]:\n",
    "            p_val['{}_rate{}_{}'.format(model_name, withdraw_rate, static_dyna)] = {}\n",
    "            w_val['{}_rate{}_{}'.format(model_name, withdraw_rate, static_dyna)] = {}\n",
    "            "
   ]
  },
  {
   "cell_type": "code",
   "execution_count": 5,
   "metadata": {},
   "outputs": [
    {
     "name": "stdout",
     "output_type": "stream",
     "text": [
      "BH_75\n",
      "BH_70\n",
      "BH_65\n",
      "BH_60\n",
      "BH_55\n",
      "BH_50\n",
      "SL_100\n",
      "SP_100\n",
      "CPPI_100_70\n",
      "TIPP_100_70\n"
     ]
    }
   ],
   "source": [
    "\n",
    "for upper_year in upper_years:\n",
    "    for model_name in model_names:\n",
    "        print(model_name)\n",
    "        for withdraw_rate in [0.05]:\n",
    "            for year in yyyy:\n",
    "                p_val['{}_rate{}_{}'.format(model_name, withdraw_rate, static_dyna)][year] = np.array(pd.read_csv('./result/{}/p_val/{}_rate{}_{}.csv'.format(read_folder_name, model_name, withdraw_rate, static_dyna))[str(year)])\n",
    "                w_val['{}_rate{}_{}'.format(model_name, withdraw_rate, static_dyna)][year] = np.array(pd.read_csv('./result/{}/w_val/{}_rate{}_{}.csv'.format(read_folder_name, model_name, withdraw_rate, static_dyna))[str(year)])\n",
    "\n",
    "np.save('./result/{}/p_val_0.05.npy'.format(folder_name), p_val)\n",
    "np.save('./result/{}/w_val_0.05.npy'.format(folder_name), w_val)\n"
   ]
  },
  {
   "cell_type": "code",
   "execution_count": null,
   "metadata": {},
   "outputs": [],
   "source": []
  },
  {
   "cell_type": "code",
   "execution_count": null,
   "metadata": {},
   "outputs": [],
   "source": []
  },
  {
   "cell_type": "code",
   "execution_count": null,
   "metadata": {},
   "outputs": [],
   "source": []
  },
  {
   "cell_type": "code",
   "execution_count": null,
   "metadata": {},
   "outputs": [],
   "source": []
  },
  {
   "cell_type": "code",
   "execution_count": null,
   "metadata": {},
   "outputs": [],
   "source": []
  }
 ],
 "metadata": {
  "kernelspec": {
   "display_name": "hyungjinko",
   "language": "python",
   "name": "hyungjinko"
  },
  "language_info": {
   "codemirror_mode": {
    "name": "ipython",
    "version": 3
   },
   "file_extension": ".py",
   "mimetype": "text/x-python",
   "name": "python",
   "nbconvert_exporter": "python",
   "pygments_lexer": "ipython3",
   "version": "3.8.5"
  }
 },
 "nbformat": 4,
 "nbformat_minor": 4
}
