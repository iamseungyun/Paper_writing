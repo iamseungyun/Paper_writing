{
 "cells": [
  {
   "cell_type": "code",
   "execution_count": 1,
   "id": "66ed4cea-c38e-48a1-9b30-4a2fd6c46431",
   "metadata": {},
   "outputs": [],
   "source": [
    "import pandas as pd\n",
    "import math\n",
    "import numpy as np"
   ]
  },
  {
   "cell_type": "code",
   "execution_count": 2,
   "id": "26113a3c-0677-40c4-8154-12f1ddb852b0",
   "metadata": {},
   "outputs": [],
   "source": [
    "VIX_all  = pd.read_csv('./data/VIX_History.csv')"
   ]
  },
  {
   "cell_type": "code",
   "execution_count": 3,
   "id": "2ef89a7f-8315-44a0-ab3c-c6f00481c73f",
   "metadata": {},
   "outputs": [
    {
     "data": {
      "text/html": [
       "<div>\n",
       "<style scoped>\n",
       "    .dataframe tbody tr th:only-of-type {\n",
       "        vertical-align: middle;\n",
       "    }\n",
       "\n",
       "    .dataframe tbody tr th {\n",
       "        vertical-align: top;\n",
       "    }\n",
       "\n",
       "    .dataframe thead th {\n",
       "        text-align: right;\n",
       "    }\n",
       "</style>\n",
       "<table border=\"1\" class=\"dataframe\">\n",
       "  <thead>\n",
       "    <tr style=\"text-align: right;\">\n",
       "      <th></th>\n",
       "      <th>DATE</th>\n",
       "      <th>OPEN</th>\n",
       "      <th>HIGH</th>\n",
       "      <th>LOW</th>\n",
       "      <th>CLOSE</th>\n",
       "    </tr>\n",
       "  </thead>\n",
       "  <tbody>\n",
       "    <tr>\n",
       "      <th>0</th>\n",
       "      <td>01/02/1990</td>\n",
       "      <td>17.24</td>\n",
       "      <td>17.24</td>\n",
       "      <td>17.24</td>\n",
       "      <td>17.24</td>\n",
       "    </tr>\n",
       "    <tr>\n",
       "      <th>1</th>\n",
       "      <td>01/03/1990</td>\n",
       "      <td>18.19</td>\n",
       "      <td>18.19</td>\n",
       "      <td>18.19</td>\n",
       "      <td>18.19</td>\n",
       "    </tr>\n",
       "    <tr>\n",
       "      <th>2</th>\n",
       "      <td>01/04/1990</td>\n",
       "      <td>19.22</td>\n",
       "      <td>19.22</td>\n",
       "      <td>19.22</td>\n",
       "      <td>19.22</td>\n",
       "    </tr>\n",
       "    <tr>\n",
       "      <th>3</th>\n",
       "      <td>01/05/1990</td>\n",
       "      <td>20.11</td>\n",
       "      <td>20.11</td>\n",
       "      <td>20.11</td>\n",
       "      <td>20.11</td>\n",
       "    </tr>\n",
       "    <tr>\n",
       "      <th>4</th>\n",
       "      <td>01/08/1990</td>\n",
       "      <td>20.26</td>\n",
       "      <td>20.26</td>\n",
       "      <td>20.26</td>\n",
       "      <td>20.26</td>\n",
       "    </tr>\n",
       "    <tr>\n",
       "      <th>...</th>\n",
       "      <td>...</td>\n",
       "      <td>...</td>\n",
       "      <td>...</td>\n",
       "      <td>...</td>\n",
       "      <td>...</td>\n",
       "    </tr>\n",
       "    <tr>\n",
       "      <th>8514</th>\n",
       "      <td>10/09/2023</td>\n",
       "      <td>19.54</td>\n",
       "      <td>19.60</td>\n",
       "      <td>17.56</td>\n",
       "      <td>17.70</td>\n",
       "    </tr>\n",
       "    <tr>\n",
       "      <th>8515</th>\n",
       "      <td>10/10/2023</td>\n",
       "      <td>17.70</td>\n",
       "      <td>17.86</td>\n",
       "      <td>16.51</td>\n",
       "      <td>17.03</td>\n",
       "    </tr>\n",
       "    <tr>\n",
       "      <th>8516</th>\n",
       "      <td>10/11/2023</td>\n",
       "      <td>16.95</td>\n",
       "      <td>17.78</td>\n",
       "      <td>16.09</td>\n",
       "      <td>16.09</td>\n",
       "    </tr>\n",
       "    <tr>\n",
       "      <th>8517</th>\n",
       "      <td>10/12/2023</td>\n",
       "      <td>16.08</td>\n",
       "      <td>18.08</td>\n",
       "      <td>15.44</td>\n",
       "      <td>16.69</td>\n",
       "    </tr>\n",
       "    <tr>\n",
       "      <th>8518</th>\n",
       "      <td>10/13/2023</td>\n",
       "      <td>16.53</td>\n",
       "      <td>20.78</td>\n",
       "      <td>16.50</td>\n",
       "      <td>19.32</td>\n",
       "    </tr>\n",
       "  </tbody>\n",
       "</table>\n",
       "<p>8519 rows × 5 columns</p>\n",
       "</div>"
      ],
      "text/plain": [
       "            DATE   OPEN   HIGH    LOW  CLOSE\n",
       "0     01/02/1990  17.24  17.24  17.24  17.24\n",
       "1     01/03/1990  18.19  18.19  18.19  18.19\n",
       "2     01/04/1990  19.22  19.22  19.22  19.22\n",
       "3     01/05/1990  20.11  20.11  20.11  20.11\n",
       "4     01/08/1990  20.26  20.26  20.26  20.26\n",
       "...          ...    ...    ...    ...    ...\n",
       "8514  10/09/2023  19.54  19.60  17.56  17.70\n",
       "8515  10/10/2023  17.70  17.86  16.51  17.03\n",
       "8516  10/11/2023  16.95  17.78  16.09  16.09\n",
       "8517  10/12/2023  16.08  18.08  15.44  16.69\n",
       "8518  10/13/2023  16.53  20.78  16.50  19.32\n",
       "\n",
       "[8519 rows x 5 columns]"
      ]
     },
     "execution_count": 3,
     "metadata": {},
     "output_type": "execute_result"
    }
   ],
   "source": [
    "VIX_all"
   ]
  },
  {
   "cell_type": "code",
   "execution_count": 4,
   "id": "59ce6d6e-8608-4f71-a6cf-5e18a8df8939",
   "metadata": {},
   "outputs": [],
   "source": [
    "VIX_all['DATE'] = pd.to_datetime(VIX_all['DATE'])"
   ]
  },
  {
   "cell_type": "code",
   "execution_count": 5,
   "id": "9118c13c-0387-495d-8965-020f7e0a5830",
   "metadata": {},
   "outputs": [
    {
     "data": {
      "text/plain": [
       "0      1990-01-02\n",
       "1      1990-01-03\n",
       "2      1990-01-04\n",
       "3      1990-01-05\n",
       "4      1990-01-08\n",
       "          ...    \n",
       "8514   2023-10-09\n",
       "8515   2023-10-10\n",
       "8516   2023-10-11\n",
       "8517   2023-10-12\n",
       "8518   2023-10-13\n",
       "Name: DATE, Length: 8519, dtype: datetime64[ns]"
      ]
     },
     "execution_count": 5,
     "metadata": {},
     "output_type": "execute_result"
    }
   ],
   "source": [
    "VIX_all['DATE'] "
   ]
  },
  {
   "cell_type": "code",
   "execution_count": 6,
   "id": "6baa6b18-c081-46d8-8940-91182303733f",
   "metadata": {},
   "outputs": [],
   "source": [
    "VIX = VIX_all[(VIX_all['DATE']> '2017-05-08') & (VIX_all['DATE'] < '2023-10-01')]"
   ]
  },
  {
   "cell_type": "code",
   "execution_count": 7,
   "id": "207f3d3b-6ae1-43ab-b520-8d9e3f63f1a2",
   "metadata": {},
   "outputs": [],
   "source": [
    "VIX = VIX.reset_index(drop=True)"
   ]
  },
  {
   "cell_type": "code",
   "execution_count": 8,
   "id": "a26e8282-30b7-4b7e-8acc-afb64ed35e60",
   "metadata": {},
   "outputs": [],
   "source": [
    "VIX = VIX.drop(['OPEN', 'HIGH', 'LOW'], axis = 'columns')"
   ]
  },
  {
   "cell_type": "code",
   "execution_count": 9,
   "id": "08da0260-5521-41c5-88a3-9e708538916d",
   "metadata": {},
   "outputs": [],
   "source": [
    "VIX.columns = ['Date', 'Index']"
   ]
  },
  {
   "cell_type": "code",
   "execution_count": 10,
   "id": "3d5e7c1b-85d8-4508-92e3-e86e0b716bef",
   "metadata": {},
   "outputs": [],
   "source": [
    "VIX.to_csv('./data/VIX.csv', index=False)"
   ]
  },
  {
   "cell_type": "code",
   "execution_count": 11,
   "id": "c2f5c892-0a8a-48d7-9b5a-c11decced280",
   "metadata": {},
   "outputs": [],
   "source": [
    "VIX = pd.read_csv('./data/VIX.csv')"
   ]
  },
  {
   "cell_type": "code",
   "execution_count": 12,
   "id": "9eed6ea4-95ac-4446-818d-6467055e3655",
   "metadata": {},
   "outputs": [
    {
     "data": {
      "text/html": [
       "<div>\n",
       "<style scoped>\n",
       "    .dataframe tbody tr th:only-of-type {\n",
       "        vertical-align: middle;\n",
       "    }\n",
       "\n",
       "    .dataframe tbody tr th {\n",
       "        vertical-align: top;\n",
       "    }\n",
       "\n",
       "    .dataframe thead th {\n",
       "        text-align: right;\n",
       "    }\n",
       "</style>\n",
       "<table border=\"1\" class=\"dataframe\">\n",
       "  <thead>\n",
       "    <tr style=\"text-align: right;\">\n",
       "      <th></th>\n",
       "      <th>Date</th>\n",
       "      <th>Index</th>\n",
       "    </tr>\n",
       "  </thead>\n",
       "  <tbody>\n",
       "    <tr>\n",
       "      <th>0</th>\n",
       "      <td>2017-05-09</td>\n",
       "      <td>9.96</td>\n",
       "    </tr>\n",
       "    <tr>\n",
       "      <th>1</th>\n",
       "      <td>2017-05-10</td>\n",
       "      <td>10.21</td>\n",
       "    </tr>\n",
       "    <tr>\n",
       "      <th>2</th>\n",
       "      <td>2017-05-11</td>\n",
       "      <td>10.60</td>\n",
       "    </tr>\n",
       "    <tr>\n",
       "      <th>3</th>\n",
       "      <td>2017-05-12</td>\n",
       "      <td>10.40</td>\n",
       "    </tr>\n",
       "    <tr>\n",
       "      <th>4</th>\n",
       "      <td>2017-05-15</td>\n",
       "      <td>10.42</td>\n",
       "    </tr>\n",
       "    <tr>\n",
       "      <th>...</th>\n",
       "      <td>...</td>\n",
       "      <td>...</td>\n",
       "    </tr>\n",
       "    <tr>\n",
       "      <th>1616</th>\n",
       "      <td>2023-09-25</td>\n",
       "      <td>16.90</td>\n",
       "    </tr>\n",
       "    <tr>\n",
       "      <th>1617</th>\n",
       "      <td>2023-09-26</td>\n",
       "      <td>18.94</td>\n",
       "    </tr>\n",
       "    <tr>\n",
       "      <th>1618</th>\n",
       "      <td>2023-09-27</td>\n",
       "      <td>18.22</td>\n",
       "    </tr>\n",
       "    <tr>\n",
       "      <th>1619</th>\n",
       "      <td>2023-09-28</td>\n",
       "      <td>17.34</td>\n",
       "    </tr>\n",
       "    <tr>\n",
       "      <th>1620</th>\n",
       "      <td>2023-09-29</td>\n",
       "      <td>17.52</td>\n",
       "    </tr>\n",
       "  </tbody>\n",
       "</table>\n",
       "<p>1621 rows × 2 columns</p>\n",
       "</div>"
      ],
      "text/plain": [
       "            Date  Index\n",
       "0     2017-05-09   9.96\n",
       "1     2017-05-10  10.21\n",
       "2     2017-05-11  10.60\n",
       "3     2017-05-12  10.40\n",
       "4     2017-05-15  10.42\n",
       "...          ...    ...\n",
       "1616  2023-09-25  16.90\n",
       "1617  2023-09-26  18.94\n",
       "1618  2023-09-27  18.22\n",
       "1619  2023-09-28  17.34\n",
       "1620  2023-09-29  17.52\n",
       "\n",
       "[1621 rows x 2 columns]"
      ]
     },
     "execution_count": 12,
     "metadata": {},
     "output_type": "execute_result"
    }
   ],
   "source": [
    "VIX"
   ]
  },
  {
   "cell_type": "code",
   "execution_count": 13,
   "id": "7daf5c0e-20da-4f33-9fd5-50f15a70cdea",
   "metadata": {},
   "outputs": [],
   "source": [
    "diff = []\n",
    "\n",
    "for i in range(len(VIX['Index'])-1):\n",
    "    diff.append(VIX['Index'][i+1]-VIX['Index'][i])"
   ]
  },
  {
   "cell_type": "code",
   "execution_count": 14,
   "id": "7a4350b9-6372-4c43-bdac-ecf65a863749",
   "metadata": {},
   "outputs": [],
   "source": [
    "log_diff = []\n",
    "\n",
    "for i in range(len(VIX['Index'])-1):\n",
    "    r = VIX['Index'][i+1]/VIX['Index'][i]\n",
    "    log_return = math.log(r)\n",
    "    log_diff.append(log_return)"
   ]
  },
  {
   "cell_type": "code",
   "execution_count": 15,
   "id": "49480a6a-16e3-4be5-92c5-06289fbc37d8",
   "metadata": {},
   "outputs": [],
   "source": [
    "VIX_diff = VIX[VIX.index > 0]"
   ]
  },
  {
   "cell_type": "code",
   "execution_count": 16,
   "id": "90607efc-0e21-4668-ab7d-5485f3374d3b",
   "metadata": {},
   "outputs": [],
   "source": [
    "VIX_diff = VIX_diff.reset_index(drop=True)"
   ]
  },
  {
   "cell_type": "code",
   "execution_count": 17,
   "id": "8a963ca6-0751-42b7-8c08-32b124e1de47",
   "metadata": {},
   "outputs": [],
   "source": [
    "VIX_diff = VIX_diff.drop(['Index'], axis = 'columns')"
   ]
  },
  {
   "cell_type": "code",
   "execution_count": 18,
   "id": "8a6206e1-3ef3-466e-988f-2ef4c2aba07c",
   "metadata": {},
   "outputs": [],
   "source": [
    "VIX_diff['diff'] = diff"
   ]
  },
  {
   "cell_type": "code",
   "execution_count": 19,
   "id": "58d663dd-859e-4883-affc-ce95bb0cbf14",
   "metadata": {},
   "outputs": [],
   "source": [
    "VIX_diff['log_diff'] = log_diff"
   ]
  },
  {
   "cell_type": "code",
   "execution_count": 20,
   "id": "b08db0a0-74e9-4de2-a759-ab4dafa4128a",
   "metadata": {},
   "outputs": [],
   "source": [
    "VIX_diff.to_csv('./data/VIX_diff.csv', index = False)"
   ]
  },
  {
   "cell_type": "code",
   "execution_count": 21,
   "id": "38e4b60e-0ca8-4e8a-83b6-62b6a79190a4",
   "metadata": {},
   "outputs": [],
   "source": [
    "VIX_diff = pd.read_csv('./data/VIX_diff.csv')"
   ]
  },
  {
   "cell_type": "code",
   "execution_count": 22,
   "id": "88b36800-31c8-45c5-a1f5-5286cb2a56c1",
   "metadata": {},
   "outputs": [
    {
     "data": {
      "text/html": [
       "<div>\n",
       "<style scoped>\n",
       "    .dataframe tbody tr th:only-of-type {\n",
       "        vertical-align: middle;\n",
       "    }\n",
       "\n",
       "    .dataframe tbody tr th {\n",
       "        vertical-align: top;\n",
       "    }\n",
       "\n",
       "    .dataframe thead th {\n",
       "        text-align: right;\n",
       "    }\n",
       "</style>\n",
       "<table border=\"1\" class=\"dataframe\">\n",
       "  <thead>\n",
       "    <tr style=\"text-align: right;\">\n",
       "      <th></th>\n",
       "      <th>Date</th>\n",
       "      <th>diff</th>\n",
       "      <th>log_diff</th>\n",
       "    </tr>\n",
       "  </thead>\n",
       "  <tbody>\n",
       "    <tr>\n",
       "      <th>0</th>\n",
       "      <td>2017-05-10</td>\n",
       "      <td>0.25</td>\n",
       "      <td>0.024791</td>\n",
       "    </tr>\n",
       "    <tr>\n",
       "      <th>1</th>\n",
       "      <td>2017-05-11</td>\n",
       "      <td>0.39</td>\n",
       "      <td>0.037486</td>\n",
       "    </tr>\n",
       "    <tr>\n",
       "      <th>2</th>\n",
       "      <td>2017-05-12</td>\n",
       "      <td>-0.20</td>\n",
       "      <td>-0.019048</td>\n",
       "    </tr>\n",
       "    <tr>\n",
       "      <th>3</th>\n",
       "      <td>2017-05-15</td>\n",
       "      <td>0.02</td>\n",
       "      <td>0.001921</td>\n",
       "    </tr>\n",
       "    <tr>\n",
       "      <th>4</th>\n",
       "      <td>2017-05-16</td>\n",
       "      <td>0.23</td>\n",
       "      <td>0.021833</td>\n",
       "    </tr>\n",
       "    <tr>\n",
       "      <th>...</th>\n",
       "      <td>...</td>\n",
       "      <td>...</td>\n",
       "      <td>...</td>\n",
       "    </tr>\n",
       "    <tr>\n",
       "      <th>1615</th>\n",
       "      <td>2023-09-25</td>\n",
       "      <td>-0.30</td>\n",
       "      <td>-0.017596</td>\n",
       "    </tr>\n",
       "    <tr>\n",
       "      <th>1616</th>\n",
       "      <td>2023-09-26</td>\n",
       "      <td>2.04</td>\n",
       "      <td>0.113962</td>\n",
       "    </tr>\n",
       "    <tr>\n",
       "      <th>1617</th>\n",
       "      <td>2023-09-27</td>\n",
       "      <td>-0.72</td>\n",
       "      <td>-0.038756</td>\n",
       "    </tr>\n",
       "    <tr>\n",
       "      <th>1618</th>\n",
       "      <td>2023-09-28</td>\n",
       "      <td>-0.88</td>\n",
       "      <td>-0.049504</td>\n",
       "    </tr>\n",
       "    <tr>\n",
       "      <th>1619</th>\n",
       "      <td>2023-09-29</td>\n",
       "      <td>0.18</td>\n",
       "      <td>0.010327</td>\n",
       "    </tr>\n",
       "  </tbody>\n",
       "</table>\n",
       "<p>1620 rows × 3 columns</p>\n",
       "</div>"
      ],
      "text/plain": [
       "            Date  diff  log_diff\n",
       "0     2017-05-10  0.25  0.024791\n",
       "1     2017-05-11  0.39  0.037486\n",
       "2     2017-05-12 -0.20 -0.019048\n",
       "3     2017-05-15  0.02  0.001921\n",
       "4     2017-05-16  0.23  0.021833\n",
       "...          ...   ...       ...\n",
       "1615  2023-09-25 -0.30 -0.017596\n",
       "1616  2023-09-26  2.04  0.113962\n",
       "1617  2023-09-27 -0.72 -0.038756\n",
       "1618  2023-09-28 -0.88 -0.049504\n",
       "1619  2023-09-29  0.18  0.010327\n",
       "\n",
       "[1620 rows x 3 columns]"
      ]
     },
     "execution_count": 22,
     "metadata": {},
     "output_type": "execute_result"
    }
   ],
   "source": [
    "VIX_diff"
   ]
  },
  {
   "cell_type": "code",
   "execution_count": 23,
   "id": "47c38260-8c31-4cda-bd92-084a27718640",
   "metadata": {},
   "outputs": [
    {
     "data": {
      "text/plain": [
       "count    1620.000000\n",
       "mean        0.004667\n",
       "std         2.081745\n",
       "min       -17.640000\n",
       "25%        -0.842500\n",
       "50%        -0.130000\n",
       "75%         0.582500\n",
       "max        24.860000\n",
       "Name: diff, dtype: float64"
      ]
     },
     "execution_count": 23,
     "metadata": {},
     "output_type": "execute_result"
    }
   ],
   "source": [
    "VIX_diff['diff'].describe()"
   ]
  },
  {
   "cell_type": "code",
   "execution_count": 24,
   "id": "85f41a0f-0092-4b54-b068-1c61e6797733",
   "metadata": {},
   "outputs": [
    {
     "data": {
      "text/plain": [
       "count    1620.000000\n",
       "mean        0.000349\n",
       "std         0.080661\n",
       "min        -0.266228\n",
       "25%        -0.044841\n",
       "50%        -0.007827\n",
       "75%         0.034447\n",
       "max         0.768245\n",
       "Name: log_diff, dtype: float64"
      ]
     },
     "execution_count": 24,
     "metadata": {},
     "output_type": "execute_result"
    }
   ],
   "source": [
    "VIX_diff['log_diff'].describe()"
   ]
  }
 ],
 "metadata": {
  "kernelspec": {
   "display_name": "lt",
   "language": "python",
   "name": "lt"
  },
  "language_info": {
   "codemirror_mode": {
    "name": "ipython",
    "version": 3
   },
   "file_extension": ".py",
   "mimetype": "text/x-python",
   "name": "python",
   "nbconvert_exporter": "python",
   "pygments_lexer": "ipython3",
   "version": "3.8.18"
  }
 },
 "nbformat": 4,
 "nbformat_minor": 5
}
