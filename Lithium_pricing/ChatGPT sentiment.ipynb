{
 "cells": [
  {
   "cell_type": "code",
   "execution_count": 1,
   "id": "d8316eef",
   "metadata": {},
   "outputs": [],
   "source": [
    "OPENAI_API_KEY = "
   ]
  },
  {
   "cell_type": "code",
   "execution_count": 2,
   "id": "6d82cf4d",
   "metadata": {},
   "outputs": [],
   "source": [
    "import os\n",
    "import requests\n",
    "import numpy as np\n",
    "import pandas as pd"
   ]
  },
  {
   "cell_type": "code",
   "execution_count": 3,
   "id": "7805c2f3",
   "metadata": {},
   "outputs": [],
   "source": [
    "data = pd.read_csv('lithium_sentiment.csv', index_col=0)"
   ]
  },
  {
   "cell_type": "code",
   "execution_count": 4,
   "id": "6b5b7f35",
   "metadata": {},
   "outputs": [
    {
     "data": {
      "text/html": [
       "<div>\n",
       "<style scoped>\n",
       "    .dataframe tbody tr th:only-of-type {\n",
       "        vertical-align: middle;\n",
       "    }\n",
       "\n",
       "    .dataframe tbody tr th {\n",
       "        vertical-align: top;\n",
       "    }\n",
       "\n",
       "    .dataframe thead th {\n",
       "        text-align: right;\n",
       "    }\n",
       "</style>\n",
       "<table border=\"1\" class=\"dataframe\">\n",
       "  <thead>\n",
       "    <tr style=\"text-align: right;\">\n",
       "      <th></th>\n",
       "      <th>Date</th>\n",
       "      <th>Price</th>\n",
       "      <th>VIX</th>\n",
       "      <th>news</th>\n",
       "    </tr>\n",
       "  </thead>\n",
       "  <tbody>\n",
       "    <tr>\n",
       "      <th>0</th>\n",
       "      <td>2017-05-10</td>\n",
       "      <td>136000.0</td>\n",
       "      <td>10.21</td>\n",
       "      <td>0.000000</td>\n",
       "    </tr>\n",
       "    <tr>\n",
       "      <th>1</th>\n",
       "      <td>2017-05-11</td>\n",
       "      <td>136000.0</td>\n",
       "      <td>10.60</td>\n",
       "      <td>-0.108700</td>\n",
       "    </tr>\n",
       "    <tr>\n",
       "      <th>2</th>\n",
       "      <td>2017-05-12</td>\n",
       "      <td>136000.0</td>\n",
       "      <td>10.40</td>\n",
       "      <td>-0.108700</td>\n",
       "    </tr>\n",
       "    <tr>\n",
       "      <th>3</th>\n",
       "      <td>2017-05-15</td>\n",
       "      <td>136000.0</td>\n",
       "      <td>10.42</td>\n",
       "      <td>-0.557400</td>\n",
       "    </tr>\n",
       "    <tr>\n",
       "      <th>4</th>\n",
       "      <td>2017-05-16</td>\n",
       "      <td>136000.0</td>\n",
       "      <td>10.65</td>\n",
       "      <td>0.157825</td>\n",
       "    </tr>\n",
       "    <tr>\n",
       "      <th>...</th>\n",
       "      <td>...</td>\n",
       "      <td>...</td>\n",
       "      <td>...</td>\n",
       "      <td>...</td>\n",
       "    </tr>\n",
       "    <tr>\n",
       "      <th>1530</th>\n",
       "      <td>2023-09-21</td>\n",
       "      <td>173500.0</td>\n",
       "      <td>17.54</td>\n",
       "      <td>-0.051467</td>\n",
       "    </tr>\n",
       "    <tr>\n",
       "      <th>1531</th>\n",
       "      <td>2023-09-22</td>\n",
       "      <td>172500.0</td>\n",
       "      <td>17.20</td>\n",
       "      <td>0.138950</td>\n",
       "    </tr>\n",
       "    <tr>\n",
       "      <th>1532</th>\n",
       "      <td>2023-09-25</td>\n",
       "      <td>169500.0</td>\n",
       "      <td>16.90</td>\n",
       "      <td>-0.029167</td>\n",
       "    </tr>\n",
       "    <tr>\n",
       "      <th>1533</th>\n",
       "      <td>2023-09-26</td>\n",
       "      <td>169500.0</td>\n",
       "      <td>18.94</td>\n",
       "      <td>-0.208300</td>\n",
       "    </tr>\n",
       "    <tr>\n",
       "      <th>1534</th>\n",
       "      <td>2023-09-27</td>\n",
       "      <td>166500.0</td>\n",
       "      <td>18.22</td>\n",
       "      <td>0.401650</td>\n",
       "    </tr>\n",
       "  </tbody>\n",
       "</table>\n",
       "<p>1535 rows × 4 columns</p>\n",
       "</div>"
      ],
      "text/plain": [
       "            Date     Price    VIX      news\n",
       "0     2017-05-10  136000.0  10.21  0.000000\n",
       "1     2017-05-11  136000.0  10.60 -0.108700\n",
       "2     2017-05-12  136000.0  10.40 -0.108700\n",
       "3     2017-05-15  136000.0  10.42 -0.557400\n",
       "4     2017-05-16  136000.0  10.65  0.157825\n",
       "...          ...       ...    ...       ...\n",
       "1530  2023-09-21  173500.0  17.54 -0.051467\n",
       "1531  2023-09-22  172500.0  17.20  0.138950\n",
       "1532  2023-09-25  169500.0  16.90 -0.029167\n",
       "1533  2023-09-26  169500.0  18.94 -0.208300\n",
       "1534  2023-09-27  166500.0  18.22  0.401650\n",
       "\n",
       "[1535 rows x 4 columns]"
      ]
     },
     "execution_count": 8,
     "metadata": {},
     "output_type": "execute_result"
    }
   ],
   "source": [
    "data"
   ]
  },
  {
   "cell_type": "code",
   "execution_count": 1,
   "id": "61e57890",
   "metadata": {},
   "outputs": [],
   "source": [
    "Instruction = \"I will give the headline of the news related to Lithium.\\\n",
    "                Please  give me a sentiment score of this headline from -1 to 1, \\\n",
    "                maximum negative to -1 and maximum positive to 1, with regard to the price of Lithium.\\\n",
    "                No other comment, just score please.\""
   ]
  },
  {
   "cell_type": "code",
   "execution_count": null,
   "id": "6137b164",
   "metadata": {},
   "outputs": [],
   "source": [
    "sentiments = []\n",
    "\n",
    "for idx, date in enumerate(dates):\n",
    "    scores = []\n",
    "    \n",
    "    for input in inputs:\n",
    "        response = requests.post(\n",
    "            \"https://api.openai.com/v1/chat/completions\", \n",
    "            headers = {\"Authorization\": f\"Bearer {os.getenv('OPENAI_API_KEY')}\"},\n",
    "            json = {\"model\": \"gpt-3.5-turbo\", \"messages\": [{\"role\": \"user\", \"content\": Instruction + f\"\\n \\n {input}\"}]}\n",
    "                                                           )\n",
    "        \n",
    "        score = response.json()[\"choices\"][0][\"message\"][\"content\"]\n",
    "        scores.append(score)\n",
    "    \n",
    "    scores = np.array(scores)\n",
    "    sentiment = scores.mean()\n",
    "    sentiments.append(sentiment)\n",
    "\n",
    "sentiments = np.array(sentiments)\n",
    "sentiments"
   ]
  },
  {
   "cell_type": "code",
   "execution_count": null,
   "id": "b6aa9ad8",
   "metadata": {},
   "outputs": [],
   "source": [
    "data['ChatGPT'] = sentiments"
   ]
  },
  {
   "cell_type": "code",
   "execution_count": null,
   "id": "2861e1b9",
   "metadata": {},
   "outputs": [],
   "source": [
    "data"
   ]
  }
 ],
 "metadata": {
  "kernelspec": {
   "display_name": "lt",
   "language": "python",
   "name": "lt"
  },
  "language_info": {
   "codemirror_mode": {
    "name": "ipython",
    "version": 3
   },
   "file_extension": ".py",
   "mimetype": "text/x-python",
   "name": "python",
   "nbconvert_exporter": "python",
   "pygments_lexer": "ipython3",
   "version": "3.8.18"
  }
 },
 "nbformat": 4,
 "nbformat_minor": 5
}
