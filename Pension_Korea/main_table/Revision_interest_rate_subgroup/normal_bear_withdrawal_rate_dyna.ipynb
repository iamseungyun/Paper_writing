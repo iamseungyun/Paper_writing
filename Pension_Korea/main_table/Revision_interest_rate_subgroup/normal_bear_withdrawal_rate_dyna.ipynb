{
 "cells": [
  {
   "cell_type": "code",
   "execution_count": 1,
   "metadata": {},
   "outputs": [],
   "source": [
    "import pandas as pd\n",
    "import numpy as np\n",
    "from pandas import Series, DataFrame\n",
    "from datetime import datetime, timedelta\n",
    "from dateutil.relativedelta import relativedelta\n",
    "from matplotlib import pyplot as plt\n",
    "import pickle\n",
    "import import_ipynb\n",
    "import sys\n",
    "sys.path.append('./../../')\n",
    "import Portfolio_value as pv"
   ]
  },
  {
   "cell_type": "code",
   "execution_count": 2,
   "metadata": {},
   "outputs": [],
   "source": [
    "df =  pd.read_csv('./../../data/data.csv')"
   ]
  },
  {
   "cell_type": "code",
   "execution_count": 3,
   "metadata": {},
   "outputs": [],
   "source": [
    "p_val = np.load('./../../result/revision/revision_interest_rate_subgroup/p_val/p_val_dyna.npy', allow_pickle=True)\n",
    "w_val = np.load('./../../result/revision/revision_interest_rate_subgroup/w_val/w_val_dyna.npy', allow_pickle=True)\n",
    "\n",
    "p_val = p_val.reshape(1)\n",
    "p_val = p_val[0]\n",
    "\n",
    "w_val = w_val.reshape(1)\n",
    "w_val = w_val[0]\n"
   ]
  },
  {
   "cell_type": "code",
   "execution_count": 4,
   "metadata": {},
   "outputs": [],
   "source": [
    "low = df['RF'].quantile(0.55)\n",
    "mid = df['RF'].quantile(0.6)\n",
    "high = df['RF'].quantile(1.0)\n"
   ]
  },
  {
   "cell_type": "code",
   "execution_count": 5,
   "metadata": {
    "scrolled": true
   },
   "outputs": [],
   "source": [
    "df['Date'] = pd.to_datetime(df['Date'])\n",
    "\n",
    "# Group by year and compute mean\n",
    "annual_avg = df.groupby(df['Date'].dt.year).mean().reset_index()\n"
   ]
  },
  {
   "cell_type": "code",
   "execution_count": 6,
   "metadata": {},
   "outputs": [],
   "source": [
    "low_year_ = list(annual_avg[annual_avg['RF'] < low]['Date'])"
   ]
  },
  {
   "cell_type": "code",
   "execution_count": 7,
   "metadata": {},
   "outputs": [],
   "source": [
    "mid_year_ = list(annual_avg[annual_avg['RF'] >= low][annual_avg['RF'] < mid]['Date'])"
   ]
  },
  {
   "cell_type": "code",
   "execution_count": 8,
   "metadata": {},
   "outputs": [],
   "source": [
    "high_year_ = list(annual_avg[annual_avg['RF'] >= mid][annual_avg['RF'] < high]['Date'])"
   ]
  },
  {
   "cell_type": "code",
   "execution_count": 9,
   "metadata": {},
   "outputs": [],
   "source": [
    "bear_year = np.load('./../../result/year/bear_year.npy', allow_pickle=True).reshape(1)[0]\n"
   ]
  },
  {
   "cell_type": "code",
   "execution_count": 10,
   "metadata": {
    "scrolled": true
   },
   "outputs": [
    {
     "data": {
      "text/plain": [
       "{10: [[1988,\n",
       "   1989,\n",
       "   1990,\n",
       "   1991,\n",
       "   1992,\n",
       "   1993,\n",
       "   1994,\n",
       "   1995,\n",
       "   1996,\n",
       "   1997,\n",
       "   1998,\n",
       "   1999,\n",
       "   2000,\n",
       "   2001,\n",
       "   2002,\n",
       "   2003,\n",
       "   2007,\n",
       "   2008,\n",
       "   2009]],\n",
       " 15: [[1988,\n",
       "   1989,\n",
       "   1990,\n",
       "   1991,\n",
       "   1992,\n",
       "   1993,\n",
       "   1994,\n",
       "   1995,\n",
       "   1996,\n",
       "   1997,\n",
       "   1998,\n",
       "   1999,\n",
       "   2000,\n",
       "   2001,\n",
       "   2002,\n",
       "   2003,\n",
       "   2007]],\n",
       " 20: [[1988,\n",
       "   1989,\n",
       "   1990,\n",
       "   1991,\n",
       "   1992,\n",
       "   1993,\n",
       "   1994,\n",
       "   1995,\n",
       "   1996,\n",
       "   1997,\n",
       "   1998,\n",
       "   1999,\n",
       "   2000,\n",
       "   2001,\n",
       "   2002]],\n",
       " 25: [[1988, 1989, 1990, 1991, 1992, 1993, 1994, 1995, 1996, 1997]],\n",
       " 30: [[1988, 1989, 1990, 1991, 1992]]}"
      ]
     },
     "execution_count": 10,
     "metadata": {},
     "output_type": "execute_result"
    }
   ],
   "source": [
    "bear_year"
   ]
  },
  {
   "cell_type": "code",
   "execution_count": 11,
   "metadata": {},
   "outputs": [
    {
     "name": "stdout",
     "output_type": "stream",
     "text": [
      "{10: [[1999, 2000, 2001, 2002, 2003, 2007, 2008, 2009]], 15: [[1999, 2000, 2001, 2002, 2003, 2007]], 20: [[1999, 2000, 2001, 2002]]}\n"
     ]
    }
   ],
   "source": [
    "bear_year_low = {}\n",
    "\n",
    "for key, value in bear_year.items():\n",
    "    # Set intersection between the inner list of bear_year and high_year_\n",
    "    intersection = list(set(value[0]) & set(low_year_))\n",
    "    if intersection:\n",
    "        bear_year_low[key] = [sorted(intersection)]\n",
    "\n",
    "print(bear_year_low)"
   ]
  },
  {
   "cell_type": "code",
   "execution_count": 12,
   "metadata": {},
   "outputs": [
    {
     "name": "stdout",
     "output_type": "stream",
     "text": [
      "{10: [[1993, 1994, 1995, 1996, 1997, 1998]], 15: [[1993, 1994, 1995, 1996, 1997, 1998]], 20: [[1993, 1994, 1995, 1996, 1997, 1998]], 25: [[1993, 1994, 1995, 1996, 1997]]}\n"
     ]
    }
   ],
   "source": [
    "bear_year_mid = {}\n",
    "\n",
    "for key, value in bear_year.items():\n",
    "    # Set intersection between the inner list of bear_year and high_year_\n",
    "    intersection = list(set(value[0]) & set(mid_year_))\n",
    "    if intersection:\n",
    "        bear_year_mid[key] = [sorted(intersection)]\n",
    "\n",
    "print(bear_year_mid)"
   ]
  },
  {
   "cell_type": "code",
   "execution_count": 13,
   "metadata": {},
   "outputs": [
    {
     "name": "stdout",
     "output_type": "stream",
     "text": [
      "{10: [[1988, 1989, 1990, 1991, 1992]], 15: [[1988, 1989, 1990, 1991, 1992]], 20: [[1988, 1989, 1990, 1991, 1992]], 25: [[1988, 1989, 1990, 1991, 1992]], 30: [[1988, 1989, 1990, 1991, 1992]]}\n"
     ]
    }
   ],
   "source": [
    "bear_year_high = {}\n",
    "\n",
    "for key, value in bear_year.items():\n",
    "    # Set intersection between the inner list of bear_year and high_year_\n",
    "    intersection = list(set(value[0]) & set(high_year_))\n",
    "    if intersection:\n",
    "        bear_year_high[key] = [sorted(intersection)]\n",
    "\n",
    "print(bear_year_high)"
   ]
  },
  {
   "cell_type": "code",
   "execution_count": 14,
   "metadata": {},
   "outputs": [],
   "source": [
    "bear_year_high = {}\n",
    "\n",
    "for key, value in bear_year.items():\n",
    "    # Set intersection between the inner list of bear_year and high_year_\n",
    "    intersection = list(set(value[0]) & set(high_year_))\n",
    "    if intersection:\n",
    "        bear_year_high[key] = [sorted(intersection)]\n",
    "\n",
    "print(bear_year_high)"
   ]
  },
  {
   "cell_type": "code",
   "execution_count": 15,
   "metadata": {},
   "outputs": [],
   "source": [
    "upper_years = [20, 25, 30]"
   ]
  },
  {
   "cell_type": "code",
   "execution_count": 16,
   "metadata": {},
   "outputs": [],
   "source": [
    "low_perform = {}\n",
    "mid_perform = {}\n",
    "high_perform = {}\n",
    "for upper_year in upper_years:\n",
    "    low_perform[upper_year] = {\n",
    "    'dep':[],\n",
    "    'max':[],\n",
    "    'under':[],\n",
    "    'inc':[],\n",
    "    'beq':[],\n",
    "    'total':[]\n",
    "}\n",
    "    mid_perform[upper_year] = {\n",
    "    'dep':[],\n",
    "    'max':[],\n",
    "    'under':[],\n",
    "    'inc':[],\n",
    "    'beq':[],\n",
    "    'total':[]\n",
    "}\n",
    "    \n",
    "    high_perform[upper_year] = {\n",
    "    'dep':[],\n",
    "    'max':[],\n",
    "    'under':[],\n",
    "    'inc':[],\n",
    "    'beq':[],\n",
    "    'total':[]\n",
    "}"
   ]
  },
  {
   "cell_type": "code",
   "execution_count": 17,
   "metadata": {
    "scrolled": true
   },
   "outputs": [],
   "source": [
    "init_wealth = 350000\n",
    "k = 0.5\n",
    "withdraw_rate = 0.06\n",
    "\n",
    "for upper_year in upper_years:\n",
    "    for years in bear_year[upper_year] :\n",
    "        for year in years:\n",
    "            res = pv.get_metric(year, k, upper_year, withdraw_rate, df, init_wealth, p_val_low, w_val_low)\n",
    "            if res[2] < upper_year*12 : #고갈 시점이 upper_year보다 작으면 (이미 고갈이 되면)\n",
    "                low_perform[upper_year]['dep'].append(100)\n",
    "            elif res[2] >= upper_year*12: # 고갈이 안되면\n",
    "                low_perform[upper_year]['dep'].append(0)\n",
    "            low_perform[upper_year]['max'].append(res[3])\n",
    "            low_perform[upper_year]['under'].append(res[4])\n",
    "            low_perform[upper_year]['inc'].append(res[1])\n",
    "            low_perform[upper_year]['beq'].append(res[0])\n",
    "            low_perform[upper_year]['total'].append(res[1] + res[0])\n",
    "\n",
    "    for years in bear_year[upper_year]:\n",
    "        for year in years:\n",
    "            res = pv.get_metric(year, k, upper_year, withdraw_rate, df, init_wealth, p_val_mid, w_val_mid)\n",
    "            if res[2] < upper_year*12 : #고갈 시점이 upper_year보다 작으면 (이미 고갈이 되면)\n",
    "                mid_perform[upper_year]['dep'].append(100)\n",
    "            elif res[2] >= upper_year*12: # 고갈이 안되면\n",
    "                mid_perform[upper_year]['dep'].append(0)\n",
    "            mid_perform[upper_year]['max'].append(res[3])\n",
    "            mid_perform[upper_year]['under'].append(res[4])\n",
    "            mid_perform[upper_year]['inc'].append(res[1])\n",
    "            mid_perform[upper_year]['beq'].append(res[0])\n",
    "            mid_perform[upper_year]['total'].append(res[1] + res[0])\n",
    "\n",
    "    for years in bear_year[upper_year]:\n",
    "        for year in years:\n",
    "            res = pv.get_metric(year, k, upper_year, withdraw_rate, df, init_wealth, p_val_high, w_val_high)\n",
    "            if res[2] < upper_year*12 : #고갈 시점이 upper_year보다 작으면 (이미 고갈이 되면)\n",
    "                high_perform[upper_year]['dep'].append(100)\n",
    "            elif res[2] >= upper_year*12: # 고갈이 안되면\n",
    "                high_perform[upper_year]['dep'].append(0)\n",
    "            high_perform[upper_year]['max'].append(res[3])\n",
    "            high_perform[upper_year]['under'].append(res[4])\n",
    "            high_perform[upper_year]['inc'].append(res[1])\n",
    "            high_perform[upper_year]['beq'].append(res[0])\n",
    "            high_perform[upper_year]['total'].append(res[1] + res[0])\n"
   ]
  },
  {
   "cell_type": "code",
   "execution_count": 18,
   "metadata": {},
   "outputs": [],
   "source": [
    "# Define all dictionaries and indices we want to calculate mean for\n",
    "dicts = [low_perform, mid_perform, high_perform]\n",
    "indices = upper_years\n",
    "\n",
    "# Use list comprehension to compute all means at once\n",
    "# Store results in lists\n",
    "a = [np.round(np.mean(d[i]['dep']),1) for i in indices for d in dicts]\n",
    "b = [np.round(np.mean(d[i]['max']),1) for i in indices for d in dicts]\n",
    "c = [np.round(np.mean(d[i]['under']),1) for i in indices for d in dicts]\n",
    "d = [np.round(np.mean(d[i]['inc']),1) for i in indices for d in dicts]\n",
    "e = [np.round(np.mean(d[i]['beq']),1) for i in indices for d in dicts]\n",
    "f = [np.round(np.mean(d[i]['total']),1) for i in indices for d in dicts]\n",
    "\n",
    "# If you need to access the results separately, you can do so by indexing the lists:\n",
    "# For example, a1 corresponds to a_results[0], a2 corresponds to a_results[1], etc."
   ]
  },
  {
   "cell_type": "code",
   "execution_count": 19,
   "metadata": {},
   "outputs": [
    {
     "name": "stdout",
     "output_type": "stream",
     "text": [
      "Depletion Prob. (\\%) & & 66.7 & 60.0 & 13.3 & & 100.0 & 100.0 & 40.0 & & 100.0 & 100.0 & 60.0\n",
      "Max. decline (\\%) & & -92.8 & -88.4 & -64.6 & & -100.0 & -100.0 & -89.5 & & -100.0 & -100.0 & -97.7\n",
      "Underwater duration (month) & & 223.9 & 216.9 & 165.3 & & 288.0 & 286.7 & 275.6 & & 346.8 & 344.8 & 330.2\n",
      "Total withdrawal (\\%) & & 75.2 & 77.8 & 85.8 & & 70.9 & 75.5 & 92.2 & & 68.0 & 71.9 & 92.1\n",
      "Bequest (\\%) & & 7.7 & 12.5 & 41.9 & & 0.0 & 0.0 & 11.5 & & 0.0 & 0.0 & 2.5\n",
      "Total withdrawal + Bequest (\\%) & & 82.9 & 90.2 & 127.7 & & 70.9 & 75.5 & 103.7 & & 68.0 & 71.9 & 94.6\n"
     ]
    }
   ],
   "source": [
    "\n",
    "print('Depletion Prob. (\\%) & & {} & {} & {} & & {} & {} & {} & & {} & {} & {}'.format(a[0], a[1], a[2], a[3], a[4], a[5], a[6], a[7], a[8]))\n",
    "print('Max. decline (\\%) & & {} & {} & {} & & {} & {} & {} & & {} & {} & {}'.format(b[0], b[1], b[2], b[3], b[4], b[5], b[6], b[7], b[8]))\n",
    "print('Underwater duration (month) & & {} & {} & {} & & {} & {} & {} & & {} & {} & {}'.format(c[0], c[1], c[2], c[3], c[4], c[5], c[6], c[7], c[8]))\n",
    "print('Total withdrawal (\\%) & & {} & {} & {} & & {} & {} & {} & & {} & {} & {}'.format(d[0], d[1], d[2], d[3], d[4], d[5], d[6], d[7], d[8]))\n",
    "print('Bequest (\\%) & & {} & {} & {} & & {} & {} & {} & & {} & {} & {}'.format(e[0], e[1], e[2], e[3], e[4], e[5], e[6], e[7], e[8]))\n",
    "print('Total withdrawal + Bequest (\\%) & & {} & {} & {} & & {} & {} & {} & & {} & {} & {}'.format(f[0], f[1], f[2], f[3], f[4], f[5], f[6], f[7], f[8]))\n",
    "\n",
    "\n",
    "\n",
    "\n"
   ]
  }
 ],
 "metadata": {
  "kernelspec": {
   "display_name": "hyungjinko",
   "language": "python",
   "name": "hyungjinko"
  },
  "language_info": {
   "codemirror_mode": {
    "name": "ipython",
    "version": 3
   },
   "file_extension": ".py",
   "mimetype": "text/x-python",
   "name": "python",
   "nbconvert_exporter": "python",
   "pygments_lexer": "ipython3",
   "version": "3.8.5"
  }
 },
 "nbformat": 4,
 "nbformat_minor": 4
}
