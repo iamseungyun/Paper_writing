{
 "cells": [
  {
   "cell_type": "code",
   "execution_count": 1,
   "metadata": {},
   "outputs": [],
   "source": [
    "import pandas as pd\n",
    "import numpy as np\n",
    "from pandas import Series, DataFrame\n",
    "from datetime import datetime, timedelta\n",
    "from dateutil.relativedelta import relativedelta\n",
    "from matplotlib import pyplot as plt\n",
    "import pickle\n",
    "import import_ipynb\n",
    "import sys\n",
    "sys.path.append('./../../')\n",
    "import Portfolio_value as pv"
   ]
  },
  {
   "cell_type": "code",
   "execution_count": 2,
   "metadata": {},
   "outputs": [],
   "source": [
    "df =  pd.read_csv('./../../data/data.csv')"
   ]
  },
  {
   "cell_type": "code",
   "execution_count": 3,
   "metadata": {},
   "outputs": [],
   "source": [
    "p_val_low = np.load('./../../result/revision/revision_proportion/p_val/p_val_const_delaying.npy', allow_pickle=True)\n",
    "w_val_low = np.load('./../../result/revision/revision_proportion/w_val/w_val_const_delaying.npy', allow_pickle=True)\n",
    "\n",
    "p_val_low = p_val_low.reshape(1)\n",
    "p_val_low = p_val_low[0]\n",
    "\n",
    "w_val_low = w_val_low.reshape(1)\n",
    "w_val_low = w_val_low[0]\n"
   ]
  },
  {
   "cell_type": "code",
   "execution_count": 4,
   "metadata": {},
   "outputs": [],
   "source": [
    "p_val_mid = np.load('./../../result/revision/revision_proportion/p_val/p_val_const_delaying.npy', allow_pickle=True)\n",
    "w_val_mid = np.load('./../../result/revision/revision_proportion/w_val/w_val_const_delaying.npy', allow_pickle=True)\n",
    "\n",
    "p_val_mid = p_val_mid.reshape(1)\n",
    "p_val_mid = p_val_mid[0]\n",
    "\n",
    "w_val_mid = w_val_mid.reshape(1)\n",
    "w_val_mid = w_val_mid[0]\n"
   ]
  },
  {
   "cell_type": "code",
   "execution_count": 5,
   "metadata": {},
   "outputs": [],
   "source": [
    "p_val_high = np.load('./../../result/revision/revision_proportion/p_val/p_val_const_delaying.npy', allow_pickle=True)\n",
    "w_val_high = np.load('./../../result/revision/revision_proportion/w_val/w_val_const_delaying.npy', allow_pickle=True)\n",
    "\n",
    "p_val_high = p_val_high.reshape(1)\n",
    "p_val_high = p_val_high[0]\n",
    "\n",
    "w_val_high = w_val_high.reshape(1)\n",
    "w_val_high = w_val_high[0]\n",
    "\n",
    "\n"
   ]
  },
  {
   "cell_type": "code",
   "execution_count": 6,
   "metadata": {},
   "outputs": [],
   "source": [
    "\n",
    "# for upper_year in [15,20,25]:\n",
    "#     for k in [0.0,0.1,0.2,0.3,0.4,0.5,0.6,0.7,0.8,0.9,1.0]:\n",
    "#         for withdraw_rate in [0.04,0.06,0.08,0.10]:\n",
    "#             for year in range(1980,2003-upper_year):\n",
    "             "
   ]
  },
  {
   "cell_type": "code",
   "execution_count": 7,
   "metadata": {},
   "outputs": [],
   "source": [
    "bear_year = np.load('./../../result/year/bear_year.npy', allow_pickle=True).reshape(1)[0]\n"
   ]
  },
  {
   "cell_type": "code",
   "execution_count": 8,
   "metadata": {},
   "outputs": [],
   "source": [
    "# with drawal rate 바꿀때 마다 같이 바꿔 줘야 함.\n",
    "\n",
    "upper_years = [10, 15, 20]\n",
    "\n",
    "#0년 딜레이 [20, 25, 30]\n",
    "#5년 딜레이 [15, 20, 25]\n",
    "#10년 딜레이 [10, 15, 20]\n"
   ]
  },
  {
   "cell_type": "code",
   "execution_count": 9,
   "metadata": {},
   "outputs": [],
   "source": [
    "low_perform = {}\n",
    "mid_perform = {}\n",
    "high_perform = {}\n",
    "for upper_year in upper_years:\n",
    "    low_perform[upper_year] = {\n",
    "    'dep':[],\n",
    "    'max':[],\n",
    "    'under':[],\n",
    "    'inc':[],\n",
    "    'beq':[],\n",
    "    'total':[]\n",
    "}\n",
    "    mid_perform[upper_year] = {\n",
    "    'dep':[],\n",
    "    'max':[],\n",
    "    'under':[],\n",
    "    'inc':[],\n",
    "    'beq':[],\n",
    "    'total':[]\n",
    "}\n",
    "    \n",
    "    high_perform[upper_year] = {\n",
    "    'dep':[],\n",
    "    'max':[],\n",
    "    'under':[],\n",
    "    'inc':[],\n",
    "    'beq':[],\n",
    "    'total':[]\n",
    "}"
   ]
  },
  {
   "cell_type": "code",
   "execution_count": 10,
   "metadata": {},
   "outputs": [],
   "source": [
    "# ((2070000 - 1101560)*12/1300)/init_wealth\n",
    "# ((2070000 - 945030)*12/1300)/init_wealth\n",
    "# ((2880000 - 1258080)*12/1300)/init_wealth"
   ]
  },
  {
   "cell_type": "code",
   "execution_count": 11,
   "metadata": {},
   "outputs": [],
   "source": [
    "#      30년간 납입 / 35년간 납입 / 40년간 납입\n",
    "# 8 -> 5.1 / 4.7 / 4.3\n",
    "# 6 -> 3 / 2.6 / 2.1\n",
    "# 4 -> 1.3 / 0.9 / 0.5"
   ]
  },
  {
   "cell_type": "markdown",
   "metadata": {},
   "source": [
    "# 10-year delayed"
   ]
  },
  {
   "cell_type": "code",
   "execution_count": 12,
   "metadata": {
    "scrolled": true
   },
   "outputs": [],
   "source": [
    "init_wealth = 350000\n",
    "# 60대 가구의 평균 소득 4097만원/연 -> 341만/월 -> 945030(0년)/1101560(5년)/1258080(10년)\n",
    "withdraw_rate = 0.021 #0.043 # 0.021\n",
    "\n",
    "for upper_year in upper_years:\n",
    "    for years in bear_year[upper_year]:\n",
    "        for year in years:\n",
    "            k = 0.4\n",
    "            res = pv.get_metric(year, k, upper_year, withdraw_rate, df, init_wealth, p_val_low, w_val_low)\n",
    "            if res[2] < upper_year*12 : #고갈 시점이 upper_year보다 작으면 (이미 고갈이 되면)\n",
    "                low_perform[upper_year]['dep'].append(100)\n",
    "            elif res[2] >= upper_year*12: # 고갈이 안되면\n",
    "                low_perform[upper_year]['dep'].append(0)\n",
    "            low_perform[upper_year]['max'].append(res[3])\n",
    "            low_perform[upper_year]['under'].append(res[4])\n",
    "            low_perform[upper_year]['inc'].append(res[1])\n",
    "            low_perform[upper_year]['beq'].append(res[0])\n",
    "            low_perform[upper_year]['total'].append(res[1] + res[0])\n",
    "\n",
    "    for years in bear_year[upper_year]:\n",
    "        for year in years:\n",
    "            k = 0.3\n",
    "            res = pv.get_metric(year, k, upper_year, withdraw_rate, df, init_wealth, p_val_mid, w_val_mid)\n",
    "            if res[2] < upper_year*12 : #고갈 시점이 upper_year보다 작으면 (이미 고갈이 되면)\n",
    "                mid_perform[upper_year]['dep'].append(100)\n",
    "            elif res[2] >= upper_year*12: # 고갈이 안되면\n",
    "                mid_perform[upper_year]['dep'].append(0)\n",
    "            mid_perform[upper_year]['max'].append(res[3])\n",
    "            mid_perform[upper_year]['under'].append(res[4])\n",
    "            mid_perform[upper_year]['inc'].append(res[1])\n",
    "            mid_perform[upper_year]['beq'].append(res[0])\n",
    "            mid_perform[upper_year]['total'].append(res[1] + res[0])\n",
    "\n",
    "    for years in bear_year[upper_year]:\n",
    "        for year in years:\n",
    "            k = 0.2\n",
    "            res = pv.get_metric(year, k, upper_year, withdraw_rate, df, init_wealth, p_val_high, w_val_high)\n",
    "            if res[2] < upper_year*12 : #고갈 시점이 upper_year보다 작으면 (이미 고갈이 되면)\n",
    "                high_perform[upper_year]['dep'].append(100)\n",
    "            elif res[2] >= upper_year*12: # 고갈이 안되면\n",
    "                high_perform[upper_year]['dep'].append(0)\n",
    "            high_perform[upper_year]['max'].append(res[3])\n",
    "            high_perform[upper_year]['under'].append(res[4])\n",
    "            high_perform[upper_year]['inc'].append(res[1])\n",
    "            high_perform[upper_year]['beq'].append(res[0])\n",
    "            high_perform[upper_year]['total'].append(res[1] + res[0])\n",
    "    \n",
    "#     print('upper_year:', upper_year)\n",
    "#     print('withdraw_rates:', withdraw_rate)\n",
    "#     print('full dep prob:', full_perform[upper_year]['dep'])"
   ]
  },
  {
   "cell_type": "markdown",
   "metadata": {},
   "source": [
    "# 5-year delayed"
   ]
  },
  {
   "cell_type": "code",
   "execution_count": 10,
   "metadata": {},
   "outputs": [],
   "source": [
    "init_wealth = 350000\n",
    "# 60대 가구의 평균 소득 4097만원/연 -> 341만/월 -> 945030(0년)/1101560(5년)/1258080(10년)\n",
    "withdraw_rate = 0.026 # 0.026#0.047 # \n",
    "\n",
    "\n",
    "for upper_year in upper_years:\n",
    "    for years in bear_year[upper_year]:\n",
    "        for year in years:\n",
    "            k = 0.4\n",
    "            res = pv.get_metric(year, k, upper_year, withdraw_rate, df, init_wealth, p_val_low, w_val_low)\n",
    "            if res[2] < upper_year*12 : #고갈 시점이 upper_year보다 작으면 (이미 고갈이 되면)\n",
    "                low_perform[upper_year]['dep'].append(100)\n",
    "            elif res[2] >= upper_year*12: # 고갈이 안되면\n",
    "                low_perform[upper_year]['dep'].append(0)\n",
    "            low_perform[upper_year]['max'].append(res[3])\n",
    "            low_perform[upper_year]['under'].append(res[4])\n",
    "            low_perform[upper_year]['inc'].append(res[1])\n",
    "            low_perform[upper_year]['beq'].append(res[0])\n",
    "            low_perform[upper_year]['total'].append(res[1] + res[0])\n",
    "\n",
    "    for years in bear_year[upper_year]:\n",
    "        for year in years:\n",
    "            k = 0.3\n",
    "            res = pv.get_metric(year, k, upper_year, withdraw_rate, df, init_wealth, p_val_mid, w_val_mid)\n",
    "            if res[2] < upper_year*12 : #고갈 시점이 upper_year보다 작으면 (이미 고갈이 되면)\n",
    "                mid_perform[upper_year]['dep'].append(100)\n",
    "            elif res[2] >= upper_year*12: # 고갈이 안되면\n",
    "                mid_perform[upper_year]['dep'].append(0)\n",
    "            mid_perform[upper_year]['max'].append(res[3])\n",
    "            mid_perform[upper_year]['under'].append(res[4])\n",
    "            mid_perform[upper_year]['inc'].append(res[1])\n",
    "            mid_perform[upper_year]['beq'].append(res[0])\n",
    "            mid_perform[upper_year]['total'].append(res[1] + res[0])\n",
    "\n",
    "    for years in bear_year[upper_year]:\n",
    "        for year in years:\n",
    "            k = 0.2\n",
    "            res = pv.get_metric(year, k, upper_year, withdraw_rate, df, init_wealth, p_val_high, w_val_high)\n",
    "            if res[2] < upper_year*12 : #고갈 시점이 upper_year보다 작으면 (이미 고갈이 되면)\n",
    "                high_perform[upper_year]['dep'].append(100)\n",
    "            elif res[2] >= upper_year*12: # 고갈이 안되면\n",
    "                high_perform[upper_year]['dep'].append(0)\n",
    "            high_perform[upper_year]['max'].append(res[3])\n",
    "            high_perform[upper_year]['under'].append(res[4])\n",
    "            high_perform[upper_year]['inc'].append(res[1])\n",
    "            high_perform[upper_year]['beq'].append(res[0])\n",
    "            high_perform[upper_year]['total'].append(res[1] + res[0])\n",
    "    \n",
    "#     print('upper_year:', upper_year)\n",
    "#     print('withdraw_rates:', withdraw_rate)\n",
    "#     print('full dep prob:', full_perform[upper_year]['dep'])"
   ]
  },
  {
   "cell_type": "markdown",
   "metadata": {},
   "source": [
    "# 0-year delayed"
   ]
  },
  {
   "cell_type": "code",
   "execution_count": 10,
   "metadata": {},
   "outputs": [],
   "source": [
    "init_wealth = 350000\n",
    "# 60대 가구의 평균 소득 4097만원/연 -> 341만/월 -> 945030(0년)/1101560(5년)/1258080(10년)\n",
    "withdraw_rate = 0.03#0.03#0.051 # \n",
    "\n",
    "for upper_year in upper_years:\n",
    "    for years in bear_year[upper_year]:\n",
    "        for year in years:\n",
    "            k = 0.4\n",
    "            res = pv.get_metric(year, k, upper_year, withdraw_rate, df, init_wealth, p_val_low, w_val_low)\n",
    "            if res[2] < upper_year*12 : #고갈 시점이 upper_year보다 작으면 (이미 고갈이 되면)\n",
    "                low_perform[upper_year]['dep'].append(100)\n",
    "            elif res[2] >= upper_year*12: # 고갈이 안되면\n",
    "                low_perform[upper_year]['dep'].append(0)\n",
    "            low_perform[upper_year]['max'].append(res[3])\n",
    "            low_perform[upper_year]['under'].append(res[4])\n",
    "            low_perform[upper_year]['inc'].append(res[1])\n",
    "            low_perform[upper_year]['beq'].append(res[0])\n",
    "            low_perform[upper_year]['total'].append(res[1] + res[0])\n",
    "\n",
    "    for years in bear_year[upper_year]:\n",
    "        for year in years:\n",
    "            k = 0.3\n",
    "            res = pv.get_metric(year, k, upper_year, withdraw_rate, df, init_wealth, p_val_mid, w_val_mid)\n",
    "            if res[2] < upper_year*12 : #고갈 시점이 upper_year보다 작으면 (이미 고갈이 되면)\n",
    "                mid_perform[upper_year]['dep'].append(100)\n",
    "            elif res[2] >= upper_year*12: # 고갈이 안되면\n",
    "                mid_perform[upper_year]['dep'].append(0)\n",
    "            mid_perform[upper_year]['max'].append(res[3])\n",
    "            mid_perform[upper_year]['under'].append(res[4])\n",
    "            mid_perform[upper_year]['inc'].append(res[1])\n",
    "            mid_perform[upper_year]['beq'].append(res[0])\n",
    "            mid_perform[upper_year]['total'].append(res[1] + res[0])\n",
    "\n",
    "    for years in bear_year[upper_year]:\n",
    "        for year in years:\n",
    "            k = 0.2\n",
    "            res = pv.get_metric(year, k, upper_year, withdraw_rate, df, init_wealth, p_val_high, w_val_high)\n",
    "            if res[2] < upper_year*12 : #고갈 시점이 upper_year보다 작으면 (이미 고갈이 되면)\n",
    "                high_perform[upper_year]['dep'].append(100)\n",
    "            elif res[2] >= upper_year*12: # 고갈이 안되면\n",
    "                high_perform[upper_year]['dep'].append(0)\n",
    "            high_perform[upper_year]['max'].append(res[3])\n",
    "            high_perform[upper_year]['under'].append(res[4])\n",
    "            high_perform[upper_year]['inc'].append(res[1])\n",
    "            high_perform[upper_year]['beq'].append(res[0])\n",
    "            high_perform[upper_year]['total'].append(res[1] + res[0])\n",
    "    \n",
    "#     print('upper_year:', upper_year)\n",
    "#     print('withdraw_rates:', withdraw_rate)\n",
    "#     print('full dep prob:', full_perform[upper_year]['dep'])"
   ]
  },
  {
   "cell_type": "code",
   "execution_count": 13,
   "metadata": {},
   "outputs": [],
   "source": [
    "# Define all dictionaries and indices we want to calculate mean for\n",
    "dicts = [low_perform, mid_perform, high_perform]\n",
    "indices = upper_years\n",
    "\n",
    "# Use list comprehension to compute all means at once\n",
    "# Store results in lists\n",
    "a = [np.round(np.mean(d[i]['dep']),1) for i in indices for d in dicts]\n",
    "b = [np.round(np.mean(d[i]['max']),1) for i in indices for d in dicts]\n",
    "c = [np.round(np.mean(d[i]['under']),1) for i in indices for d in dicts]\n",
    "d = [np.round(np.mean(d[i]['inc']),1) for i in indices for d in dicts]\n",
    "e = [np.round(np.mean(d[i]['beq']),1) for i in indices for d in dicts]\n",
    "f = [np.round(np.mean(d[i]['total']),1) for i in indices for d in dicts]\n",
    "\n",
    "# If you need to access the results separately, you can do so by indexing the lists:\n",
    "# For example, a1 corresponds to a_results[0], a2 corresponds to a_results[1], etc."
   ]
  },
  {
   "cell_type": "code",
   "execution_count": 14,
   "metadata": {},
   "outputs": [
    {
     "name": "stdout",
     "output_type": "stream",
     "text": [
      "Depletion Prob. (\\%) & & 0.0 & 0.0 & 0.0 & & 0.0 & 0.0 & 0.0 & & 0.0 & 0.0 & 0.0\n",
      "Max. decline (\\%) & & -35.6 & -30.7 & -26.6 & & -39.7 & -35.3 & -33.2 & & -45.7 & -43.2 & -41.9\n",
      "Underwater duration (month) & & 50.1 & 42.0 & 28.6 & & 76.9 & 54.8 & 30.6 & & 107.7 & 67.9 & 32.3\n",
      "Total withdrawal (\\%) & & 20.1 & 20.1 & 20.1 & & 29.4 & 29.4 & 29.4 & & 38.2 & 38.2 & 38.2\n",
      "Bequest (\\%) & & 75.0 & 76.0 & 76.7 & & 67.2 & 67.8 & 67.8 & & 58.0 & 58.7 & 58.5\n",
      "Total withdrawal + Bequest (\\%) & & 95.1 & 96.1 & 96.8 & & 96.6 & 97.2 & 97.2 & & 96.2 & 97.0 & 96.8\n"
     ]
    }
   ],
   "source": [
    "\n",
    "print('Depletion Prob. (\\%) & & {} & {} & {} & & {} & {} & {} & & {} & {} & {}'.format(a[0], a[1], a[2], a[3], a[4], a[5], a[6], a[7], a[8]))\n",
    "print('Max. decline (\\%) & & {} & {} & {} & & {} & {} & {} & & {} & {} & {}'.format(b[0], b[1], b[2], b[3], b[4], b[5], b[6], b[7], b[8]))\n",
    "print('Underwater duration (month) & & {} & {} & {} & & {} & {} & {} & & {} & {} & {}'.format(c[0], c[1], c[2], c[3], c[4], c[5], c[6], c[7], c[8]))\n",
    "print('Total withdrawal (\\%) & & {} & {} & {} & & {} & {} & {} & & {} & {} & {}'.format(d[0], d[1], d[2], d[3], d[4], d[5], d[6], d[7], d[8]))\n",
    "print('Bequest (\\%) & & {} & {} & {} & & {} & {} & {} & & {} & {} & {}'.format(e[0], e[1], e[2], e[3], e[4], e[5], e[6], e[7], e[8]))\n",
    "print('Total withdrawal + Bequest (\\%) & & {} & {} & {} & & {} & {} & {} & & {} & {} & {}'.format(f[0], f[1], f[2], f[3], f[4], f[5], f[6], f[7], f[8]))\n",
    "\n",
    "\n",
    "\n",
    "\n"
   ]
  }
 ],
 "metadata": {
  "kernelspec": {
   "display_name": "hyungjinko",
   "language": "python",
   "name": "hyungjinko"
  },
  "language_info": {
   "codemirror_mode": {
    "name": "ipython",
    "version": 3
   },
   "file_extension": ".py",
   "mimetype": "text/x-python",
   "name": "python",
   "nbconvert_exporter": "python",
   "pygments_lexer": "ipython3",
   "version": "3.8.5"
  }
 },
 "nbformat": 4,
 "nbformat_minor": 4
}
