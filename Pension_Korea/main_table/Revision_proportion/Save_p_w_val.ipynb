{
 "cells": [
  {
   "cell_type": "code",
   "execution_count": 1,
   "metadata": {},
   "outputs": [],
   "source": [
    "import pandas as pd\n",
    "import numpy as np\n",
    "from pandas import Series, DataFrame\n",
    "from datetime import datetime, timedelta\n",
    "from dateutil.relativedelta import relativedelta\n",
    "from matplotlib import pyplot as plt\n",
    "import pickle\n",
    "import sys\n",
    "\n",
    "sys.path.append('./../../')"
   ]
  },
  {
   "cell_type": "code",
   "execution_count": 2,
   "metadata": {},
   "outputs": [],
   "source": [
    "def static(year,t,k) :\n",
    "    return k"
   ]
  },
  {
   "cell_type": "code",
   "execution_count": 3,
   "metadata": {
    "scrolled": true
   },
   "outputs": [],
   "source": [
    "from Portfolio_value import cons_withdraw, dyna_withdraw"
   ]
  },
  {
   "cell_type": "code",
   "execution_count": 4,
   "metadata": {},
   "outputs": [],
   "source": [
    "df =  pd.read_csv('./../../data/data.csv')"
   ]
  },
  {
   "cell_type": "code",
   "execution_count": 5,
   "metadata": {},
   "outputs": [],
   "source": [
    "\n",
    "portfolio_strategy = [static]"
   ]
  },
  {
   "cell_type": "code",
   "execution_count": 6,
   "metadata": {},
   "outputs": [],
   "source": [
    "# upper_year = 20\n",
    "# k = 1.0\n",
    "# withdraw_rate = 0.08\n",
    "\n",
    "upper_years = [20,25,30]"
   ]
  },
  {
   "cell_type": "markdown",
   "metadata": {},
   "source": [
    "# const"
   ]
  },
  {
   "cell_type": "code",
   "execution_count": 7,
   "metadata": {
    "scrolled": true
   },
   "outputs": [],
   "source": [
    "functions = [cons_withdraw]\n",
    "init_p_val = 350000\n",
    "\n",
    "for upper_year in upper_years:\n",
    "    for k in [0.2,0.3,0.4]:\n",
    "        for withdraw_rate in [0.04,0.06,0.08]:\n",
    "            print('year{}_k{}_rate{}'.format(upper_year, k, withdraw_rate))\n",
    "            p_val = {}\n",
    "            w_val = {}\n",
    "            years = list(np.arange(1980,2023-upper_year))\n",
    "            for j, weight in enumerate(portfolio_strategy) :\n",
    "                print('{} Strategy'.format(weight))\n",
    "\n",
    "                for i, function in enumerate(functions) :\n",
    "                    for year in years :\n",
    "                        print(year)\n",
    "                        p_val[year] = function(year, weight, k, upper_year, withdraw_rate, df, init_p_val)[0]\n",
    "                        w_val[year] = function(year, weight, k, upper_year, withdraw_rate, df, init_p_val)[1]\n",
    "           \n",
    "            p_val = pd.DataFrame(p_val)\n",
    "            w_val = pd.DataFrame(w_val)\n",
    "            p_val.to_csv('./../../result/revision/revision_proportion/p_val/year{}_k{}_rate{}_const.csv'.format(upper_year, k, withdraw_rate))\n",
    "            w_val.to_csv('./../../result/revision/revision_proportion/w_val/year{}_k{}_rate{}_const.csv'.format(upper_year, k, withdraw_rate))\n",
    "            \n",
    "            "
   ]
  },
  {
   "cell_type": "code",
   "execution_count": 8,
   "metadata": {},
   "outputs": [],
   "source": [
    "p_val = {}\n",
    "w_val = {}\n",
    "for upper_year in upper_years:\n",
    "    for k in [0.2,0.3,0.4]:\n",
    "        for withdraw_rate in [0.04,0.06,0.08]:\n",
    "            p_val['year{}_k{}_rate{}'.format(upper_year, k, withdraw_rate)] = {}\n",
    "            w_val['year{}_k{}_rate{}'.format(upper_year, k, withdraw_rate)] = {}\n",
    "            "
   ]
  },
  {
   "cell_type": "code",
   "execution_count": 9,
   "metadata": {},
   "outputs": [],
   "source": [
    "\n",
    "for upper_year in upper_years:\n",
    "    for k in [0.2,0.3,0.4]:\n",
    "        for withdraw_rate in [0.04,0.06,0.08]:\n",
    "            for year in range(1980,2023-upper_year):\n",
    "                print('year{}_k{}_rate{}'.format(upper_year, k, withdraw_rate))\n",
    "                print(year)\n",
    "                p_val['year{}_k{}_rate{}'.format(upper_year, k, withdraw_rate)][year] = np.array(pd.read_csv('./../../result/revision/revision_proportion/p_val/year{}_k{}_rate{}_const.csv'.format(upper_year, k, withdraw_rate))[str(year)])\n",
    "                w_val['year{}_k{}_rate{}'.format(upper_year, k, withdraw_rate)][year] = np.array(pd.read_csv('./../../result/revision/revision_proportion/w_val/year{}_k{}_rate{}_const.csv'.format(upper_year, k, withdraw_rate))[str(year)])\n",
    "\n",
    "np.save('./../../result/revision/revision_proportion/p_val/p_val_const.npy', p_val)\n",
    "np.save('./../../result/revision/revision_proportion/w_val/w_val_const.npy', w_val)\n",
    "\n"
   ]
  },
  {
   "cell_type": "markdown",
   "metadata": {},
   "source": [
    "# dynamic"
   ]
  },
  {
   "cell_type": "code",
   "execution_count": 10,
   "metadata": {
    "scrolled": true
   },
   "outputs": [],
   "source": [
    "functions = [dyna_withdraw]\n",
    "init_p_val = 350000\n",
    "\n",
    "for upper_year in upper_years:\n",
    "    for k in [0.2,0.3,0.4]:\n",
    "        for withdraw_rate in [0.04,0.06,0.08]:\n",
    "            print('year{}_k{}_rate{}'.format(upper_year, k, withdraw_rate))\n",
    "            p_val = {}\n",
    "            w_val = {}\n",
    "            years = list(np.arange(1980,2023-upper_year))\n",
    "            for j, weight in enumerate(portfolio_strategy) :\n",
    "                print('{} Strategy'.format(weight))\n",
    "\n",
    "                for i, function in enumerate(functions) :\n",
    "                    for year in years :\n",
    "                        print(year)\n",
    "                        p_val[year] = function(year, weight, k, upper_year, withdraw_rate, df, init_p_val)[0]\n",
    "                        w_val[year] = function(year, weight, k, upper_year, withdraw_rate, df, init_p_val)[1]\n",
    "                \n",
    "            p_val = pd.DataFrame(p_val)\n",
    "            w_val = pd.DataFrame(w_val)\n",
    "            p_val.to_csv('./../../result/revision/revision_proportion/p_val/year{}_k{}_rate{}_dyna.csv'.format(upper_year, k, withdraw_rate))\n",
    "            w_val.to_csv('./../../result/revision/revision_proportion/w_val/year{}_k{}_rate{}_dyna.csv'.format(upper_year, k, withdraw_rate))"
   ]
  },
  {
   "cell_type": "code",
   "execution_count": 11,
   "metadata": {},
   "outputs": [],
   "source": [
    "p_val = {}\n",
    "w_val = {}\n",
    "for upper_year in upper_years:\n",
    "    for k in [0.2,0.3,0.4]:\n",
    "        for withdraw_rate in [0.04,0.06,0.08]:\n",
    "            p_val['year{}_k{}_rate{}'.format(upper_year, k, withdraw_rate)] = {}\n",
    "            w_val['year{}_k{}_rate{}'.format(upper_year, k, withdraw_rate)] = {}\n",
    "            "
   ]
  },
  {
   "cell_type": "code",
   "execution_count": 12,
   "metadata": {},
   "outputs": [],
   "source": [
    "\n",
    "for upper_year in upper_years:\n",
    "    for k in [0.2,0.3,0.4]:\n",
    "        for withdraw_rate in [0.04,0.06,0.08]:\n",
    "            for year in range(1980,2023-upper_year):\n",
    "                print('year{}_k{}_rate{}'.format(upper_year, k, withdraw_rate))\n",
    "                print(year)\n",
    "                p_val['year{}_k{}_rate{}'.format(upper_year, k, withdraw_rate)][year] = np.array(pd.read_csv('./../../result/revision/revision_proportion/p_val/year{}_k{}_rate{}_dyna.csv'.format(upper_year, k, withdraw_rate))[str(year)])\n",
    "                w_val['year{}_k{}_rate{}'.format(upper_year, k, withdraw_rate)][year] = np.array(pd.read_csv('./../../result/revision/revision_proportion/w_val/year{}_k{}_rate{}_dyna.csv'.format(upper_year, k, withdraw_rate))[str(year)])\n",
    "\n",
    "np.save('./../../result/revision/revision_proportion/p_val/p_val_dyna.npy', p_val)\n",
    "np.save('./../../result/revision/revision_proportion/w_val/w_val_dyna.npy', w_val)\n"
   ]
  }
 ],
 "metadata": {
  "kernelspec": {
   "display_name": "hyungjinko",
   "language": "python",
   "name": "hyungjinko"
  },
  "language_info": {
   "codemirror_mode": {
    "name": "ipython",
    "version": 3
   },
   "file_extension": ".py",
   "mimetype": "text/x-python",
   "name": "python",
   "nbconvert_exporter": "python",
   "pygments_lexer": "ipython3",
   "version": "3.8.5"
  }
 },
 "nbformat": 4,
 "nbformat_minor": 4
}
