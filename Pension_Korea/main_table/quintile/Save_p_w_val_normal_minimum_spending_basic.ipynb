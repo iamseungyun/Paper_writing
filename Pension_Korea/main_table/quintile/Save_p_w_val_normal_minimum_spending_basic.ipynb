{
 "cells": [
  {
   "cell_type": "code",
   "execution_count": 1,
   "metadata": {},
   "outputs": [],
   "source": [
    "import pandas as pd\n",
    "import numpy as np\n",
    "from pandas import Series, DataFrame\n",
    "from datetime import datetime, timedelta\n",
    "from dateutil.relativedelta import relativedelta\n",
    "from matplotlib import pyplot as plt\n",
    "import pickle\n",
    "import sys\n",
    "\n",
    "sys.path.append('./../')"
   ]
  },
  {
   "cell_type": "code",
   "execution_count": 2,
   "metadata": {},
   "outputs": [],
   "source": [
    "# 65세 은퇴\n",
    "# 그시점 소득분위가 중요한게 아니라 인생전반의 소득분위가 더 영향을 미친다.\n",
    "# 평균적으로 n분위 소득을 가진 사람이 65세에 자산을 얼마나 가지고 있는지에 대한 자료.\n",
    "\n"
   ]
  },
  {
   "cell_type": "code",
   "execution_count": 3,
   "metadata": {},
   "outputs": [],
   "source": [
    "def static(year,t,k) :\n",
    "    return k"
   ]
  },
  {
   "cell_type": "code",
   "execution_count": 4,
   "metadata": {
    "scrolled": true
   },
   "outputs": [],
   "source": [
    "from Portfolio_value import cons_withdraw"
   ]
  },
  {
   "cell_type": "code",
   "execution_count": 5,
   "metadata": {},
   "outputs": [],
   "source": [
    "df =  pd.read_csv('./../data/data.csv')\n",
    "portfolio_strategy = [static]\n",
    "upper_years = [10,15,20,25,30]\n",
    "periods = 30\n",
    "periods_idx = 0"
   ]
  },
  {
   "cell_type": "code",
   "execution_count": 6,
   "metadata": {},
   "outputs": [],
   "source": [
    "init_wealth_list = np.array([1.63965472e+08, 2.70248416e+08, 3.82921690e+08, 5.36130637e+08,\n",
    "       1.06264929e+09]) / 1300"
   ]
  },
  {
   "cell_type": "code",
   "execution_count": 7,
   "metadata": {},
   "outputs": [],
   "source": [
    "init_p_vals = init_wealth_list\n",
    "bear_year = np.load('./../result/year/bear_year.npy', allow_pickle=True).reshape(1)[0]"
   ]
  },
  {
   "cell_type": "markdown",
   "metadata": {},
   "source": [
    "# normal"
   ]
  },
  {
   "cell_type": "code",
   "execution_count": 8,
   "metadata": {},
   "outputs": [],
   "source": [
    "normal_withdrawal_rate = np.array([[0.12954898, 0.06854671, 0.04080897, 0.02465377, 0.01243838],\n",
    "       [0.12230136, 0.06248429, 0.03527687, 0.01995857, 0.01006955],\n",
    "       [0.11505374, 0.05642231, 0.02974509, 0.01526315, 0.0077006 ]])"
   ]
  },
  {
   "cell_type": "code",
   "execution_count": 9,
   "metadata": {
    "scrolled": true
   },
   "outputs": [],
   "source": [
    "functions = [cons_withdraw]\n",
    "\n",
    "for upper_year in upper_years: # 5가지\n",
    "    for k in [0.5]:\n",
    "        for i, withdraw_rate in enumerate(list(normal_withdrawal_rate[periods_idx])):\n",
    "            print('year{}_k{}_rate{}_decile{}_basic'.format(upper_year, k, withdraw_rate, i+1))\n",
    "            p_val = {}\n",
    "            w_val = {}\n",
    "            years = bear_year[upper_year][0]\n",
    "            for j, weight in enumerate(portfolio_strategy) :\n",
    "                print('{} Strategy'.format(weight))\n",
    "\n",
    "                for function in functions :\n",
    "                    for year in years :\n",
    "                        print(year)\n",
    "                        res = function(year, weight, k, upper_year, withdraw_rate, df, init_p_vals[i])\n",
    "                        p_val[year] = res[0]\n",
    "                        w_val[year] = res[1]\n",
    "\n",
    "            p_val = pd.DataFrame(p_val)\n",
    "            w_val = pd.DataFrame(w_val)\n",
    "            p_val.to_csv('./../result/income_rate/p_val/year{}_k{}_decile{}_period{}_const_normal_spending_basic.csv'.format(upper_year, k, i+1, periods))\n",
    "            w_val.to_csv('./../result/income_rate/w_val/year{}_k{}_decile{}_period{}_const_normal_spending_basic.csv'.format(upper_year, k, i+1, periods))\n",
    "            \n",
    "            "
   ]
  },
  {
   "cell_type": "code",
   "execution_count": 10,
   "metadata": {},
   "outputs": [],
   "source": [
    "p_val = {}\n",
    "w_val = {}\n",
    "for upper_year in upper_years:\n",
    "    for k in [0.5]:\n",
    "        for i, withdraw_rate in enumerate(list(normal_withdrawal_rate[periods_idx])):\n",
    "            p_val['year{}_k{}_decile{}_period{}_basic'.format(upper_year, k, i+1, periods)] = {}\n",
    "            w_val['year{}_k{}_decile{}_period{}_basic'.format(upper_year, k, i+1, periods)] = {}\n",
    "            "
   ]
  },
  {
   "cell_type": "code",
   "execution_count": 11,
   "metadata": {},
   "outputs": [],
   "source": [
    "\n",
    "for upper_year in upper_years:\n",
    "    for k in [0.5]:\n",
    "        for i, withdraw_rate in enumerate(list(normal_withdrawal_rate[periods_idx])):\n",
    "            years = bear_year[upper_year][0]\n",
    "            for year in years:\n",
    "                print('year{}_k{}_decile{}_period{}_basic'.format(upper_year, k, i+1, periods))\n",
    "                print(year)\n",
    "                p_val['year{}_k{}_decile{}_period{}_basic'.format(upper_year, k, i+1, periods)][year] = np.array(pd.read_csv('./../result/income_rate/p_val/year{}_k{}_decile{}_period{}_const_normal_spending_basic.csv'.format(upper_year, k, i+1, periods))[str(year)])\n",
    "                w_val['year{}_k{}_decile{}_period{}_basic'.format(upper_year, k, i+1, periods)][year] = np.array(pd.read_csv('./../result/income_rate/w_val/year{}_k{}_decile{}_period{}_const_normal_spending_basic.csv'.format(upper_year, k, i+1, periods))[str(year)])\n",
    "\n",
    "np.save('./../result/income_rate/p_val/p_val_const_normal_spending_basic.npy', p_val)\n",
    "np.save('./../result/income_rate/w_val/w_val_const_normal_spending_basic.npy', w_val)"
   ]
  },
  {
   "cell_type": "markdown",
   "metadata": {},
   "source": [
    "# minimum"
   ]
  },
  {
   "cell_type": "code",
   "execution_count": 12,
   "metadata": {},
   "outputs": [],
   "source": [
    "minimum_withdrawal_rate = np.array([[ 0.06975591,  0.03226898,  0.01520582,  0.00636718,  0.00321239],\n",
    "       [ 0.06250828,  0.02620656,  0.00967373,  0.00167198,  0.00084355],\n",
    "       [ 0.05526066,  0.02014458,  0.00414194, -0.00302344, -0.0015254 ]])"
   ]
  },
  {
   "cell_type": "code",
   "execution_count": 13,
   "metadata": {},
   "outputs": [],
   "source": [
    "functions = [cons_withdraw]\n",
    "\n",
    "for upper_year in upper_years: # 5가지\n",
    "    for k in [0.5]:\n",
    "        for i, withdraw_rate in enumerate(list(minimum_withdrawal_rate[periods_idx])):\n",
    "            print('year{}_k{}_rate{}_decile{}_basic'.format(upper_year, k, withdraw_rate, i+1))\n",
    "            p_val = {}\n",
    "            w_val = {}\n",
    "            years = bear_year[upper_year][0]\n",
    "            for j, weight in enumerate(portfolio_strategy) :\n",
    "                print('{} Strategy'.format(weight))\n",
    "\n",
    "                for function in functions :\n",
    "                    for year in years :\n",
    "                        print(year)\n",
    "                        res = function(year, weight, k, upper_year, withdraw_rate, df, init_p_vals[i])\n",
    "                        p_val[year] = res[0]\n",
    "                        w_val[year] = res[1]\n",
    "\n",
    "            p_val = pd.DataFrame(p_val)\n",
    "            w_val = pd.DataFrame(w_val)\n",
    "            p_val.to_csv('./../result/income_rate/p_val/year{}_k{}_decile{}_period{}_const_minimum_spending_basic.csv'.format(upper_year, k, i+1, periods))\n",
    "            w_val.to_csv('./../result/income_rate/w_val/year{}_k{}_decile{}_period{}_const_minimum_spending_basic.csv'.format(upper_year, k, i+1, periods))\n",
    "            \n",
    "            "
   ]
  },
  {
   "cell_type": "code",
   "execution_count": 14,
   "metadata": {},
   "outputs": [],
   "source": [
    "p_val = {}\n",
    "w_val = {}\n",
    "for upper_year in upper_years:\n",
    "    for k in [0.5]:\n",
    "        for i, withdraw_rate in enumerate(list(minimum_withdrawal_rate[periods_idx])):\n",
    "            p_val['year{}_k{}_decile{}_period{}_basic'.format(upper_year, k, i+1, periods)] = {}\n",
    "            w_val['year{}_k{}_decile{}_period{}_basic'.format(upper_year, k, i+1, periods)] = {}\n",
    "            "
   ]
  },
  {
   "cell_type": "code",
   "execution_count": 15,
   "metadata": {},
   "outputs": [],
   "source": [
    "\n",
    "for upper_year in upper_years:\n",
    "    for k in [0.5]:\n",
    "        for i, withdraw_rate in enumerate(list(minimum_withdrawal_rate[periods_idx])):\n",
    "            years = bear_year[upper_year][0]\n",
    "            for year in years:\n",
    "                print('year{}_k{}_decile{}_period{}_basic'.format(upper_year, k, i+1, periods))\n",
    "                print(year)\n",
    "                p_val['year{}_k{}_decile{}_period{}_basic'.format(upper_year, k, i+1, periods)][year] = np.array(pd.read_csv('./../result/income_rate/p_val/year{}_k{}_decile{}_period{}_const_minimum_spending_basic.csv'.format(upper_year, k, i+1, periods))[str(year)])\n",
    "                w_val['year{}_k{}_decile{}_period{}_basic'.format(upper_year, k, i+1, periods)][year] = np.array(pd.read_csv('./../result/income_rate/w_val/year{}_k{}_decile{}_period{}_const_minimum_spending_basic.csv'.format(upper_year, k, i+1, periods))[str(year)])\n",
    "\n",
    "np.save('./../result/income_rate/p_val/p_val_const_minimum_spending_basic.npy', p_val)\n",
    "np.save('./../result/income_rate/w_val/w_val_const_minimum_spending_basic.npy', w_val)"
   ]
  }
 ],
 "metadata": {
  "kernelspec": {
   "display_name": "hyungjinko",
   "language": "python",
   "name": "hyungjinko"
  },
  "language_info": {
   "codemirror_mode": {
    "name": "ipython",
    "version": 3
   },
   "file_extension": ".py",
   "mimetype": "text/x-python",
   "name": "python",
   "nbconvert_exporter": "python",
   "pygments_lexer": "ipython3",
   "version": "3.8.5"
  }
 },
 "nbformat": 4,
 "nbformat_minor": 4
}
