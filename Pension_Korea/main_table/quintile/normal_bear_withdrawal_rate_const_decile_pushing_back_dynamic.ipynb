{
 "cells": [
  {
   "cell_type": "code",
   "execution_count": 1,
   "metadata": {},
   "outputs": [],
   "source": [
    "import pandas as pd\n",
    "import numpy as np\n",
    "from pandas import Series, DataFrame\n",
    "from datetime import datetime, timedelta\n",
    "from dateutil.relativedelta import relativedelta\n",
    "from matplotlib import pyplot as plt\n",
    "import pickle\n",
    "import import_ipynb\n",
    "import sys\n",
    "sys.path.append('./../')\n",
    "import Portfolio_value as pv"
   ]
  },
  {
   "cell_type": "code",
   "execution_count": 2,
   "metadata": {},
   "outputs": [],
   "source": [
    "df =  pd.read_csv('./../data/data.csv')"
   ]
  },
  {
   "cell_type": "code",
   "execution_count": 3,
   "metadata": {},
   "outputs": [],
   "source": [
    "def get_metric2(retire_year, k, upper_year, withrate, df, init_wealth, p_val, w_val, decile, period):\n",
    "    # bequest\n",
    "    p_amounts = p_val['year{}_k{}_decile{}_period{}_dynamic'.format(upper_year, k, decile, period)][retire_year]\n",
    "    bequest = p_amounts[12*upper_year]*init_wealth*(1-withrate)/100\n",
    "    \n",
    "    # withdraw_amount\n",
    "    w_amounts = w_val['year{}_k{}_decile{}_period{}_dynamic'.format(upper_year, k, decile, period)][retire_year]\n",
    "    withdraw_amount = sum(w_amounts)\n",
    "    \n",
    "    # depletion time\n",
    "    if np.argwhere(p_amounts == 0).size > 0 : # 고갈이 되면\n",
    "        dep_time = np.argwhere(p_amounts == 0)[0][0]\n",
    "    elif np.argwhere(p_amounts == 0).size == 0: # 고갈이 안되면\n",
    "        dep_time = upper_year*12\n",
    "        \n",
    "    # max decline\n",
    "    dec = np.min(p_amounts)/p_amounts[0]\n",
    "    dec = dec - 1\n",
    "    \n",
    "    # underwater duration\n",
    "    start_date = datetime(retire_year, 1, 1)\n",
    "    end_date = start_date + relativedelta(years=upper_year)\n",
    "    \n",
    "    df['Date'] = pd.to_datetime(df['Date'], format='%Y-%m')\n",
    "    df = df[(df['Date'] >= start_date) & (df['Date'] <= end_date)]\n",
    "    \n",
    "    under_count = 0\n",
    "    for i in range(upper_year*12):\n",
    "        if p_amounts[i]*df.iloc[i]['CPI'] < p_amounts[0]*df.iloc[0]['CPI'] :\n",
    "             under_count+= 1\n",
    "        \n",
    "    return bequest/1000, withdraw_amount/1000, dep_time, dec * 100, under_count"
   ]
  },
  {
   "cell_type": "code",
   "execution_count": 4,
   "metadata": {},
   "outputs": [],
   "source": [
    "init_wealth = np.array([1.63965472e+08]) / 1300\n",
    "k = 0.5\n",
    "withdraw_rate_normal = np.array([[0.16760578],\n",
    "                                 [0.16035815],\n",
    "                                 [0.15311053]])\n",
    "\n",
    "withdraw_rate_minimum = np.array([[0.1078127],\n",
    "                                  [0.10056508],\n",
    "                                  [0.09331745]])"
   ]
  },
  {
   "cell_type": "markdown",
   "metadata": {},
   "source": [
    "# Normal_recent"
   ]
  },
  {
   "cell_type": "code",
   "execution_count": 5,
   "metadata": {},
   "outputs": [],
   "source": [
    "p_val_normal = np.load('./../result/late_retire/p_val/p_val_const_normal_spending_dynamic.npy', allow_pickle=True)\n",
    "w_val_normal = np.load('./../result/late_retire/w_val/w_val_const_normal_spending_dynamic.npy', allow_pickle=True)\n",
    "\n",
    "p_val_normal = p_val_normal.reshape(1)\n",
    "p_val_normal = p_val_normal[0]\n",
    "\n",
    "w_val_normal = w_val_normal.reshape(1)\n",
    "w_val_normal = w_val_normal[0]"
   ]
  },
  {
   "cell_type": "code",
   "execution_count": 6,
   "metadata": {},
   "outputs": [],
   "source": [
    "\n",
    "# for upper_year in [15,20,25]:\n",
    "#     for k in [0.0,0.1,0.2,0.3,0.4,0.5,0.6,0.7,0.8,0.9,1.0]:\n",
    "#         for withdraw_rate in [0.04,0.06,0.08,0.10]:\n",
    "#             for year in range(1980,2003-upper_year):\n",
    "             "
   ]
  },
  {
   "cell_type": "code",
   "execution_count": 7,
   "metadata": {},
   "outputs": [],
   "source": [
    "normal_year = np.load('./../result/year/normal_year.npy', allow_pickle=True).reshape(1)[0]\n",
    "bear_year = np.load('./../result/year/bear_year.npy', allow_pickle=True).reshape(1)[0]\n",
    "full_year = np.load('./../result/year/full_year.npy', allow_pickle=True).reshape(1)[0]"
   ]
  },
  {
   "cell_type": "code",
   "execution_count": 8,
   "metadata": {},
   "outputs": [],
   "source": [
    "upper_years = [10,15,20, 25, 30]\n",
    "periods = [30, 35, 40]"
   ]
  },
  {
   "cell_type": "code",
   "execution_count": 9,
   "metadata": {},
   "outputs": [],
   "source": [
    "bear_perform_1_normal_recent = {}\n",
    "bear_perform_2_normal_recent = {}\n",
    "bear_perform_3_normal_recent = {}\n",
    "bear_perform_4_normal_recent = {}\n",
    "bear_perform_5_normal_recent = {}\n",
    "for upper_year in upper_years[2:5]:\n",
    "    bear_perform_1_normal_recent[upper_year] = {\n",
    "    'dep':[],\n",
    "    'max':[],\n",
    "    'under':[],\n",
    "    'inc':[],\n",
    "    'beq':[],\n",
    "    'total':[]\n",
    "}\n",
    "    bear_perform_2_normal_recent[upper_year] = {\n",
    "    'dep':[],\n",
    "    'max':[],\n",
    "    'under':[],\n",
    "    'inc':[],\n",
    "    'beq':[],\n",
    "    'total':[]\n",
    "}\n",
    "    \n",
    "    bear_perform_3_normal_recent[upper_year] = {\n",
    "    'dep':[],\n",
    "    'max':[],\n",
    "    'under':[],\n",
    "    'inc':[],\n",
    "    'beq':[],\n",
    "    'total':[]\n",
    "}\n",
    "    bear_perform_4_normal_recent[upper_year] = {\n",
    "    'dep':[],\n",
    "    'max':[],\n",
    "    'under':[],\n",
    "    'inc':[],\n",
    "    'beq':[],\n",
    "    'total':[]\n",
    "}\n",
    "    bear_perform_5_normal_recent[upper_year] = {\n",
    "    'dep':[],\n",
    "    'max':[],\n",
    "    'under':[],\n",
    "    'inc':[],\n",
    "    'beq':[],\n",
    "    'total':[]\n",
    "}"
   ]
  },
  {
   "cell_type": "code",
   "execution_count": 10,
   "metadata": {
    "scrolled": true
   },
   "outputs": [],
   "source": [
    "for upper_year in upper_years[2:5]:\n",
    "#     for years in normal_year[upper_year] :\n",
    "#         for year in years:\n",
    "#             res = get_metric2(year, k, upper_year, withdraw_rate, df, init_wealth[0], p_val, w_val, 1, 30)\n",
    "#             if res[2] < upper_year*12 : #고갈 시점이 upper_year보다 작으면 (이미 고갈이 되면)\n",
    "#                 normal_perform[upper_year]['dep'].append(100)\n",
    "#             elif res[2] >= upper_year*12: # 고갈이 안되면\n",
    "#                 normal_perform[upper_year]['dep'].append(0)\n",
    "#             normal_perform[upper_year]['max'].append(res[3])\n",
    "#             normal_perform[upper_year]['under'].append(res[4])\n",
    "#             normal_perform[upper_year]['inc'].append(res[1])\n",
    "#             normal_perform[upper_year]['beq'].append(res[0])\n",
    "#             normal_perform[upper_year]['total'].append(res[1] + res[0])\n",
    "\n",
    "    for decile in [1]:\n",
    "        for years in bear_year[upper_year]:\n",
    "            for year in years:\n",
    "                res = get_metric2(year, k, upper_year, withdraw_rate_normal[0], df, init_wealth[decile-1], p_val_normal, w_val_normal, decile, 30)\n",
    "                if res[2] < upper_year*12 : #고갈 시점이 upper_year보다 작으면 (이미 고갈이 되면)\n",
    "                    if decile == 1:\n",
    "                        bear_perform_1_normal_recent[upper_year]['dep'].append(100)\n",
    "                    elif decile == 2:\n",
    "                        bear_perform_2_normal_recent[upper_year]['dep'].append(100)\n",
    "                    elif decile == 3:\n",
    "                        bear_perform_3_normal_recent[upper_year]['dep'].append(100)\n",
    "                    elif decile == 4:\n",
    "                        bear_perform_4_normal_recent[upper_year]['dep'].append(100)\n",
    "                    elif decile == 5:\n",
    "                        bear_perform_5_normal_recent[upper_year]['dep'].append(100)\n",
    "                elif res[2] >= upper_year*12: # 고갈이 안되면\n",
    "                    if decile == 1:\n",
    "                        bear_perform_1_normal_recent[upper_year]['dep'].append(0)\n",
    "                    elif decile == 2:\n",
    "                        bear_perform_2_normal_recent[upper_year]['dep'].append(0)\n",
    "                    elif decile == 3:\n",
    "                        bear_perform_3_normal_recent[upper_year]['dep'].append(0)\n",
    "                    elif decile == 4:\n",
    "                        bear_perform_4_normal_recent[upper_year]['dep'].append(0)\n",
    "                    elif decile == 5:\n",
    "                        bear_perform_5_normal_recent[upper_year]['dep'].append(0)\n",
    "                        \n",
    "                if decile == 1:\n",
    "                    bear_perform_1_normal_recent[upper_year]['inc'].append(res[1])\n",
    "                    bear_perform_1_normal_recent[upper_year]['beq'].append(res[0])\n",
    "                    bear_perform_1_normal_recent[upper_year]['total'].append(res[1] + res[0])\n",
    "                elif decile == 2:\n",
    "                    bear_perform_2_normal_recent[upper_year]['inc'].append(res[1])\n",
    "                    bear_perform_2_normal_recent[upper_year]['beq'].append(res[0])\n",
    "                    bear_perform_2_normal_recent[upper_year]['total'].append(res[1] + res[0])\n",
    "                elif decile == 3:\n",
    "                    bear_perform_3_normal_recent[upper_year]['inc'].append(res[1])\n",
    "                    bear_perform_3_normal_recent[upper_year]['beq'].append(res[0])\n",
    "                    bear_perform_3_normal_recent[upper_year]['total'].append(res[1] + res[0])\n",
    "                elif decile == 4:\n",
    "                    bear_perform_4_normal_recent[upper_year]['inc'].append(res[1])\n",
    "                    bear_perform_4_normal_recent[upper_year]['beq'].append(res[0])\n",
    "                    bear_perform_4_normal_recent[upper_year]['total'].append(res[1] + res[0])\n",
    "                elif decile == 5:\n",
    "                    bear_perform_5_normal_recent[upper_year]['inc'].append(res[1])\n",
    "                    bear_perform_5_normal_recent[upper_year]['beq'].append(res[0])\n",
    "                    bear_perform_5_normal_recent[upper_year]['total'].append(res[1] + res[0])"
   ]
  },
  {
   "cell_type": "code",
   "execution_count": 11,
   "metadata": {},
   "outputs": [],
   "source": [
    "# Define all dictionaries and indices we want to calculate mean for\n",
    "dicts_normal_recent = [bear_perform_1_normal_recent]#[normal_perform, bear_perform, full_perform]\n",
    "indices = upper_years[2:5]\n",
    "\n",
    "# Use list comprehension to compute all means at once\n",
    "# Store results in lists\n",
    "a_normal_recent = [np.round(np.mean(d[i]['dep']),1) for i in indices for d in dicts_normal_recent]\n",
    "d_normal_recent = [np.round(np.mean(d[i]['inc']),1) for i in indices for d in dicts_normal_recent]\n",
    "e_normal_recent = [np.round(np.mean(d[i]['beq']),1) for i in indices for d in dicts_normal_recent]\n",
    "f_normal_recent = [np.round(np.mean(d[i]['total']),1) for i in indices for d in dicts_normal_recent]\n",
    "\n",
    "# If you need to access the results separately, you can do so by indexing the lists:\n",
    "# For example, a1 corresponds to a_results[0], a2 corresponds to a_results[1], etc."
   ]
  },
  {
   "cell_type": "code",
   "execution_count": 12,
   "metadata": {},
   "outputs": [
    {
     "data": {
      "text/plain": [
       "[100.0, 100.0, 100.0]"
      ]
     },
     "execution_count": 12,
     "metadata": {},
     "output_type": "execute_result"
    }
   ],
   "source": [
    "a_normal_recent"
   ]
  },
  {
   "cell_type": "code",
   "execution_count": 13,
   "metadata": {},
   "outputs": [
    {
     "data": {
      "text/plain": [
       "[124.7, 119.8, 124.8]"
      ]
     },
     "execution_count": 13,
     "metadata": {},
     "output_type": "execute_result"
    }
   ],
   "source": [
    "d_normal_recent"
   ]
  },
  {
   "cell_type": "code",
   "execution_count": 14,
   "metadata": {
    "scrolled": false
   },
   "outputs": [
    {
     "data": {
      "text/plain": [
       "[0.0, 0.0, 0.0]"
      ]
     },
     "execution_count": 14,
     "metadata": {},
     "output_type": "execute_result"
    }
   ],
   "source": [
    "e_normal_recent"
   ]
  },
  {
   "cell_type": "markdown",
   "metadata": {},
   "source": [
    "# Minimum_recent"
   ]
  },
  {
   "cell_type": "code",
   "execution_count": 15,
   "metadata": {},
   "outputs": [],
   "source": [
    "p_val_minimum = np.load('./../result/late_retire/p_val/p_val_const_minimum_spending_dynamic.npy', allow_pickle=True)\n",
    "w_val_minimum = np.load('./../result/late_retire/w_val/w_val_const_minimum_spending_dynamic.npy', allow_pickle=True)\n",
    "\n",
    "p_val_minimum = p_val_minimum.reshape(1)\n",
    "p_val_minimum = p_val_minimum[0]\n",
    "\n",
    "w_val_minimum = w_val_minimum.reshape(1)\n",
    "w_val_minimum = w_val_minimum[0]"
   ]
  },
  {
   "cell_type": "code",
   "execution_count": 16,
   "metadata": {},
   "outputs": [],
   "source": [
    "\n",
    "# for upper_year in [15,20,25]:\n",
    "#     for k in [0.0,0.1,0.2,0.3,0.4,0.5,0.6,0.7,0.8,0.9,1.0]:\n",
    "#         for withdraw_rate in [0.04,0.06,0.08,0.10]:\n",
    "#             for year in range(1980,2003-upper_year):\n",
    "             "
   ]
  },
  {
   "cell_type": "code",
   "execution_count": 17,
   "metadata": {},
   "outputs": [],
   "source": [
    "normal_year = np.load('./../result/year/normal_year.npy', allow_pickle=True).reshape(1)[0]\n",
    "bear_year = np.load('./../result/year/bear_year.npy', allow_pickle=True).reshape(1)[0]\n",
    "full_year = np.load('./../result/year/full_year.npy', allow_pickle=True).reshape(1)[0]"
   ]
  },
  {
   "cell_type": "code",
   "execution_count": 18,
   "metadata": {},
   "outputs": [],
   "source": [
    "upper_years = [10,15,20, 25, 30]\n",
    "periods = [30, 35, 40]"
   ]
  },
  {
   "cell_type": "code",
   "execution_count": 19,
   "metadata": {},
   "outputs": [],
   "source": [
    "bear_perform_1_minimum_recent = {}\n",
    "bear_perform_2_minimum_recent = {}\n",
    "bear_perform_3_minimum_recent = {}\n",
    "bear_perform_4_minimum_recent = {}\n",
    "bear_perform_5_minimum_recent = {}\n",
    "\n",
    "for upper_year in upper_years[2:5]:\n",
    "    bear_perform_1_minimum_recent[upper_year] = {\n",
    "    'dep':[],\n",
    "    'max':[],\n",
    "    'under':[],\n",
    "    'inc':[],\n",
    "    'beq':[],\n",
    "    'total':[]\n",
    "}\n",
    "    bear_perform_2_minimum_recent[upper_year] = {\n",
    "    'dep':[],\n",
    "    'max':[],\n",
    "    'under':[],\n",
    "    'inc':[],\n",
    "    'beq':[],\n",
    "    'total':[]\n",
    "}\n",
    "    \n",
    "    bear_perform_3_minimum_recent[upper_year] = {\n",
    "    'dep':[],\n",
    "    'max':[],\n",
    "    'under':[],\n",
    "    'inc':[],\n",
    "    'beq':[],\n",
    "    'total':[]\n",
    "}\n",
    "    bear_perform_4_minimum_recent[upper_year] = {\n",
    "    'dep':[],\n",
    "    'max':[],\n",
    "    'under':[],\n",
    "    'inc':[],\n",
    "    'beq':[],\n",
    "    'total':[]\n",
    "}\n",
    "    bear_perform_5_minimum_recent[upper_year] = {\n",
    "    'dep':[],\n",
    "    'max':[],\n",
    "    'under':[],\n",
    "    'inc':[],\n",
    "    'beq':[],\n",
    "    'total':[]\n",
    "}"
   ]
  },
  {
   "cell_type": "code",
   "execution_count": 20,
   "metadata": {
    "scrolled": true
   },
   "outputs": [],
   "source": [
    "for upper_year in upper_years[2:5]:\n",
    "#     for years in normal_year[upper_year] :\n",
    "#         for year in years:\n",
    "#             res = get_metric2(year, k, upper_year, withdraw_rate, df, init_wealth[0], p_val, w_val, 1, 30)\n",
    "#             if res[2] < upper_year*12 : #고갈 시점이 upper_year보다 작으면 (이미 고갈이 되면)\n",
    "#                 normal_perform[upper_year]['dep'].append(100)\n",
    "#             elif res[2] >= upper_year*12: # 고갈이 안되면\n",
    "#                 normal_perform[upper_year]['dep'].append(0)\n",
    "#             normal_perform[upper_year]['max'].append(res[3])\n",
    "#             normal_perform[upper_year]['under'].append(res[4])\n",
    "#             normal_perform[upper_year]['inc'].append(res[1])\n",
    "#             normal_perform[upper_year]['beq'].append(res[0])\n",
    "#             normal_perform[upper_year]['total'].append(res[1] + res[0])\n",
    "\n",
    "    for decile in [1]:\n",
    "        for years in bear_year[upper_year]:\n",
    "            for year in years:\n",
    "                res = get_metric2(year, k, upper_year, withdraw_rate_minimum[0], df, init_wealth[decile-1], p_val_minimum, w_val_minimum, decile, 30)\n",
    "                if res[2] < upper_year*12 : #고갈 시점이 upper_year보다 작으면 (이미 고갈이 되면)\n",
    "                    if decile == 1:\n",
    "                        bear_perform_1_minimum_recent[upper_year]['dep'].append(100)\n",
    "                    elif decile == 2:\n",
    "                        bear_perform_2_minimum_recent[upper_year]['dep'].append(100)\n",
    "                    elif decile == 3:\n",
    "                        bear_perform_3_minimum_recent[upper_year]['dep'].append(100)\n",
    "                    elif decile == 4:\n",
    "                        bear_perform_4_minimum_recent[upper_year]['dep'].append(100)\n",
    "                    elif decile == 5:\n",
    "                        bear_perform_5_minimum_recent[upper_year]['dep'].append(100)\n",
    "                elif res[2] >= upper_year*12: # 고갈이 안되면\n",
    "                    if decile == 1:\n",
    "                        bear_perform_1_minimum_recent[upper_year]['dep'].append(0)\n",
    "                    elif decile == 2:\n",
    "                        bear_perform_2_minimum_recent[upper_year]['dep'].append(0)\n",
    "                    elif decile == 3:\n",
    "                        bear_perform_3_minimum_recent[upper_year]['dep'].append(0)\n",
    "                    elif decile == 4:\n",
    "                        bear_perform_4_minimum_recent[upper_year]['dep'].append(0)\n",
    "                    elif decile == 5:\n",
    "                        bear_perform_5_minimum_recent[upper_year]['dep'].append(0)\n",
    "                        \n",
    "                if decile == 1:\n",
    "                    bear_perform_1_minimum_recent[upper_year]['inc'].append(res[1])\n",
    "                    bear_perform_1_minimum_recent[upper_year]['beq'].append(res[0])\n",
    "                    bear_perform_1_minimum_recent[upper_year]['total'].append(res[1] + res[0])\n",
    "                elif decile == 2:\n",
    "                    bear_perform_2_minimum_recent[upper_year]['inc'].append(res[1])\n",
    "                    bear_perform_2_minimum_recent[upper_year]['beq'].append(res[0])\n",
    "                    bear_perform_2_minimum_recent[upper_year]['total'].append(res[1] + res[0])\n",
    "                elif decile == 3:\n",
    "                    bear_perform_3_minimum_recent[upper_year]['inc'].append(res[1])\n",
    "                    bear_perform_3_minimum_recent[upper_year]['beq'].append(res[0])\n",
    "                    bear_perform_3_minimum_recent[upper_year]['total'].append(res[1] + res[0])\n",
    "                elif decile == 4:\n",
    "                    bear_perform_4_minimum_recent[upper_year]['inc'].append(res[1])\n",
    "                    bear_perform_4_minimum_recent[upper_year]['beq'].append(res[0])\n",
    "                    bear_perform_4_minimum_recent[upper_year]['total'].append(res[1] + res[0])\n",
    "                elif decile == 5:\n",
    "                    bear_perform_5_minimum_recent[upper_year]['inc'].append(res[1])\n",
    "                    bear_perform_5_minimum_recent[upper_year]['beq'].append(res[0])\n",
    "                    bear_perform_5_minimum_recent[upper_year]['total'].append(res[1] + res[0])"
   ]
  },
  {
   "cell_type": "code",
   "execution_count": 21,
   "metadata": {},
   "outputs": [],
   "source": [
    "# Define all dictionaries and indices we want to calculate mean for\n",
    "dicts_minimum_recent = [bear_perform_1_minimum_recent]#[normal_perform, bear_perform, full_perform]\n",
    "indices = upper_years[2:5]\n",
    "\n",
    "# Use list comprehension to compute all means at once\n",
    "# Store results in lists\n",
    "a_minimum_recent = [np.round(np.mean(d[i]['dep']),1) for i in indices for d in dicts_minimum_recent]\n",
    "d_minimum_recent = [np.round(np.mean(d[i]['inc']),1) for i in indices for d in dicts_minimum_recent]\n",
    "e_minimum_recent = [np.round(np.mean(d[i]['beq']),1) for i in indices for d in dicts_minimum_recent]\n",
    "f_minimum_recent = [np.round(np.mean(d[i]['total']),1) for i in indices for d in dicts_minimum_recent]\n",
    "\n",
    "# If you need to access the results separately, you can do so by indexing the lists:\n",
    "# For example, a1 corresponds to a_results[0], a2 corresponds to a_results[1], etc."
   ]
  },
  {
   "cell_type": "code",
   "execution_count": 22,
   "metadata": {},
   "outputs": [
    {
     "data": {
      "text/plain": [
       "[100.0, 100.0, 100.0]"
      ]
     },
     "execution_count": 22,
     "metadata": {},
     "output_type": "execute_result"
    }
   ],
   "source": [
    "a_minimum_recent"
   ]
  },
  {
   "cell_type": "code",
   "execution_count": 23,
   "metadata": {},
   "outputs": [
    {
     "data": {
      "text/plain": [
       "[117.1, 107.4, 112.1]"
      ]
     },
     "execution_count": 23,
     "metadata": {},
     "output_type": "execute_result"
    }
   ],
   "source": [
    "d_minimum_recent"
   ]
  },
  {
   "cell_type": "code",
   "execution_count": 24,
   "metadata": {},
   "outputs": [
    {
     "data": {
      "text/plain": [
       "[117.1, 107.4, 112.1]"
      ]
     },
     "execution_count": 24,
     "metadata": {},
     "output_type": "execute_result"
    }
   ],
   "source": [
    "f_minimum_recent"
   ]
  },
  {
   "cell_type": "code",
   "execution_count": 25,
   "metadata": {
    "scrolled": false
   },
   "outputs": [
    {
     "data": {
      "text/plain": [
       "[0.0, 0.0, 0.0]"
      ]
     },
     "execution_count": 25,
     "metadata": {},
     "output_type": "execute_result"
    }
   ],
   "source": [
    "e_minimum_recent"
   ]
  },
  {
   "cell_type": "markdown",
   "metadata": {},
   "source": [
    "# Normal_5years"
   ]
  },
  {
   "cell_type": "code",
   "execution_count": 26,
   "metadata": {},
   "outputs": [],
   "source": [
    "p_val_normal = np.load('./../result/late_retire/p_val/p_val_const_normal_spending_dynamic.npy', allow_pickle=True)\n",
    "w_val_normal = np.load('./../result/late_retire/w_val/w_val_const_normal_spending_dynamic.npy', allow_pickle=True)\n",
    "\n",
    "p_val_normal = p_val_normal.reshape(1)\n",
    "p_val_normal = p_val_normal[0]\n",
    "\n",
    "w_val_normal = w_val_normal.reshape(1)\n",
    "w_val_normal = w_val_normal[0]"
   ]
  },
  {
   "cell_type": "code",
   "execution_count": 27,
   "metadata": {},
   "outputs": [],
   "source": [
    "\n",
    "# for upper_year in [15,20,25]:\n",
    "#     for k in [0.0,0.1,0.2,0.3,0.4,0.5,0.6,0.7,0.8,0.9,1.0]:\n",
    "#         for withdraw_rate in [0.04,0.06,0.08,0.10]:\n",
    "#             for year in range(1980,2003-upper_year):\n",
    "             "
   ]
  },
  {
   "cell_type": "code",
   "execution_count": 28,
   "metadata": {},
   "outputs": [],
   "source": [
    "normal_year = np.load('./../result/year/normal_year.npy', allow_pickle=True).reshape(1)[0]\n",
    "bear_year = np.load('./../result/year/bear_year.npy', allow_pickle=True).reshape(1)[0]\n",
    "full_year = np.load('./../result/year/full_year.npy', allow_pickle=True).reshape(1)[0]"
   ]
  },
  {
   "cell_type": "code",
   "execution_count": 29,
   "metadata": {},
   "outputs": [],
   "source": [
    "upper_years = [10,15,20, 25, 30]\n",
    "periods = [30, 35, 40]"
   ]
  },
  {
   "cell_type": "code",
   "execution_count": 30,
   "metadata": {},
   "outputs": [],
   "source": [
    "bear_perform_1_normal_5years = {}\n",
    "bear_perform_2_normal_5years = {}\n",
    "bear_perform_3_normal_5years = {}\n",
    "bear_perform_4_normal_5years = {}\n",
    "bear_perform_5_normal_5years = {}\n",
    "for upper_year in upper_years[1:4]:\n",
    "    bear_perform_1_normal_5years[upper_year] = {\n",
    "    'dep':[],\n",
    "    'max':[],\n",
    "    'under':[],\n",
    "    'inc':[],\n",
    "    'beq':[],\n",
    "    'total':[]\n",
    "}\n",
    "    bear_perform_2_normal_5years[upper_year] = {\n",
    "    'dep':[],\n",
    "    'max':[],\n",
    "    'under':[],\n",
    "    'inc':[],\n",
    "    'beq':[],\n",
    "    'total':[]\n",
    "}\n",
    "    \n",
    "    bear_perform_3_normal_5years[upper_year] = {\n",
    "    'dep':[],\n",
    "    'max':[],\n",
    "    'under':[],\n",
    "    'inc':[],\n",
    "    'beq':[],\n",
    "    'total':[]\n",
    "}\n",
    "    bear_perform_4_normal_5years[upper_year] = {\n",
    "    'dep':[],\n",
    "    'max':[],\n",
    "    'under':[],\n",
    "    'inc':[],\n",
    "    'beq':[],\n",
    "    'total':[]\n",
    "}\n",
    "    bear_perform_5_normal_5years[upper_year] = {\n",
    "    'dep':[],\n",
    "    'max':[],\n",
    "    'under':[],\n",
    "    'inc':[],\n",
    "    'beq':[],\n",
    "    'total':[]\n",
    "}"
   ]
  },
  {
   "cell_type": "code",
   "execution_count": 31,
   "metadata": {
    "scrolled": true
   },
   "outputs": [],
   "source": [
    "for upper_year in upper_years[1:4]:\n",
    "#     for years in normal_year[upper_year] :\n",
    "#         for year in years:\n",
    "#             res = get_metric2(year, k, upper_year, withdraw_rate, df, init_wealth[0], p_val, w_val, 1, 30)\n",
    "#             if res[2] < upper_year*12 : #고갈 시점이 upper_year보다 작으면 (이미 고갈이 되면)\n",
    "#                 normal_perform[upper_year]['dep'].append(100)\n",
    "#             elif res[2] >= upper_year*12: # 고갈이 안되면\n",
    "#                 normal_perform[upper_year]['dep'].append(0)\n",
    "#             normal_perform[upper_year]['max'].append(res[3])\n",
    "#             normal_perform[upper_year]['under'].append(res[4])\n",
    "#             normal_perform[upper_year]['inc'].append(res[1])\n",
    "#             normal_perform[upper_year]['beq'].append(res[0])\n",
    "#             normal_perform[upper_year]['total'].append(res[1] + res[0])\n",
    "\n",
    "    for decile in [1]:\n",
    "        for years in bear_year[upper_year]:\n",
    "            for year in years:\n",
    "                res = get_metric2(year, k, upper_year, withdraw_rate_normal[1], df, init_wealth[decile-1], p_val_normal, w_val_normal, decile, 35)\n",
    "                if res[2] < upper_year*12 : #고갈 시점이 upper_year보다 작으면 (이미 고갈이 되면)\n",
    "                    if decile == 1:\n",
    "                        bear_perform_1_normal_5years[upper_year]['dep'].append(100)\n",
    "                    elif decile == 2:\n",
    "                        bear_perform_2_normal_5years[upper_year]['dep'].append(100)\n",
    "                    elif decile == 3:\n",
    "                        bear_perform_3_normal_5years[upper_year]['dep'].append(100)\n",
    "                    elif decile == 4:\n",
    "                        bear_perform_4_normal_5years[upper_year]['dep'].append(100)\n",
    "                    elif decile == 5:\n",
    "                        bear_perform_5_normal_5years[upper_year]['dep'].append(100)\n",
    "                elif res[2] >= upper_year*12: # 고갈이 안되면\n",
    "                    if decile == 1:\n",
    "                        bear_perform_1_normal_5years[upper_year]['dep'].append(0)\n",
    "                    elif decile == 2:\n",
    "                        bear_perform_2_normal_5years[upper_year]['dep'].append(0)\n",
    "                    elif decile == 3:\n",
    "                        bear_perform_3_normal_5years[upper_year]['dep'].append(0)\n",
    "                    elif decile == 4:\n",
    "                        bear_perform_4_normal_5years[upper_year]['dep'].append(0)\n",
    "                    elif decile == 5:\n",
    "                        bear_perform_5_normal_5years[upper_year]['dep'].append(0)\n",
    "                        \n",
    "                if decile == 1:\n",
    "                    bear_perform_1_normal_5years[upper_year]['inc'].append(res[1])\n",
    "                    bear_perform_1_normal_5years[upper_year]['beq'].append(res[0])\n",
    "                    bear_perform_1_normal_5years[upper_year]['total'].append(res[1] + res[0])\n",
    "                elif decile == 2:\n",
    "                    bear_perform_2_normal_5years[upper_year]['inc'].append(res[1])\n",
    "                    bear_perform_2_normal_5years[upper_year]['beq'].append(res[0])\n",
    "                    bear_perform_2_normal_5years[upper_year]['total'].append(res[1] + res[0])\n",
    "                elif decile == 3:\n",
    "                    bear_perform_3_normal_5years[upper_year]['inc'].append(res[1])\n",
    "                    bear_perform_3_normal_5years[upper_year]['beq'].append(res[0])\n",
    "                    bear_perform_3_normal_5years[upper_year]['total'].append(res[1] + res[0])\n",
    "                elif decile == 4:\n",
    "                    bear_perform_4_normal_5years[upper_year]['inc'].append(res[1])\n",
    "                    bear_perform_4_normal_5years[upper_year]['beq'].append(res[0])\n",
    "                    bear_perform_4_normal_5years[upper_year]['total'].append(res[1] + res[0])\n",
    "                elif decile == 5:\n",
    "                    bear_perform_5_normal_5years[upper_year]['inc'].append(res[1])\n",
    "                    bear_perform_5_normal_5years[upper_year]['beq'].append(res[0])\n",
    "                    bear_perform_5_normal_5years[upper_year]['total'].append(res[1] + res[0])"
   ]
  },
  {
   "cell_type": "code",
   "execution_count": 32,
   "metadata": {},
   "outputs": [],
   "source": [
    "# Define all dictionaries and indices we want to calculate mean for\n",
    "dicts_normal_5years = [bear_perform_1_normal_5years]#[normal_perform, bear_perform, full_perform]\n",
    "indices = upper_years[1:4]\n",
    "\n",
    "# Use list comprehension to compute all means at once\n",
    "# Store results in lists\n",
    "a_normal_5years = [np.round(np.mean(d[i]['dep']),1) for i in indices for d in dicts_normal_5years]\n",
    "d_normal_5years = [np.round(np.mean(d[i]['inc']),1) for i in indices for d in dicts_normal_5years]\n",
    "e_normal_5years = [np.round(np.mean(d[i]['beq']),1) for i in indices for d in dicts_normal_5years]\n",
    "f_normal_5years = [np.round(np.mean(d[i]['total']),1) for i in indices for d in dicts_normal_5years]\n",
    "\n",
    "# If you need to access the results separately, you can do so by indexing the lists:\n",
    "# For example, a1 corresponds to a_results[0], a2 corresponds to a_results[1], etc."
   ]
  },
  {
   "cell_type": "code",
   "execution_count": 33,
   "metadata": {},
   "outputs": [
    {
     "data": {
      "text/plain": [
       "[100.0, 100.0, 100.0]"
      ]
     },
     "execution_count": 33,
     "metadata": {},
     "output_type": "execute_result"
    }
   ],
   "source": [
    "a_normal_5years"
   ]
  },
  {
   "cell_type": "code",
   "execution_count": 34,
   "metadata": {},
   "outputs": [
    {
     "data": {
      "text/plain": [
       "[125.4, 121.4, 116.3]"
      ]
     },
     "execution_count": 34,
     "metadata": {},
     "output_type": "execute_result"
    }
   ],
   "source": [
    "d_normal_5years"
   ]
  },
  {
   "cell_type": "code",
   "execution_count": 35,
   "metadata": {
    "scrolled": false
   },
   "outputs": [
    {
     "data": {
      "text/plain": [
       "[0.0, 0.0, 0.0]"
      ]
     },
     "execution_count": 35,
     "metadata": {},
     "output_type": "execute_result"
    }
   ],
   "source": [
    "e_normal_5years"
   ]
  },
  {
   "cell_type": "markdown",
   "metadata": {},
   "source": [
    "# Minimum_5years"
   ]
  },
  {
   "cell_type": "code",
   "execution_count": 36,
   "metadata": {},
   "outputs": [],
   "source": [
    "p_val_minimum = np.load('./../result/late_retire/p_val/p_val_const_minimum_spending_dynamic.npy', allow_pickle=True)\n",
    "w_val_minimum = np.load('./../result/late_retire/w_val/w_val_const_minimum_spending_dynamic.npy', allow_pickle=True)\n",
    "\n",
    "p_val_minimum = p_val_minimum.reshape(1)\n",
    "p_val_minimum = p_val_minimum[0]\n",
    "\n",
    "w_val_minimum = w_val_minimum.reshape(1)\n",
    "w_val_minimum = w_val_minimum[0]"
   ]
  },
  {
   "cell_type": "code",
   "execution_count": 37,
   "metadata": {},
   "outputs": [],
   "source": [
    "\n",
    "# for upper_year in [15,20,25]:\n",
    "#     for k in [0.0,0.1,0.2,0.3,0.4,0.5,0.6,0.7,0.8,0.9,1.0]:\n",
    "#         for withdraw_rate in [0.04,0.06,0.08,0.10]:\n",
    "#             for year in range(1980,2003-upper_year):\n",
    "             "
   ]
  },
  {
   "cell_type": "code",
   "execution_count": 38,
   "metadata": {},
   "outputs": [],
   "source": [
    "normal_year = np.load('./../result/year/normal_year.npy', allow_pickle=True).reshape(1)[0]\n",
    "bear_year = np.load('./../result/year/bear_year.npy', allow_pickle=True).reshape(1)[0]\n",
    "full_year = np.load('./../result/year/full_year.npy', allow_pickle=True).reshape(1)[0]"
   ]
  },
  {
   "cell_type": "code",
   "execution_count": 39,
   "metadata": {},
   "outputs": [],
   "source": [
    "upper_years = [10,15,20, 25, 30]\n",
    "periods = [30, 35, 40]"
   ]
  },
  {
   "cell_type": "code",
   "execution_count": 40,
   "metadata": {},
   "outputs": [],
   "source": [
    "bear_perform_1_minimum_5years = {}\n",
    "bear_perform_2_minimum_5years = {}\n",
    "bear_perform_3_minimum_5years = {}\n",
    "bear_perform_4_minimum_5years = {}\n",
    "bear_perform_5_minimum_5years = {}\n",
    "\n",
    "for upper_year in upper_years[1:4]:\n",
    "    bear_perform_1_minimum_5years[upper_year] = {\n",
    "    'dep':[],\n",
    "    'max':[],\n",
    "    'under':[],\n",
    "    'inc':[],\n",
    "    'beq':[],\n",
    "    'total':[]\n",
    "}\n",
    "    bear_perform_2_minimum_5years[upper_year] = {\n",
    "    'dep':[],\n",
    "    'max':[],\n",
    "    'under':[],\n",
    "    'inc':[],\n",
    "    'beq':[],\n",
    "    'total':[]\n",
    "}\n",
    "    \n",
    "    bear_perform_3_minimum_5years[upper_year] = {\n",
    "    'dep':[],\n",
    "    'max':[],\n",
    "    'under':[],\n",
    "    'inc':[],\n",
    "    'beq':[],\n",
    "    'total':[]\n",
    "}\n",
    "    bear_perform_4_minimum_5years[upper_year] = {\n",
    "    'dep':[],\n",
    "    'max':[],\n",
    "    'under':[],\n",
    "    'inc':[],\n",
    "    'beq':[],\n",
    "    'total':[]\n",
    "}\n",
    "    bear_perform_5_minimum_5years[upper_year] = {\n",
    "    'dep':[],\n",
    "    'max':[],\n",
    "    'under':[],\n",
    "    'inc':[],\n",
    "    'beq':[],\n",
    "    'total':[]\n",
    "}"
   ]
  },
  {
   "cell_type": "code",
   "execution_count": 41,
   "metadata": {
    "scrolled": true
   },
   "outputs": [],
   "source": [
    "for upper_year in upper_years[1:4]:\n",
    "#     for years in normal_year[upper_year] :\n",
    "#         for year in years:\n",
    "#             res = get_metric2(year, k, upper_year, withdraw_rate, df, init_wealth[0], p_val, w_val, 1, 30)\n",
    "#             if res[2] < upper_year*12 : #고갈 시점이 upper_year보다 작으면 (이미 고갈이 되면)\n",
    "#                 normal_perform[upper_year]['dep'].append(100)\n",
    "#             elif res[2] >= upper_year*12: # 고갈이 안되면\n",
    "#                 normal_perform[upper_year]['dep'].append(0)\n",
    "#             normal_perform[upper_year]['max'].append(res[3])\n",
    "#             normal_perform[upper_year]['under'].append(res[4])\n",
    "#             normal_perform[upper_year]['inc'].append(res[1])\n",
    "#             normal_perform[upper_year]['beq'].append(res[0])\n",
    "#             normal_perform[upper_year]['total'].append(res[1] + res[0])\n",
    "\n",
    "    for decile in [1]:\n",
    "        for years in bear_year[upper_year]:\n",
    "            for year in years:\n",
    "                res = get_metric2(year, k, upper_year, withdraw_rate_minimum[1], df, init_wealth[decile-1], p_val_minimum, w_val_minimum, decile, 35)\n",
    "                if res[2] < upper_year*12 : #고갈 시점이 upper_year보다 작으면 (이미 고갈이 되면)\n",
    "                    if decile == 1:\n",
    "                        bear_perform_1_minimum_5years[upper_year]['dep'].append(100)\n",
    "                    elif decile == 2:\n",
    "                        bear_perform_2_minimum_5years[upper_year]['dep'].append(100)\n",
    "                    elif decile == 3:\n",
    "                        bear_perform_3_minimum_5years[upper_year]['dep'].append(100)\n",
    "                    elif decile == 4:\n",
    "                        bear_perform_4_minimum_5years[upper_year]['dep'].append(100)\n",
    "                    elif decile == 5:\n",
    "                        bear_perform_5_minimum_5years[upper_year]['dep'].append(100)\n",
    "                elif res[2] >= upper_year*12: # 고갈이 안되면\n",
    "                    if decile == 1:\n",
    "                        bear_perform_1_minimum_5years[upper_year]['dep'].append(0)\n",
    "                    elif decile == 2:\n",
    "                        bear_perform_2_minimum_5years[upper_year]['dep'].append(0)\n",
    "                    elif decile == 3:\n",
    "                        bear_perform_3_minimum_5years[upper_year]['dep'].append(0)\n",
    "                    elif decile == 4:\n",
    "                        bear_perform_4_minimum_5years[upper_year]['dep'].append(0)\n",
    "                    elif decile == 5:\n",
    "                        bear_perform_5_minimum_5years[upper_year]['dep'].append(0)\n",
    "                        \n",
    "                if decile == 1:\n",
    "                    bear_perform_1_minimum_5years[upper_year]['inc'].append(res[1])\n",
    "                    bear_perform_1_minimum_5years[upper_year]['beq'].append(res[0])\n",
    "                    bear_perform_1_minimum_5years[upper_year]['total'].append(res[1] + res[0])\n",
    "                elif decile == 2:\n",
    "                    bear_perform_2_minimum_5years[upper_year]['inc'].append(res[1])\n",
    "                    bear_perform_2_minimum_5years[upper_year]['beq'].append(res[0])\n",
    "                    bear_perform_2_minimum_5years[upper_year]['total'].append(res[1] + res[0])\n",
    "                elif decile == 3:\n",
    "                    bear_perform_3_minimum_5years[upper_year]['inc'].append(res[1])\n",
    "                    bear_perform_3_minimum_5years[upper_year]['beq'].append(res[0])\n",
    "                    bear_perform_3_minimum_5years[upper_year]['total'].append(res[1] + res[0])\n",
    "                elif decile == 4:\n",
    "                    bear_perform_4_minimum_5years[upper_year]['inc'].append(res[1])\n",
    "                    bear_perform_4_minimum_5years[upper_year]['beq'].append(res[0])\n",
    "                    bear_perform_4_minimum_5years[upper_year]['total'].append(res[1] + res[0])\n",
    "                elif decile == 5:\n",
    "                    bear_perform_5_minimum_5years[upper_year]['inc'].append(res[1])\n",
    "                    bear_perform_5_minimum_5years[upper_year]['beq'].append(res[0])\n",
    "                    bear_perform_5_minimum_5years[upper_year]['total'].append(res[1] + res[0])"
   ]
  },
  {
   "cell_type": "code",
   "execution_count": 42,
   "metadata": {},
   "outputs": [],
   "source": [
    "# Define all dictionaries and indices we want to calculate mean for\n",
    "dicts_minimum_5years = [bear_perform_1_minimum_5years]#[normal_perform, bear_perform, full_perform]\n",
    "indices = upper_years[1:4]\n",
    "\n",
    "# Use list comprehension to compute all means at once\n",
    "# Store results in lists\n",
    "a_minimum_5years = [np.round(np.mean(d[i]['dep']),1) for i in indices for d in dicts_minimum_5years]\n",
    "d_minimum_5years = [np.round(np.mean(d[i]['inc']),1) for i in indices for d in dicts_minimum_5years]\n",
    "e_minimum_5years = [np.round(np.mean(d[i]['beq']),1) for i in indices for d in dicts_minimum_5years]\n",
    "f_minimum_5years = [np.round(np.mean(d[i]['total']),1) for i in indices for d in dicts_minimum_5years]\n",
    "\n",
    "# If you need to access the results separately, you can do so by indexing the lists:\n",
    "# For example, a1 corresponds to a_results[0], a2 corresponds to a_results[1], etc."
   ]
  },
  {
   "cell_type": "code",
   "execution_count": 43,
   "metadata": {},
   "outputs": [
    {
     "data": {
      "text/plain": [
       "[88.2, 100.0, 100.0]"
      ]
     },
     "execution_count": 43,
     "metadata": {},
     "output_type": "execute_result"
    }
   ],
   "source": [
    "a_minimum_5years"
   ]
  },
  {
   "cell_type": "code",
   "execution_count": 44,
   "metadata": {},
   "outputs": [
    {
     "data": {
      "text/plain": [
       "[119.3, 117.3, 106.3]"
      ]
     },
     "execution_count": 44,
     "metadata": {},
     "output_type": "execute_result"
    }
   ],
   "source": [
    "d_minimum_5years"
   ]
  },
  {
   "cell_type": "code",
   "execution_count": 45,
   "metadata": {
    "scrolled": false
   },
   "outputs": [
    {
     "data": {
      "text/plain": [
       "[1.5, 0.0, 0.0]"
      ]
     },
     "execution_count": 45,
     "metadata": {},
     "output_type": "execute_result"
    }
   ],
   "source": [
    "e_minimum_5years"
   ]
  },
  {
   "cell_type": "markdown",
   "metadata": {},
   "source": [
    "# Normal_10years"
   ]
  },
  {
   "cell_type": "code",
   "execution_count": 46,
   "metadata": {},
   "outputs": [],
   "source": [
    "p_val_normal = np.load('./../result/late_retire/p_val/p_val_const_normal_spending_dynamic.npy', allow_pickle=True)\n",
    "w_val_normal = np.load('./../result/late_retire/w_val/w_val_const_normal_spending_dynamic.npy', allow_pickle=True)\n",
    "\n",
    "p_val_normal = p_val_normal.reshape(1)\n",
    "p_val_normal = p_val_normal[0]\n",
    "\n",
    "w_val_normal = w_val_normal.reshape(1)\n",
    "w_val_normal = w_val_normal[0]"
   ]
  },
  {
   "cell_type": "code",
   "execution_count": 47,
   "metadata": {},
   "outputs": [],
   "source": [
    "\n",
    "# for upper_year in [15,20,25]:\n",
    "#     for k in [0.0,0.1,0.2,0.3,0.4,0.5,0.6,0.7,0.8,0.9,1.0]:\n",
    "#         for withdraw_rate in [0.04,0.06,0.08,0.10]:\n",
    "#             for year in range(1980,2003-upper_year):\n",
    "             "
   ]
  },
  {
   "cell_type": "code",
   "execution_count": 48,
   "metadata": {},
   "outputs": [],
   "source": [
    "normal_year = np.load('./../result/year/normal_year.npy', allow_pickle=True).reshape(1)[0]\n",
    "bear_year = np.load('./../result/year/bear_year.npy', allow_pickle=True).reshape(1)[0]\n",
    "full_year = np.load('./../result/year/full_year.npy', allow_pickle=True).reshape(1)[0]"
   ]
  },
  {
   "cell_type": "code",
   "execution_count": 49,
   "metadata": {},
   "outputs": [],
   "source": [
    "upper_years = [10,15,20, 25, 30]\n",
    "periods = [30, 35, 40]"
   ]
  },
  {
   "cell_type": "code",
   "execution_count": 50,
   "metadata": {},
   "outputs": [],
   "source": [
    "bear_perform_1_normal_10years = {}\n",
    "bear_perform_2_normal_10years = {}\n",
    "bear_perform_3_normal_10years = {}\n",
    "bear_perform_4_normal_10years = {}\n",
    "bear_perform_5_normal_10years = {}\n",
    "for upper_year in upper_years[0:3]:\n",
    "    bear_perform_1_normal_10years[upper_year] = {\n",
    "    'dep':[],\n",
    "    'max':[],\n",
    "    'under':[],\n",
    "    'inc':[],\n",
    "    'beq':[],\n",
    "    'total':[]\n",
    "}\n",
    "    bear_perform_2_normal_10years[upper_year] = {\n",
    "    'dep':[],\n",
    "    'max':[],\n",
    "    'under':[],\n",
    "    'inc':[],\n",
    "    'beq':[],\n",
    "    'total':[]\n",
    "}\n",
    "    \n",
    "    bear_perform_3_normal_10years[upper_year] = {\n",
    "    'dep':[],\n",
    "    'max':[],\n",
    "    'under':[],\n",
    "    'inc':[],\n",
    "    'beq':[],\n",
    "    'total':[]\n",
    "}\n",
    "    bear_perform_4_normal_10years[upper_year] = {\n",
    "    'dep':[],\n",
    "    'max':[],\n",
    "    'under':[],\n",
    "    'inc':[],\n",
    "    'beq':[],\n",
    "    'total':[]\n",
    "}\n",
    "    bear_perform_5_normal_10years[upper_year] = {\n",
    "    'dep':[],\n",
    "    'max':[],\n",
    "    'under':[],\n",
    "    'inc':[],\n",
    "    'beq':[],\n",
    "    'total':[]\n",
    "}"
   ]
  },
  {
   "cell_type": "code",
   "execution_count": 51,
   "metadata": {
    "scrolled": true
   },
   "outputs": [],
   "source": [
    "for upper_year in upper_years[0:3]:\n",
    "#     for years in normal_year[upper_year] :\n",
    "#         for year in years:\n",
    "#             res = get_metric2(year, k, upper_year, withdraw_rate, df, init_wealth[0], p_val, w_val, 1, 30)\n",
    "#             if res[2] < upper_year*12 : #고갈 시점이 upper_year보다 작으면 (이미 고갈이 되면)\n",
    "#                 normal_perform[upper_year]['dep'].append(100)\n",
    "#             elif res[2] >= upper_year*12: # 고갈이 안되면\n",
    "#                 normal_perform[upper_year]['dep'].append(0)\n",
    "#             normal_perform[upper_year]['max'].append(res[3])\n",
    "#             normal_perform[upper_year]['under'].append(res[4])\n",
    "#             normal_perform[upper_year]['inc'].append(res[1])\n",
    "#             normal_perform[upper_year]['beq'].append(res[0])\n",
    "#             normal_perform[upper_year]['total'].append(res[1] + res[0])\n",
    "\n",
    "    for decile in [1]:\n",
    "        for years in bear_year[upper_year]:\n",
    "            for year in years:\n",
    "                res = get_metric2(year, k, upper_year, withdraw_rate_normal[2], df, init_wealth[decile-1], p_val_normal, w_val_normal, decile, 40)\n",
    "                if res[2] < upper_year*12 : #고갈 시점이 upper_year보다 작으면 (이미 고갈이 되면)\n",
    "                    if decile == 1:\n",
    "                        bear_perform_1_normal_10years[upper_year]['dep'].append(100)\n",
    "                    elif decile == 2:\n",
    "                        bear_perform_2_normal_10years[upper_year]['dep'].append(100)\n",
    "                    elif decile == 3:\n",
    "                        bear_perform_3_normal_10years[upper_year]['dep'].append(100)\n",
    "                    elif decile == 4:\n",
    "                        bear_perform_4_normal_10years[upper_year]['dep'].append(100)\n",
    "                    elif decile == 5:\n",
    "                        bear_perform_5_normal_10years[upper_year]['dep'].append(100)\n",
    "                elif res[2] >= upper_year*12: # 고갈이 안되면\n",
    "                    if decile == 1:\n",
    "                        bear_perform_1_normal_10years[upper_year]['dep'].append(0)\n",
    "                    elif decile == 2:\n",
    "                        bear_perform_2_normal_10years[upper_year]['dep'].append(0)\n",
    "                    elif decile == 3:\n",
    "                        bear_perform_3_normal_10years[upper_year]['dep'].append(0)\n",
    "                    elif decile == 4:\n",
    "                        bear_perform_4_normal_10years[upper_year]['dep'].append(0)\n",
    "                    elif decile == 5:\n",
    "                        bear_perform_5_normal_10years[upper_year]['dep'].append(0)\n",
    "                        \n",
    "                if decile == 1:\n",
    "                    bear_perform_1_normal_10years[upper_year]['inc'].append(res[1])\n",
    "                    bear_perform_1_normal_10years[upper_year]['beq'].append(res[0])\n",
    "                    bear_perform_1_normal_10years[upper_year]['total'].append(res[1] + res[0])\n",
    "                elif decile == 2:\n",
    "                    bear_perform_2_normal_10years[upper_year]['inc'].append(res[1])\n",
    "                    bear_perform_2_normal_10years[upper_year]['beq'].append(res[0])\n",
    "                    bear_perform_2_normal_10years[upper_year]['total'].append(res[1] + res[0])\n",
    "                elif decile == 3:\n",
    "                    bear_perform_3_normal_10years[upper_year]['inc'].append(res[1])\n",
    "                    bear_perform_3_normal_10years[upper_year]['beq'].append(res[0])\n",
    "                    bear_perform_3_normal_10years[upper_year]['total'].append(res[1] + res[0])\n",
    "                elif decile == 4:\n",
    "                    bear_perform_4_normal_10years[upper_year]['inc'].append(res[1])\n",
    "                    bear_perform_4_normal_10years[upper_year]['beq'].append(res[0])\n",
    "                    bear_perform_4_normal_10years[upper_year]['total'].append(res[1] + res[0])\n",
    "                elif decile == 5:\n",
    "                    bear_perform_5_normal_10years[upper_year]['inc'].append(res[1])\n",
    "                    bear_perform_5_normal_10years[upper_year]['beq'].append(res[0])\n",
    "                    bear_perform_5_normal_10years[upper_year]['total'].append(res[1] + res[0])"
   ]
  },
  {
   "cell_type": "code",
   "execution_count": 52,
   "metadata": {},
   "outputs": [],
   "source": [
    "# Define all dictionaries and indices we want to calculate mean for\n",
    "dicts_normal_10years = [bear_perform_1_normal_10years]#[normal_perform, bear_perform, full_perform]\n",
    "indices = upper_years[0:3]\n",
    "\n",
    "# Use list comprehension to compute all means at once\n",
    "# Store results in lists\n",
    "a_normal_10years = [np.round(np.mean(d[i]['dep']),1) for i in indices for d in dicts_normal_10years]\n",
    "d_normal_10years = [np.round(np.mean(d[i]['inc']),1) for i in indices for d in dicts_normal_10years]\n",
    "e_normal_10years = [np.round(np.mean(d[i]['beq']),1) for i in indices for d in dicts_normal_10years]\n",
    "f_normal_10years = [np.round(np.mean(d[i]['total']),1) for i in indices for d in dicts_normal_10years]\n",
    "\n",
    "# If you need to access the results separately, you can do so by indexing the lists:\n",
    "# For example, a1 corresponds to a_results[0], a2 corresponds to a_results[1], etc."
   ]
  },
  {
   "cell_type": "code",
   "execution_count": 53,
   "metadata": {},
   "outputs": [
    {
     "data": {
      "text/plain": [
       "[100.0, 100.0, 100.0]"
      ]
     },
     "execution_count": 53,
     "metadata": {},
     "output_type": "execute_result"
    }
   ],
   "source": [
    "a_normal_10years"
   ]
  },
  {
   "cell_type": "code",
   "execution_count": 54,
   "metadata": {},
   "outputs": [
    {
     "data": {
      "text/plain": [
       "[123.6, 122.3, 118.8]"
      ]
     },
     "execution_count": 54,
     "metadata": {},
     "output_type": "execute_result"
    }
   ],
   "source": [
    "d_normal_10years"
   ]
  },
  {
   "cell_type": "code",
   "execution_count": 55,
   "metadata": {
    "scrolled": false
   },
   "outputs": [
    {
     "data": {
      "text/plain": [
       "[0.0, 0.0, 0.0]"
      ]
     },
     "execution_count": 55,
     "metadata": {},
     "output_type": "execute_result"
    }
   ],
   "source": [
    "e_normal_10years"
   ]
  },
  {
   "cell_type": "markdown",
   "metadata": {},
   "source": [
    "# Minimum_10years"
   ]
  },
  {
   "cell_type": "code",
   "execution_count": 56,
   "metadata": {},
   "outputs": [],
   "source": [
    "p_val_minimum = np.load('./../result/late_retire/p_val/p_val_const_minimum_spending_dynamic.npy', allow_pickle=True)\n",
    "w_val_minimum = np.load('./../result/late_retire/w_val/w_val_const_minimum_spending_dynamic.npy', allow_pickle=True)\n",
    "\n",
    "p_val_minimum = p_val_minimum.reshape(1)\n",
    "p_val_minimum = p_val_minimum[0]\n",
    "\n",
    "w_val_minimum = w_val_minimum.reshape(1)\n",
    "w_val_minimum = w_val_minimum[0]"
   ]
  },
  {
   "cell_type": "code",
   "execution_count": 57,
   "metadata": {},
   "outputs": [],
   "source": [
    "\n",
    "# for upper_year in [15,20,25]:\n",
    "#     for k in [0.0,0.1,0.2,0.3,0.4,0.5,0.6,0.7,0.8,0.9,1.0]:\n",
    "#         for withdraw_rate in [0.04,0.06,0.08,0.10]:\n",
    "#             for year in range(1980,2003-upper_year):\n",
    "             "
   ]
  },
  {
   "cell_type": "code",
   "execution_count": 58,
   "metadata": {},
   "outputs": [],
   "source": [
    "normal_year = np.load('./../result/year/normal_year.npy', allow_pickle=True).reshape(1)[0]\n",
    "bear_year = np.load('./../result/year/bear_year.npy', allow_pickle=True).reshape(1)[0]\n",
    "full_year = np.load('./../result/year/full_year.npy', allow_pickle=True).reshape(1)[0]"
   ]
  },
  {
   "cell_type": "code",
   "execution_count": 59,
   "metadata": {},
   "outputs": [],
   "source": [
    "upper_years = [10,15,20, 25, 30]\n",
    "periods = [30, 35, 40]"
   ]
  },
  {
   "cell_type": "code",
   "execution_count": 60,
   "metadata": {},
   "outputs": [],
   "source": [
    "bear_perform_1_minimum_10years = {}\n",
    "bear_perform_2_minimum_10years = {}\n",
    "bear_perform_3_minimum_10years = {}\n",
    "bear_perform_4_minimum_10years = {}\n",
    "bear_perform_5_minimum_10years = {}\n",
    "\n",
    "for upper_year in upper_years[0:3]:\n",
    "    bear_perform_1_minimum_10years[upper_year] = {\n",
    "    'dep':[],\n",
    "    'max':[],\n",
    "    'under':[],\n",
    "    'inc':[],\n",
    "    'beq':[],\n",
    "    'total':[]\n",
    "}\n",
    "    bear_perform_2_minimum_10years[upper_year] = {\n",
    "    'dep':[],\n",
    "    'max':[],\n",
    "    'under':[],\n",
    "    'inc':[],\n",
    "    'beq':[],\n",
    "    'total':[]\n",
    "}\n",
    "    \n",
    "    bear_perform_3_minimum_10years[upper_year] = {\n",
    "    'dep':[],\n",
    "    'max':[],\n",
    "    'under':[],\n",
    "    'inc':[],\n",
    "    'beq':[],\n",
    "    'total':[]\n",
    "}\n",
    "    bear_perform_4_minimum_10years[upper_year] = {\n",
    "    'dep':[],\n",
    "    'max':[],\n",
    "    'under':[],\n",
    "    'inc':[],\n",
    "    'beq':[],\n",
    "    'total':[]\n",
    "}\n",
    "    bear_perform_5_minimum_10years[upper_year] = {\n",
    "    'dep':[],\n",
    "    'max':[],\n",
    "    'under':[],\n",
    "    'inc':[],\n",
    "    'beq':[],\n",
    "    'total':[]\n",
    "}"
   ]
  },
  {
   "cell_type": "code",
   "execution_count": 61,
   "metadata": {
    "scrolled": true
   },
   "outputs": [],
   "source": [
    "for upper_year in upper_years[0:3]:\n",
    "#     for years in normal_year[upper_year] :\n",
    "#         for year in years:\n",
    "#             res = get_metric2(year, k, upper_year, withdraw_rate, df, init_wealth[0], p_val, w_val, 1, 30)\n",
    "#             if res[2] < upper_year*12 : #고갈 시점이 upper_year보다 작으면 (이미 고갈이 되면)\n",
    "#                 normal_perform[upper_year]['dep'].append(100)\n",
    "#             elif res[2] >= upper_year*12: # 고갈이 안되면\n",
    "#                 normal_perform[upper_year]['dep'].append(0)\n",
    "#             normal_perform[upper_year]['max'].append(res[3])\n",
    "#             normal_perform[upper_year]['under'].append(res[4])\n",
    "#             normal_perform[upper_year]['inc'].append(res[1])\n",
    "#             normal_perform[upper_year]['beq'].append(res[0])\n",
    "#             normal_perform[upper_year]['total'].append(res[1] + res[0])\n",
    "\n",
    "    for decile in [1]:\n",
    "        for years in bear_year[upper_year]:\n",
    "            for year in years:\n",
    "                res = get_metric2(year, k, upper_year, withdraw_rate_minimum[2], df, init_wealth[decile-1], p_val_minimum, w_val_minimum, decile, 40)\n",
    "                if res[2] < upper_year*12 : #고갈 시점이 upper_year보다 작으면 (이미 고갈이 되면)\n",
    "                    if decile == 1:\n",
    "                        bear_perform_1_minimum_10years[upper_year]['dep'].append(100)\n",
    "                    elif decile == 2:\n",
    "                        bear_perform_2_minimum_10years[upper_year]['dep'].append(100)\n",
    "                    elif decile == 3:\n",
    "                        bear_perform_3_minimum_10years[upper_year]['dep'].append(100)\n",
    "                    elif decile == 4:\n",
    "                        bear_perform_4_minimum_10years[upper_year]['dep'].append(100)\n",
    "                    elif decile == 5:\n",
    "                        bear_perform_5_minimum_10years[upper_year]['dep'].append(100)\n",
    "                elif res[2] >= upper_year*12: # 고갈이 안되면\n",
    "                    if decile == 1:\n",
    "                        bear_perform_1_minimum_10years[upper_year]['dep'].append(0)\n",
    "                    elif decile == 2:\n",
    "                        bear_perform_2_minimum_10years[upper_year]['dep'].append(0)\n",
    "                    elif decile == 3:\n",
    "                        bear_perform_3_minimum_10years[upper_year]['dep'].append(0)\n",
    "                    elif decile == 4:\n",
    "                        bear_perform_4_minimum_10years[upper_year]['dep'].append(0)\n",
    "                    elif decile == 5:\n",
    "                        bear_perform_5_minimum_10years[upper_year]['dep'].append(0)\n",
    "                        \n",
    "                if decile == 1:\n",
    "                    bear_perform_1_minimum_10years[upper_year]['inc'].append(res[1])\n",
    "                    bear_perform_1_minimum_10years[upper_year]['beq'].append(res[0])\n",
    "                    bear_perform_1_minimum_10years[upper_year]['total'].append(res[1] + res[0])\n",
    "                elif decile == 2:\n",
    "                    bear_perform_2_minimum_10years[upper_year]['inc'].append(res[1])\n",
    "                    bear_perform_2_minimum_10years[upper_year]['beq'].append(res[0])\n",
    "                    bear_perform_2_minimum_10years[upper_year]['total'].append(res[1] + res[0])\n",
    "                elif decile == 3:\n",
    "                    bear_perform_3_minimum_10years[upper_year]['inc'].append(res[1])\n",
    "                    bear_perform_3_minimum_10years[upper_year]['beq'].append(res[0])\n",
    "                    bear_perform_3_minimum_10years[upper_year]['total'].append(res[1] + res[0])\n",
    "                elif decile == 4:\n",
    "                    bear_perform_4_minimum_10years[upper_year]['inc'].append(res[1])\n",
    "                    bear_perform_4_minimum_10years[upper_year]['beq'].append(res[0])\n",
    "                    bear_perform_4_minimum_10years[upper_year]['total'].append(res[1] + res[0])\n",
    "                elif decile == 5:\n",
    "                    bear_perform_5_minimum_10years[upper_year]['inc'].append(res[1])\n",
    "                    bear_perform_5_minimum_10years[upper_year]['beq'].append(res[0])\n",
    "                    bear_perform_5_minimum_10years[upper_year]['total'].append(res[1] + res[0])"
   ]
  },
  {
   "cell_type": "code",
   "execution_count": 62,
   "metadata": {},
   "outputs": [],
   "source": [
    "# Define all dictionaries and indices we want to calculate mean for\n",
    "dicts_minimum_10years = [bear_perform_1_minimum_10years]#[normal_perform, bear_perform, full_perform]\n",
    "indices = upper_years[0:3]\n",
    "\n",
    "# Use list comprehension to compute all means at once\n",
    "# Store results in lists\n",
    "a_minimum_10years = [np.round(np.mean(d[i]['dep']),1) for i in indices for d in dicts_minimum_10years]\n",
    "d_minimum_10years = [np.round(np.mean(d[i]['inc']),1) for i in indices for d in dicts_minimum_10years]\n",
    "e_minimum_10years = [np.round(np.mean(d[i]['beq']),1) for i in indices for d in dicts_minimum_10years]\n",
    "f_minimum_10years = [np.round(np.mean(d[i]['total']),1) for i in indices for d in dicts_minimum_10years]\n",
    "\n",
    "# If you need to access the results separately, you can do so by indexing the lists:\n",
    "# For example, a1 corresponds to a_results[0], a2 corresponds to a_results[1], etc."
   ]
  },
  {
   "cell_type": "code",
   "execution_count": 63,
   "metadata": {},
   "outputs": [
    {
     "data": {
      "text/plain": [
       "[26.3, 70.6, 100.0]"
      ]
     },
     "execution_count": 63,
     "metadata": {},
     "output_type": "execute_result"
    }
   ],
   "source": [
    "a_minimum_10years"
   ]
  },
  {
   "cell_type": "code",
   "execution_count": 64,
   "metadata": {},
   "outputs": [
    {
     "data": {
      "text/plain": [
       "[98.8, 116.1, 117.0]"
      ]
     },
     "execution_count": 64,
     "metadata": {},
     "output_type": "execute_result"
    }
   ],
   "source": [
    "d_minimum_10years"
   ]
  },
  {
   "cell_type": "code",
   "execution_count": 65,
   "metadata": {
    "scrolled": true
   },
   "outputs": [
    {
     "data": {
      "text/plain": [
       "[20.9, 3.8, 0.0]"
      ]
     },
     "execution_count": 65,
     "metadata": {},
     "output_type": "execute_result"
    }
   ],
   "source": [
    "e_minimum_10years"
   ]
  },
  {
   "cell_type": "markdown",
   "metadata": {},
   "source": [
    "# Result"
   ]
  },
  {
   "cell_type": "code",
   "execution_count": 66,
   "metadata": {},
   "outputs": [],
   "source": [
    "bar_width = 0.2\n",
    "x = np.arange(1)\n",
    "labels = ['1st Quintile']"
   ]
  },
  {
   "cell_type": "code",
   "execution_count": 67,
   "metadata": {},
   "outputs": [],
   "source": [
    "# plt.figure(figsize=(12,6))\n",
    "# plt.bar(x-0.2, e_minimum_recent[0:1], bar_width, alpha=0.4, color = 'blue', label = 'Recent')\n",
    "# plt.bar(x, e_minimum_5years[0:1], bar_width, alpha=0.4, color='green', label = '5 years back')\n",
    "# plt.bar(x+0.2, e_minimum_10years[0:1], bar_width, alpha=0.4, color='red', label = '10 years back') \n",
    "# plt.xticks(x, labels, fontsize = 15)\n",
    "# plt.ylabel('Bequest(thousands)', fontsize = 20)\n",
    "# plt.legend(loc='upper left', fontsize = '15')\n",
    "# plt.title('Bequest after 20 years under minimum spending', fontsize = 25)\n",
    "# plt.grid(visible=True)\n",
    "# plt.show()\n",
    "\n",
    "# plt.figure(figsize=(12,6))\n",
    "# plt.bar(x-0.2, d_minimum_recent[0:1], bar_width, alpha=0.4, color = 'blue', label = 'Recent')\n",
    "# plt.bar(x, d_minimum_5years[0:1], bar_width, alpha=0.4, color='green', label = '5 years back')\n",
    "# plt.bar(x+0.2, d_minimum_10years[0:1], bar_width, alpha=0.4, color='red', label = '10 years back') \n",
    "# plt.xticks(x, labels, fontsize = 15)\n",
    "# plt.ylabel('Total income(thousands)', fontsize = 20)\n",
    "# plt.legend(loc='upper left', fontsize = '15')\n",
    "# plt.title('Total income after 20 years under minimum spending', fontsize = 25)\n",
    "# plt.grid(visible=True)\n",
    "# plt.show()\n",
    "\n",
    "# plt.figure(figsize=(12,6))\n",
    "# plt.bar(x-0.2, f_minimum_recent[0], bar_width, alpha=0.4, color = 'blue', label = 'Recent')\n",
    "# plt.bar(x, f_minimum_5years[0], bar_width, alpha=0.4, color='green', label = '5 years back')\n",
    "# plt.bar(x+0.2, f_minimum_10years[0], bar_width, alpha=0.4, color='red', label = '10 years back') \n",
    "# plt.xticks(x, labels, fontsize = 15)\n",
    "# plt.ylabel('Total wealth(thousands)', fontsize = 20)\n",
    "# plt.legend(loc='upper left', fontsize = '15')\n",
    "# plt.title('Total wealth after 20 years under minimum spending', fontsize = 25)\n",
    "# plt.grid(visible=True)\n",
    "# plt.show()\n",
    "\n",
    "\n",
    "\n",
    "# plt.figure(figsize=(12,6))\n",
    "# plt.bar(x-0.2, a_minimum_recent[0], bar_width, alpha=0.4, color = 'blue', label = 'Recent')\n",
    "# plt.bar(x, a_minimum_5years[0], bar_width, alpha=0.4, color='green', label = '5 years back')\n",
    "# plt.bar(x+0.2, a_minimum_10years[0], bar_width, alpha=0.4, color='red', label = '10 years back') \n",
    "# plt.xticks(x, labels, fontsize = 15)\n",
    "# plt.ylabel('Portfolio depletion probability', fontsize = 20)\n",
    "# plt.legend(loc='upper left', fontsize = '15')\n",
    "# plt.title('Portfolio depletion probability after 20 years under minimum spending', fontsize = 25)\n",
    "# plt.grid(visible=True)\n",
    "# plt.show()"
   ]
  },
  {
   "cell_type": "code",
   "execution_count": 68,
   "metadata": {
    "scrolled": false
   },
   "outputs": [],
   "source": [
    "# plt.figure(figsize=(12,6))\n",
    "# plt.bar(x-0.2, e_minimum_recent[1], bar_width, alpha=0.4, color = 'blue', label = 'Recent')\n",
    "# plt.bar(x, e_minimum_5years[1], bar_width, alpha=0.4, color='green', label = '5 years back')\n",
    "# plt.bar(x+0.2, e_minimum_10years[1], bar_width, alpha=0.4, color='red', label = '10 years back') \n",
    "# plt.xticks(x, labels, fontsize = 15)\n",
    "# plt.ylabel('Bequest(thousands)', fontsize = 20)\n",
    "# plt.legend(loc='upper left', fontsize = '15')\n",
    "# plt.title('Bequest after 25 years under minimum spending', fontsize = 25)\n",
    "# plt.grid(visible=True)\n",
    "# plt.show()\n",
    "\n",
    "# plt.figure(figsize=(12,6))\n",
    "# plt.bar(x-0.2, d_minimum_recent[1], bar_width, alpha=0.4, color = 'blue', label = 'Recent')\n",
    "# plt.bar(x, d_minimum_5years[1], bar_width, alpha=0.4, color='green', label = '5 years back')\n",
    "# plt.bar(x+0.2, d_minimum_10years[1], bar_width, alpha=0.4, color='red', label = '10 years back') \n",
    "# plt.xticks(x, labels, fontsize = 15)\n",
    "# plt.ylabel('Total income(thousands)', fontsize = 20)\n",
    "# plt.legend(loc='upper left', fontsize = '15')\n",
    "# plt.title('Total income after 25 years under minimum spending', fontsize = 25)\n",
    "# plt.grid(visible=True)\n",
    "# plt.show()\n",
    "\n",
    "# plt.figure(figsize=(12,6))\n",
    "# plt.bar(x-0.2, f_minimum_recent[1], bar_width, alpha=0.4, color = 'blue', label = 'Recent')\n",
    "# plt.bar(x, f_minimum_5years[1], bar_width, alpha=0.4, color='green', label = '5 years back')\n",
    "# plt.bar(x+0.2, f_minimum_10years[1], bar_width, alpha=0.4, color='red', label = '10 years back') \n",
    "# plt.xticks(x, labels, fontsize = 15)\n",
    "# plt.ylabel('Total wealth(thousands)', fontsize = 20)\n",
    "# plt.legend(loc='upper left', fontsize = '15')\n",
    "# plt.title('Total wealth after 25 years under minimum spending', fontsize = 25)\n",
    "# plt.grid(visible=True)\n",
    "# plt.show()\n",
    "\n",
    "# plt.figure(figsize=(12,6))\n",
    "# plt.bar(x-0.2, a_minimum_recent[1], bar_width, alpha=0.4, color = 'blue', label = 'Recent')\n",
    "# plt.bar(x, a_minimum_5years[1], bar_width, alpha=0.4, color='green', label = '5 years back')\n",
    "# plt.bar(x+0.2, a_minimum_10years[1], bar_width, alpha=0.4, color='red', label = '10 years back') \n",
    "# plt.xticks(x, labels, fontsize = 15)\n",
    "# plt.ylabel('Portfolio depletion probability', fontsize = 20)\n",
    "# plt.legend(loc='upper left', fontsize = '15')\n",
    "# plt.title('Portfolio depletion probability after 25 years under minimum spending', fontsize = 25)\n",
    "# plt.grid(visible=True)\n",
    "# plt.show()"
   ]
  },
  {
   "cell_type": "code",
   "execution_count": 69,
   "metadata": {},
   "outputs": [
    {
     "data": {
      "image/png": "[encoded data removed]",
      "text/plain": [
       "<Figure size 1440x360 with 3 Axes>"
      ]
     },
     "metadata": {
      "needs_background": "light"
     },
     "output_type": "display_data"
    }
   ],
   "source": [
    "fig, axs = plt.subplots(1, 3, figsize=(20, 5))\n",
    "labels = ['1st']\n",
    "bar_width = 0.2\n",
    "\n",
    "# First subplot\n",
    "axs[0].bar(x-0.2, a_minimum_recent[1], bar_width, alpha=0.4, color = '#FFA500', label = '0 years delayed')\n",
    "axs[0].bar(x, a_minimum_5years[1], bar_width, alpha=0.4, color='#800080', label = '5 years delayed')\n",
    "axs[0].bar(x+0.2, a_minimum_10years[1], bar_width, alpha=0.4, color='#9370DB', label = '10 years delayed')\n",
    "axs[0].set_xticks(x)\n",
    "axs[0].set_xticklabels(labels, fontsize = 15)\n",
    "axs[0].set_ylabel('Depletion probability', fontsize = 23)\n",
    "axs[0].tick_params(axis='y', labelsize=15)  # Enlarging y-axis ticks\n",
    "axs[0].set_title('(a) Depletion probability', fontsize = 25)\n",
    "axs[0].grid(visible=True, linestyle=\":\")\n",
    "\n",
    "# Second subplot\n",
    "axs[1].bar(x-0.2, f_minimum_recent[1], bar_width, alpha=0.4, color = '#FFA500', label = '0 years delayed')\n",
    "axs[1].bar(x, f_minimum_5years[1], bar_width, alpha=0.4, color='#800080', label = '5 years delayed')\n",
    "axs[1].bar(x+0.2, f_minimum_10years[1], bar_width, alpha=0.4, color='#9370DB', label = '10 years delayed')\n",
    "axs[1].set_xticks(x)\n",
    "axs[1].set_xticklabels(labels, fontsize = 15)\n",
    "axs[1].set_ylabel('Total wealth (thousands)', fontsize = 23)\n",
    "axs[1].tick_params(axis='y', labelsize=15)  # Enlarging y-axis ticks\n",
    "axs[1].set_title('(b) Total wealth', fontsize = 25)\n",
    "axs[1].grid(visible=True, linestyle=\":\")\n",
    "\n",
    "# Third subplot\n",
    "axs[2].bar(x-0.2, e_minimum_recent[1], bar_width, alpha=0.4, color = '#FFA500', label = '0 years delayed')\n",
    "axs[2].bar(x, e_minimum_5years[1], bar_width, alpha=0.4, color='#800080', label = '5 years delayed')\n",
    "axs[2].bar(x+0.2, e_minimum_10years[1], bar_width, alpha=0.4, color='#9370DB', label = '10 years delayed')\n",
    "axs[2].set_xticks(x)\n",
    "axs[2].set_xticklabels(labels, fontsize = 15)\n",
    "axs[2].set_ylabel('Bequest (thousands)', fontsize = 23)\n",
    "axs[2].tick_params(axis='y', labelsize=15)  # Enlarging y-axis ticks\n",
    "axs[2].legend(loc='upper left', fontsize = '15')\n",
    "axs[2].set_title('(c) Bequest', fontsize = 25)\n",
    "axs[2].grid(visible=True, linestyle=\":\")\n",
    "\n",
    "plt.savefig('./pushing_back_minimum_25_dynamic.pdf', format='pdf')\n",
    "plt.show()\n"
   ]
  },
  {
   "cell_type": "code",
   "execution_count": 70,
   "metadata": {
    "scrolled": false
   },
   "outputs": [],
   "source": [
    "# plt.figure(figsize=(12,6))\n",
    "# plt.bar(x-0.2, e_minimum_recent[10:15], bar_width, alpha=0.4, color = 'blue', label = 'Recent')\n",
    "# plt.bar(x, e_minimum_5years[10:15], bar_width, alpha=0.4, color='green', label = '5 years back')\n",
    "# plt.bar(x+0.2, e_minimum_10years[10:15], bar_width, alpha=0.4, color='red', label = '10 years back') \n",
    "# plt.xticks(x, labels, fontsize = 15)\n",
    "# plt.ylabel('Bequest(thousands)', fontsize = 20)\n",
    "# plt.legend(loc='upper left', fontsize = '15')\n",
    "# plt.title('Bequest after 30 years under minimum spending', fontsize = 25)\n",
    "# plt.grid(visible=True)\n",
    "# plt.show()\n",
    "\n",
    "# plt.figure(figsize=(12,6))\n",
    "# plt.bar(x-0.2, d_minimum_recent[10:15], bar_width, alpha=0.4, color = 'blue', label = 'Recent')\n",
    "# plt.bar(x, d_minimum_5years[10:15], bar_width, alpha=0.4, color='green', label = '5 years back')\n",
    "# plt.bar(x+0.2, d_minimum_10years[10:15], bar_width, alpha=0.4, color='red', label = '10 years back') \n",
    "# plt.xticks(x, labels, fontsize = 15)\n",
    "# plt.ylabel('Total income(thousands)', fontsize = 20)\n",
    "# plt.legend(loc='upper left', fontsize = '15')\n",
    "# plt.title('Total income after 30 years under minimum spending', fontsize = 25)\n",
    "# plt.grid(visible=True)\n",
    "# plt.show()\n",
    "\n",
    "# plt.figure(figsize=(12,6))\n",
    "# plt.bar(x-0.2, f_minimum_recent[10:15], bar_width, alpha=0.4, color = 'blue', label = 'Recent')\n",
    "# plt.bar(x, f_minimum_5years[10:15], bar_width, alpha=0.4, color='green', label = '5 years back')\n",
    "# plt.bar(x+0.2, f_minimum_10years[10:15], bar_width, alpha=0.4, color='red', label = '10 years back') \n",
    "# plt.xticks(x, labels, fontsize = 15)\n",
    "# plt.ylabel('Total wealth(thousands)', fontsize = 20)\n",
    "# plt.legend(loc='upper left', fontsize = '15')\n",
    "# plt.title('Total wealth after 30 years under minimum spending', fontsize = 25)\n",
    "# plt.grid(visible=True)\n",
    "# plt.show()\n",
    "\n",
    "# plt.figure(figsize=(12,6))\n",
    "# plt.bar(x-0.2, a_minimum_recent[10:15], bar_width, alpha=0.4, color = 'blue', label = 'Recent')\n",
    "# plt.bar(x, a_minimum_5years[10:15], bar_width, alpha=0.4, color='green', label = '5 years back')\n",
    "# plt.bar(x+0.2, a_minimum_10years[10:15], bar_width, alpha=0.4, color='red', label = '10 years back') \n",
    "# plt.xticks(x, labels, fontsize = 15)\n",
    "# plt.ylabel('Portfolio depletion probability', fontsize = 20)\n",
    "# plt.legend(loc='upper left', fontsize = '15')\n",
    "# plt.title('Portfolio depletion probability after 30 years under minimum spending', fontsize = 25)\n",
    "# plt.grid(visible=True)\n",
    "# plt.show()"
   ]
  },
  {
   "cell_type": "code",
   "execution_count": 71,
   "metadata": {},
   "outputs": [],
   "source": [
    "# plt.figure(figsize=(12,6))\n",
    "# plt.bar(x-0.2, e_normal_recent[0:5], bar_width, alpha=0.4, color = 'blue', label = 'Recent')\n",
    "# plt.bar(x, e_normal_5years[0:5], bar_width, alpha=0.4, color='green', label = '5 years back')\n",
    "# plt.bar(x+0.2, e_normal_10years[0:5], bar_width, alpha=0.4, color='red', label = '10 years back') \n",
    "# plt.xticks(x, labels, fontsize = 15)\n",
    "# plt.ylabel('Bequest(thousands)', fontsize = 20)\n",
    "# plt.legend(loc='upper left', fontsize = '15')\n",
    "# plt.title('Bequest after 20 years under proper spending', fontsize = 25)\n",
    "# plt.grid(visible=True)\n",
    "# plt.show()\n",
    "\n",
    "# plt.figure(figsize=(12,6))\n",
    "# plt.bar(x-0.2, d_normal_recent[0:5], bar_width, alpha=0.4, color = 'blue', label = 'Recent')\n",
    "# plt.bar(x, d_normal_5years[0:5], bar_width, alpha=0.4, color='green', label = '5 years back')\n",
    "# plt.bar(x+0.2, d_normal_10years[0:5], bar_width, alpha=0.4, color='red', label = '10 years back') \n",
    "# plt.xticks(x, labels, fontsize = 15)\n",
    "# plt.ylabel('Total income(thousands)', fontsize = 20)\n",
    "# plt.legend(loc='upper left', fontsize = '15')\n",
    "# plt.title('Total income after 20 years under proper spending', fontsize = 25)\n",
    "# plt.grid(visible=True)\n",
    "# plt.show()\n",
    "\n",
    "# plt.figure(figsize=(12,6))\n",
    "# plt.bar(x-0.2, f_normal_recent[0:5], bar_width, alpha=0.4, color = 'blue', label = 'Recent')\n",
    "# plt.bar(x, f_normal_5years[0:5], bar_width, alpha=0.4, color='green', label = '5 years back')\n",
    "# plt.bar(x+0.2, f_normal_10years[0:5], bar_width, alpha=0.4, color='red', label = '10 years back') \n",
    "# plt.xticks(x, labels, fontsize = 15)\n",
    "# plt.ylabel('Total wealth(thousands)', fontsize = 20)\n",
    "# plt.legend(loc='upper left', fontsize = '15')\n",
    "# plt.title('Total wealth after 20 years under proper spending', fontsize = 25)\n",
    "# plt.grid(visible=True)\n",
    "# plt.show()\n",
    "\n",
    "# plt.figure(figsize=(12,6))\n",
    "# plt.bar(x-0.2, a_normal_recent[0:5], bar_width, alpha=0.4, color = 'blue', label = 'Recent')\n",
    "# plt.bar(x, a_normal_5years[0:5], bar_width, alpha=0.4, color='green', label = '5 years back')\n",
    "# plt.bar(x+0.2, a_normal_10years[0:5], bar_width, alpha=0.4, color='red', label = '10 years back') \n",
    "# plt.xticks(x, labels, fontsize = 15)\n",
    "# plt.ylabel('Portfolio depletion probability', fontsize = 20)\n",
    "# plt.legend(loc='upper left', fontsize = '15')\n",
    "# plt.title('Portfolio depletion probability after 20 years under proper spending', fontsize = 25)\n",
    "# plt.grid(visible=True)\n",
    "# plt.show()"
   ]
  },
  {
   "cell_type": "code",
   "execution_count": 72,
   "metadata": {},
   "outputs": [],
   "source": [
    "# bar_width = 0.2\n",
    "# x = np.arange(5)\n",
    "# labels = ['1st quintile', '2nd quintile', '3rd quintile', '4th quintile', '5th quintile']\n",
    "    \n",
    "# plt.figure(figsize=(12,6))\n",
    "# plt.bar(x-0.2, e_normal_recent[5:10], bar_width, alpha=0.4, color = 'blue', label = 'Recent')\n",
    "# plt.bar(x, e_normal_5years[5:10], bar_width, alpha=0.4, color='green', label = '5 years back')\n",
    "# plt.bar(x+0.2, e_normal_10years[5:10], bar_width, alpha=0.4, color='red', label = '10 years back') \n",
    "# plt.xticks(x, labels, fontsize = 15)\n",
    "# plt.ylabel('Bequest(thousands)', fontsize = 20)\n",
    "# plt.legend(loc='upper left', fontsize = '15')\n",
    "# plt.title('Bequest after 25 years under proper spending', fontsize = 25)\n",
    "# plt.grid(visible=True)\n",
    "# plt.show()\n",
    "\n",
    "# plt.figure(figsize=(12,6))\n",
    "# plt.bar(x-0.2, d_normal_recent[5:10], bar_width, alpha=0.4, color = 'blue', label = 'Recent')\n",
    "# plt.bar(x, d_normal_5years[5:10], bar_width, alpha=0.4, color='green', label = '5 years back')\n",
    "# plt.bar(x+0.2, d_normal_10years[5:10], bar_width, alpha=0.4, color='red', label = '10 years back')\n",
    "# plt.xticks(x, labels, fontsize = 15)\n",
    "# plt.ylabel('Total income(thousands)', fontsize = 20)\n",
    "# plt.legend(loc='upper left', fontsize = '15')\n",
    "# plt.title('Total income after 25 years under proper spending', fontsize = 25)\n",
    "# plt.grid(visible=True)\n",
    "# plt.show()\n",
    "\n",
    "# plt.figure(figsize=(12,6))\n",
    "# plt.bar(x-0.2, f_normal_recent[5:10], bar_width, alpha=0.4, color = 'blue', label = 'Recent')\n",
    "# plt.bar(x, f_normal_5years[5:10], bar_width, alpha=0.4, color='green', label = '5 years back')\n",
    "# plt.bar(x+0.2, f_normal_10years[5:10], bar_width, alpha=0.4, color='red', label = '10 years back')\n",
    "# plt.xticks(x, labels, fontsize = 15)\n",
    "# plt.ylabel('Total wealth(thousands)', fontsize = 20)\n",
    "# plt.legend(loc='upper left', fontsize = '15')\n",
    "# plt.title('Total wealth after 25 years under proper spending', fontsize = 25)\n",
    "# plt.grid(visible=True)\n",
    "# plt.show()\n",
    "\n",
    "# plt.figure(figsize=(12,6))\n",
    "# plt.bar(x-0.2, a_normal_recent[5:10], bar_width, alpha=0.4, color = 'blue', label = 'Recent')\n",
    "# plt.bar(x, a_normal_5years[5:10], bar_width, alpha=0.4, color='green', label = '5 years back')\n",
    "# plt.bar(x+0.2, a_normal_10years[5:10], bar_width, alpha=0.4, color='red', label = '10 years back')\n",
    "# plt.xticks(x, labels, fontsize = 15)\n",
    "# plt.ylabel('Portfolio depletion probability', fontsize = 20)\n",
    "# plt.legend(loc='upper left', fontsize = '15')\n",
    "# plt.title('Portfolio depletion probability after 25 years under proper spending', fontsize = 25)\n",
    "# plt.grid(visible=True)\n",
    "# plt.show()"
   ]
  },
  {
   "cell_type": "code",
   "execution_count": 73,
   "metadata": {},
   "outputs": [
    {
     "data": {
      "image/png": "[encoded data removed]",
      "text/plain": [
       "<Figure size 1440x360 with 3 Axes>"
      ]
     },
     "metadata": {
      "needs_background": "light"
     },
     "output_type": "display_data"
    }
   ],
   "source": [
    "fig, axs = plt.subplots(1, 3, figsize=(20, 5))\n",
    "labels = ['1st']\n",
    "bar_width = 0.2\n",
    "\n",
    "# First subplot\n",
    "axs[0].bar(x-0.2, a_normal_recent[1], bar_width, alpha=0.4, color = '#FFA500', label = '0 years delayed')\n",
    "axs[0].bar(x, a_normal_5years[1], bar_width, alpha=0.4, color='#800080', label = '5 years delayed')\n",
    "axs[0].bar(x+0.2, a_normal_10years[1], bar_width, alpha=0.4, color='#9370DB', label = '10 years delayed')\n",
    "axs[0].set_xticks(x)\n",
    "axs[0].set_xticklabels(labels, fontsize = 15)\n",
    "axs[0].set_ylabel('Depletion probability', fontsize = 23)\n",
    "axs[0].tick_params(axis='y', labelsize=15)  # Enlarging y-axis ticks\n",
    "axs[0].set_title('(a) Depletion probability', fontsize = 25)\n",
    "axs[0].grid(visible=True, linestyle=\":\")\n",
    "\n",
    "# Second subplot\n",
    "axs[1].bar(x-0.2, f_normal_recent[1], bar_width, alpha=0.4, color = '#FFA500', label = '0 years delayed')\n",
    "axs[1].bar(x, f_normal_5years[1], bar_width, alpha=0.4, color='#800080', label = '5 years delayed')\n",
    "axs[1].bar(x+0.2, f_normal_10years[1], bar_width, alpha=0.4, color='#9370DB', label = '10 years delayed')\n",
    "axs[1].set_xticks(x)\n",
    "axs[1].set_xticklabels(labels, fontsize = 15)\n",
    "axs[1].set_ylabel('Total wealth (thousands)', fontsize = 23)\n",
    "axs[1].tick_params(axis='y', labelsize=15)  # Enlarging y-axis ticks\n",
    "axs[1].set_title('(b) Total wealth', fontsize = 25)\n",
    "axs[1].grid(visible=True, linestyle=\":\")\n",
    "\n",
    "# Third subplot\n",
    "axs[2].bar(x-0.2, e_normal_recent[1], bar_width, alpha=0.4, color = '#FFA500', label = '0 years delayed')\n",
    "axs[2].bar(x, e_normal_5years[1], bar_width, alpha=0.4, color='#800080', label = '5 years delayed')\n",
    "axs[2].bar(x+0.2, e_normal_10years[1], bar_width, alpha=0.4, color='#9370DB', label = '10 years delayed')\n",
    "axs[2].set_xticks(x)\n",
    "axs[2].set_xticklabels(labels, fontsize = 15)\n",
    "axs[2].set_ylabel('Bequest (thousands)', fontsize = 23)\n",
    "axs[2].tick_params(axis='y', labelsize=15)  # Enlarging y-axis ticks\n",
    "axs[2].legend(loc='upper left', fontsize = '15')\n",
    "axs[2].set_title('(c) Bequest', fontsize = 25)\n",
    "axs[2].grid(visible=True, linestyle=\":\")\n",
    "\n",
    "plt.savefig('./pushing_back_normal_25_dynamic.pdf', format='pdf')\n",
    "plt.show()\n"
   ]
  },
  {
   "cell_type": "code",
   "execution_count": 74,
   "metadata": {
    "scrolled": true
   },
   "outputs": [],
   "source": [
    "# bar_width = 0.2\n",
    "# x = np.arange(5)\n",
    "# labels = ['1st quintile', '2nd quintile', '3rd quintile', '4th quintile', '5th quintile']\n",
    "    \n",
    "# plt.figure(figsize=(12,6))\n",
    "# plt.bar(x-0.2, e_normal_recent[10:15], bar_width, alpha=0.4, color = 'blue', label = 'Recent')\n",
    "# plt.bar(x, e_normal_5years[10:15], bar_width, alpha=0.4, color='green', label = '5 years back')\n",
    "# plt.bar(x+0.2, e_normal_10years[10:15], bar_width, alpha=0.4, color='red', label = '10 years back') \n",
    "# plt.xticks(x, labels, fontsize = 15)\n",
    "# plt.ylabel('Bequest(thousands)', fontsize = 20)\n",
    "# plt.legend(loc='upper left', fontsize = '15')\n",
    "# plt.title('Bequest after 30 years under proper spending', fontsize = 25)\n",
    "# plt.grid(visible=True)\n",
    "# plt.show()\n",
    "\n",
    "# plt.figure(figsize=(12,6))\n",
    "# plt.bar(x-0.2, d_normal_recent[10:15], bar_width, alpha=0.4, color = 'blue', label = 'Recent')\n",
    "# plt.bar(x, d_normal_5years[10:15], bar_width, alpha=0.4, color='green', label = '5 years back')\n",
    "# plt.bar(x+0.2, d_normal_10years[10:15], bar_width, alpha=0.4, color='red', label = '10 years back')\n",
    "# plt.xticks(x, labels, fontsize = 15)\n",
    "# plt.ylabel('Total income(thousands)', fontsize = 20)\n",
    "# plt.legend(loc='upper left', fontsize = '15')\n",
    "# plt.title('Total income after 30 years under proper spending', fontsize = 25)\n",
    "# plt.grid(visible=True)\n",
    "# plt.show()\n",
    "\n",
    "# plt.figure(figsize=(12,6))\n",
    "# plt.bar(x-0.2, f_normal_recent[10:15], bar_width, alpha=0.4, color = 'blue', label = 'Recent')\n",
    "# plt.bar(x, f_normal_5years[10:15], bar_width, alpha=0.4, color='green', label = '5 years back')\n",
    "# plt.bar(x+0.2, f_normal_10years[10:15], bar_width, alpha=0.4, color='red', label = '10 years back')\n",
    "# plt.xticks(x, labels, fontsize = 15)\n",
    "# plt.ylabel('Total wealth(thousands)', fontsize = 20)\n",
    "# plt.legend(loc='upper left', fontsize = '15')\n",
    "# plt.title('Total wealth after 30 years under proper spending', fontsize = 25)\n",
    "# plt.grid(visible=True)\n",
    "# plt.show()\n",
    "\n",
    "# plt.figure(figsize=(12,6))\n",
    "# plt.bar(x-0.2, a_normal_recent[10:15], bar_width, alpha=0.4, color = 'blue', label = 'Recent')\n",
    "# plt.bar(x, a_normal_5years[10:15], bar_width, alpha=0.4, color='green', label = '5 years back')\n",
    "# plt.bar(x+0.2, a_normal_10years[10:15], bar_width, alpha=0.4, color='red', label = '10 years back')\n",
    "# plt.xticks(x, labels, fontsize = 15)\n",
    "# plt.ylabel('Portfolio depletion probability', fontsize = 20)\n",
    "# plt.legend(loc='upper left', fontsize = '15')\n",
    "# plt.title('Portfolio depletion probability after 30 years under proper spending', fontsize = 25)\n",
    "# plt.grid(visible=True)\n",
    "# plt.show()"
   ]
  },
  {
   "cell_type": "code",
   "execution_count": 75,
   "metadata": {},
   "outputs": [],
   "source": [
    "# print(a_minimum_recent[5:10], a_minimum_5years[5:10], a_minimum_10years[5:10])"
   ]
  },
  {
   "cell_type": "code",
   "execution_count": 76,
   "metadata": {},
   "outputs": [],
   "source": [
    "#print(f_minimum_recent[5:10], f_minimum_5years[5:10], f_minimum_10years[5:10])"
   ]
  },
  {
   "cell_type": "code",
   "execution_count": 77,
   "metadata": {},
   "outputs": [],
   "source": [
    "#print(e_minimum_recent[5:10], e_minimum_5years[5:10], e_minimum_10years[5:10])"
   ]
  },
  {
   "cell_type": "code",
   "execution_count": 78,
   "metadata": {},
   "outputs": [],
   "source": [
    "#print(a_normal_recent[5:10], a_normal_5years[5:10], a_normal_10years[5:10])"
   ]
  },
  {
   "cell_type": "code",
   "execution_count": 79,
   "metadata": {},
   "outputs": [],
   "source": [
    "#print(f_normal_recent[5:10], f_normal_5years[5:10], f_normal_10years[5:10])"
   ]
  },
  {
   "cell_type": "code",
   "execution_count": 80,
   "metadata": {},
   "outputs": [],
   "source": [
    "#print(e_normal_recent[5:10], e_normal_5years[5:10], e_normal_10years[5:10])"
   ]
  },
  {
   "cell_type": "code",
   "execution_count": 81,
   "metadata": {},
   "outputs": [],
   "source": [
    "# 매트릭 참고\n",
    "\n",
    "# https://papers.ssrn.com/sol3/papers.cfm?abstract_id=2544651\n",
    "# https://investmentsandwealth.org/getattachment/90eb6376-d090-4904-9f82-786553ff5ed9/RMJ023-OptimalWithdrawalStrategy.pdf\n",
    "# https://www.betterfinancialeducation.com/sites/larryfrank.us1.advisor.ws/files/documents/apr09_frank_and_blanchett.pdf\n",
    "# https://www.tandfonline.com/doi/epdf/10.2469/faj.v61.n6.2776?needAccess=true&role=button"
   ]
  }
 ],
 "metadata": {
  "kernelspec": {
   "display_name": "hyungjinko",
   "language": "python",
   "name": "hyungjinko"
  },
  "language_info": {
   "codemirror_mode": {
    "name": "ipython",
    "version": 3
   },
   "file_extension": ".py",
   "mimetype": "text/x-python",
   "name": "python",
   "nbconvert_exporter": "python",
   "pygments_lexer": "ipython3",
   "version": "3.8.5"
  }
 },
 "nbformat": 4,
 "nbformat_minor": 4
}
