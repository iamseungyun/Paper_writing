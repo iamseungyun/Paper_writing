{
 "cells": [
  {
   "cell_type": "code",
   "execution_count": 1,
   "metadata": {},
   "outputs": [],
   "source": [
    "import pandas as pd\n",
    "import numpy as np\n"
   ]
  },
  {
   "cell_type": "code",
   "execution_count": 2,
   "metadata": {},
   "outputs": [],
   "source": [
    "# 1. <표 1-4> 소득 5분위별 순자산 보유액 및 점유율 (6 pages)\n",
    "#15472 25501 36133 50590 100273\n",
    "\n",
    "#2. 48327 (60대 평균 순 자산)\n",
    "\n",
    "# 3. 소득 분위별 순 자산 분포\n",
    "#       소득1분위 2분위 3분위 4분위 5분위\n",
    "# 자산\n",
    "# 전 체 100.0 100.0 100.0 100.0 100.0\n",
    "# 1분위 47.3 28.6 15.7 6.2 2.1\n",
    "# 2분위 25.6 26.3 25.4 16.6 6.1\n",
    "# 3분위 14.2 20.6 24.0 27.1 14.1\n",
    "# 4분위 8.4 15.2 21.3 27.9 27.2\n",
    "# 5분위 4.5 9.2 13.6 22.2 50.5"
   ]
  },
  {
   "cell_type": "markdown",
   "metadata": {},
   "source": [
    "# 필요한 초기 자산 구하기"
   ]
  },
  {
   "cell_type": "code",
   "execution_count": 3,
   "metadata": {},
   "outputs": [],
   "source": [
    "# <표 1-4> 소득 5분위별 순자산 보유액 및 점유율 (6 pages)\n",
    "avg_asset = np.array([15472, 25501, 36133, 50590, 100273])\n",
    "avg_asset_prop = avg_asset / 45602 # 45602 = 전체 가구의 평균 순 자산"
   ]
  },
  {
   "cell_type": "code",
   "execution_count": 4,
   "metadata": {},
   "outputs": [],
   "source": [
    "# 60대의 평균 순자산 기반으로 소득분위별 자산의 비중을 곱해서 60대의 소득분위별 자산의 상대적 금액\n",
    "avg_asset_60s = 48327 * avg_asset_prop # 60대 가구의 소득분위별 평균 순자산"
   ]
  },
  {
   "cell_type": "code",
   "execution_count": 5,
   "metadata": {},
   "outputs": [
    {
     "data": {
      "text/plain": [
       "array([ 16396.54716898,  27024.84160782,  38292.16900575,  53613.06368142,\n",
       "       106264.92853384])"
      ]
     },
     "execution_count": 5,
     "metadata": {},
     "output_type": "execute_result"
    }
   ],
   "source": [
    "# 소득 5분위별 순자산 보유액 (60대)\n",
    "avg_asset_60s"
   ]
  },
  {
   "cell_type": "code",
   "execution_count": 6,
   "metadata": {},
   "outputs": [
    {
     "data": {
      "text/plain": [
       "29396.833394609883"
      ]
     },
     "execution_count": 6,
     "metadata": {},
     "output_type": "execute_result"
    }
   ],
   "source": [
    "# test\n",
    "(avg_asset_60s * np.array([0.473, 0.256, 0.142, 0.084, 0.045])).sum()"
   ]
  },
  {
   "cell_type": "code",
   "execution_count": 7,
   "metadata": {},
   "outputs": [],
   "source": [
    "# 소득 분위별 순 자산 분포 * 60대 소득분위별 평균 순자산 = 소득 분위별 60대 평균 순 자산\n",
    "final_asset_per_income_decile = avg_asset_60s * 10000"
   ]
  },
  {
   "cell_type": "code",
   "execution_count": 8,
   "metadata": {},
   "outputs": [
    {
     "data": {
      "text/plain": [
       "array([1.63965472e+08, 2.70248416e+08, 3.82921690e+08, 5.36130637e+08,\n",
       "       1.06264929e+09])"
      ]
     },
     "execution_count": 8,
     "metadata": {},
     "output_type": "execute_result"
    }
   ],
   "source": [
    "final_asset_per_income_decile"
   ]
  },
  {
   "cell_type": "code",
   "execution_count": 9,
   "metadata": {},
   "outputs": [
    {
     "data": {
      "text/plain": [
       "array([126127.28591526, 207883.39698326, 294555.14619804, 412408.18216475,\n",
       "       817422.52718336])"
      ]
     },
     "execution_count": 9,
     "metadata": {},
     "output_type": "execute_result"
    }
   ],
   "source": [
    "final_asset_per_income_decile/1300"
   ]
  },
  {
   "cell_type": "markdown",
   "metadata": {},
   "source": [
    "# 필요한 withdrawal rate 구할 인컴"
   ]
  },
  {
   "cell_type": "code",
   "execution_count": 10,
   "metadata": {},
   "outputs": [],
   "source": [
    "# 분위별 소득\n",
    "\n",
    "avg_income = np.array([1323, 3080, 5036, 7649, 14973]) * 10000 / 12"
   ]
  },
  {
   "cell_type": "code",
   "execution_count": 11,
   "metadata": {},
   "outputs": [
    {
     "data": {
      "text/plain": [
       "array([ 10176.92307692,  23692.30769231,  38738.46153846,  58838.46153846,\n",
       "       115176.92307692])"
      ]
     },
     "execution_count": 11,
     "metadata": {},
     "output_type": "execute_result"
    }
   ],
   "source": [
    "np.array([1323, 3080, 5036, 7649, 14973])/13*100"
   ]
  },
  {
   "cell_type": "code",
   "execution_count": 12,
   "metadata": {},
   "outputs": [
    {
     "data": {
      "text/plain": [
       "array([ 1102500.        ,  2566666.66666667,  4196666.66666667,\n",
       "        6374166.66666667, 12477500.        ])"
      ]
     },
     "execution_count": 12,
     "metadata": {},
     "output_type": "execute_result"
    }
   ],
   "source": [
    "avg_income"
   ]
  },
  {
   "cell_type": "code",
   "execution_count": 13,
   "metadata": {},
   "outputs": [],
   "source": [
    "# https://nps.or.kr/jsppage/info/easy/easy_04_02.jsp\n",
    "# 소득별 수령액\n",
    "\n",
    "# 30 35 40\n",
    "\n",
    "# 1분위 소득 : 597870, 696900, 795930\n",
    "# 2분위 소득:  824280, 960810, 1097330\n",
    "# 3분위 소득: 1065780 1242310, 1418830\n",
    "# 4분위 소득: 1266530, 1476300, 1686080\n",
    "# 5분위 소득: 1266530, 1476300, 1686080"
   ]
  },
  {
   "cell_type": "code",
   "execution_count": 14,
   "metadata": {},
   "outputs": [
    {
     "data": {
      "text/plain": [
       "array([ 5518.8       ,  7608.73846154,  9837.96923077, 11691.04615385,\n",
       "       11691.04615385])"
      ]
     },
     "execution_count": 14,
     "metadata": {},
     "output_type": "execute_result"
    }
   ],
   "source": [
    "np.array([597870, 824280, 1065780, 1266530, 1266530])/1300*12"
   ]
  },
  {
   "cell_type": "code",
   "execution_count": 15,
   "metadata": {},
   "outputs": [
    {
     "data": {
      "text/plain": [
       "array([ 6432.92307692,  8869.01538462, 11467.47692308, 13627.38461538,\n",
       "       13627.38461538])"
      ]
     },
     "execution_count": 15,
     "metadata": {},
     "output_type": "execute_result"
    }
   ],
   "source": [
    "np.array([696900, 960810, 1242310, 1476300, 1476300])/1300*12"
   ]
  },
  {
   "cell_type": "code",
   "execution_count": 16,
   "metadata": {},
   "outputs": [
    {
     "data": {
      "text/plain": [
       "array([ 7347.04615385, 10129.2       , 13096.89230769, 15563.81538462,\n",
       "       15563.81538462])"
      ]
     },
     "execution_count": 16,
     "metadata": {},
     "output_type": "execute_result"
    }
   ],
   "source": [
    "np.array([795930, 1097330, 1418830, 1686080, 1686080])/1300*12"
   ]
  },
  {
   "cell_type": "code",
   "execution_count": 17,
   "metadata": {},
   "outputs": [],
   "source": [
    "pension_income_per_decile = np.array([[597870, 696900, 795930],\n",
    "[824280, 960810, 1097330],\n",
    "[1065780, 1242310, 1418830],\n",
    "[1266530, 1476300, 1686080],\n",
    "[1266530, 1476300, 1686080]])"
   ]
  },
  {
   "cell_type": "code",
   "execution_count": 18,
   "metadata": {},
   "outputs": [],
   "source": [
    "pension_income_per_decile_80 = np.array([[597870, 696900, 795930],\n",
    "[824280, 960810, 1097330],\n",
    "[1065780, 1242310, 1418830],\n",
    "[1266530, 1476300, 1686080],\n",
    "[1266530, 1476300, 1686080]])*0.8"
   ]
  },
  {
   "cell_type": "code",
   "execution_count": 19,
   "metadata": {},
   "outputs": [],
   "source": [
    "pension_income_per_decile_60 = np.array([[597870, 696900, 795930],\n",
    "[824280, 960810, 1097330],\n",
    "[1065780, 1242310, 1418830],\n",
    "[1266530, 1476300, 1686080],\n",
    "[1266530, 1476300, 1686080]])*0.6"
   ]
  },
  {
   "cell_type": "code",
   "execution_count": 21,
   "metadata": {},
   "outputs": [],
   "source": [
    "need_for_normal_spending = (2888000 - pension_income_per_decile-520000)*12\n",
    "need_for_minimum_spending = (2071000 - pension_income_per_decile-520000)*12"
   ]
  },
  {
   "cell_type": "code",
   "execution_count": 17,
   "metadata": {},
   "outputs": [],
   "source": [
    "need_for_normal_spending_80 = (2888000 - pension_income_per_decile_80)*12\n",
    "need_for_minimum_spending_80 = (2071000 - pension_income_per_decile_80)*12"
   ]
  },
  {
   "cell_type": "code",
   "execution_count": 18,
   "metadata": {},
   "outputs": [],
   "source": [
    "need_for_normal_spending_60 = (2888000 - pension_income_per_decile_60)*12\n",
    "need_for_minimum_spending_60 = (2071000 - pension_income_per_decile_60)*12"
   ]
  },
  {
   "cell_type": "code",
   "execution_count": 19,
   "metadata": {},
   "outputs": [
    {
     "data": {
      "text/plain": [
       "array([[27481560, 26293200, 25104840],\n",
       "       [24764640, 23126280, 21488040],\n",
       "       [21866640, 19748280, 17630040],\n",
       "       [19457640, 16940400, 14423040],\n",
       "       [19457640, 16940400, 14423040]])"
      ]
     },
     "execution_count": 19,
     "metadata": {},
     "output_type": "execute_result"
    }
   ],
   "source": [
    "need_for_normal_spending"
   ]
  },
  {
   "cell_type": "code",
   "execution_count": 20,
   "metadata": {},
   "outputs": [
    {
     "data": {
      "text/plain": [
       "array([[28916448., 27965760., 27015072.],\n",
       "       [26742912., 25432224., 24121632.],\n",
       "       [24424512., 22729824., 21035232.],\n",
       "       [22497312., 20483520., 18469632.],\n",
       "       [22497312., 20483520., 18469632.]])"
      ]
     },
     "execution_count": 20,
     "metadata": {},
     "output_type": "execute_result"
    }
   ],
   "source": [
    "need_for_normal_spending_80"
   ]
  },
  {
   "cell_type": "code",
   "execution_count": 21,
   "metadata": {},
   "outputs": [
    {
     "data": {
      "text/plain": [
       "array([[30351336., 29638320., 28925304.],\n",
       "       [28721184., 27738168., 26755224.],\n",
       "       [26982384., 25711368., 24440424.],\n",
       "       [25536984., 24026640., 22516224.],\n",
       "       [25536984., 24026640., 22516224.]])"
      ]
     },
     "execution_count": 21,
     "metadata": {},
     "output_type": "execute_result"
    }
   ],
   "source": [
    "need_for_normal_spending_60"
   ]
  },
  {
   "cell_type": "code",
   "execution_count": 22,
   "metadata": {},
   "outputs": [],
   "source": [
    "withdraw_for_normal_spending = need_for_normal_spending.T / final_asset_per_income_decile"
   ]
  },
  {
   "cell_type": "code",
   "execution_count": 23,
   "metadata": {},
   "outputs": [],
   "source": [
    "withdraw_for_normal_spending_80 = need_for_normal_spending_80.T / final_asset_per_income_decile"
   ]
  },
  {
   "cell_type": "code",
   "execution_count": 24,
   "metadata": {},
   "outputs": [],
   "source": [
    "withdraw_for_normal_spending_60 = need_for_normal_spending_60.T / final_asset_per_income_decile"
   ]
  },
  {
   "cell_type": "code",
   "execution_count": 23,
   "metadata": {},
   "outputs": [
    {
     "data": {
      "text/plain": [
       "array([[0.12954898, 0.06854671, 0.04080897, 0.02465377, 0.01243838],\n",
       "       [0.12230136, 0.06248429, 0.03527687, 0.01995857, 0.01006955],\n",
       "       [0.11505374, 0.05642231, 0.02974509, 0.01526315, 0.0077006 ]])"
      ]
     },
     "execution_count": 23,
     "metadata": {},
     "output_type": "execute_result"
    }
   ],
   "source": [
    "withdraw_for_normal_spending"
   ]
  },
  {
   "cell_type": "code",
   "execution_count": 26,
   "metadata": {},
   "outputs": [
    {
     "data": {
      "text/plain": [
       "array([[0.17635693, 0.09895678, 0.06378461, 0.04196237, 0.02117097],\n",
       "       [0.17055884, 0.09410684, 0.05935894, 0.03820621, 0.0192759 ],\n",
       "       [0.16476074, 0.08925726, 0.05493351, 0.03444987, 0.01738074]])"
      ]
     },
     "execution_count": 26,
     "metadata": {},
     "output_type": "execute_result"
    }
   ],
   "source": [
    "withdraw_for_normal_spending_80"
   ]
  },
  {
   "cell_type": "code",
   "execution_count": 27,
   "metadata": {},
   "outputs": [
    {
     "data": {
      "text/plain": [
       "array([[0.18510809, 0.10627697, 0.0704645 , 0.04763202, 0.02403143],\n",
       "       [0.18075952, 0.10263952, 0.06714524, 0.0448149 , 0.02261013],\n",
       "       [0.17641095, 0.09900233, 0.06382617, 0.04199764, 0.02118876]])"
      ]
     },
     "execution_count": 27,
     "metadata": {},
     "output_type": "execute_result"
    }
   ],
   "source": [
    "withdraw_for_normal_spending_60"
   ]
  },
  {
   "cell_type": "code",
   "execution_count": 24,
   "metadata": {},
   "outputs": [],
   "source": [
    "withdraw_for_minimum_spending = need_for_minimum_spending.T / final_asset_per_income_decile"
   ]
  },
  {
   "cell_type": "code",
   "execution_count": 25,
   "metadata": {},
   "outputs": [
    {
     "data": {
      "text/plain": [
       "array([[ 0.06975591,  0.03226898,  0.01520582,  0.00636718,  0.00321239],\n",
       "       [ 0.06250828,  0.02620656,  0.00967373,  0.00167198,  0.00084355],\n",
       "       [ 0.05526066,  0.02014458,  0.00414194, -0.00302344, -0.0015254 ]])"
      ]
     },
     "execution_count": 25,
     "metadata": {},
     "output_type": "execute_result"
    }
   ],
   "source": [
    "withdraw_for_minimum_spending"
   ]
  },
  {
   "cell_type": "code",
   "execution_count": 30,
   "metadata": {},
   "outputs": [],
   "source": [
    "# https://kostat.go.kr/board.es?mid=a10301040300&bid=215&act=view&list_no=422053"
   ]
  }
 ],
 "metadata": {
  "kernelspec": {
   "display_name": "Python 3",
   "language": "python",
   "name": "python3"
  },
  "language_info": {
   "codemirror_mode": {
    "name": "ipython",
    "version": 3
   },
   "file_extension": ".py",
   "mimetype": "text/x-python",
   "name": "python",
   "nbconvert_exporter": "python",
   "pygments_lexer": "ipython3",
   "version": "3.8.3"
  }
 },
 "nbformat": 4,
 "nbformat_minor": 4
}
