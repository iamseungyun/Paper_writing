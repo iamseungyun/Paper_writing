{
 "cells": [
  {
   "cell_type": "code",
   "execution_count": 1,
   "metadata": {},
   "outputs": [],
   "source": [
    "import pandas as pd\n",
    "import numpy as np\n",
    "from pandas import Series, DataFrame\n",
    "from datetime import datetime, timedelta\n",
    "from dateutil.relativedelta import relativedelta\n",
    "from matplotlib import pyplot as plt\n",
    "import pickle\n",
    "import sys\n",
    "\n",
    "sys.path.append('./../')"
   ]
  },
  {
   "cell_type": "code",
   "execution_count": 2,
   "metadata": {},
   "outputs": [],
   "source": [
    "# 65세 은퇴\n",
    "# 그시점 소득분위가 중요한게 아니라 인생전반의 소득분위가 더 영향을 미친다.\n",
    "# 평균적으로 n분위 소득을 가진 사람이 65세에 자산을 얼마나 가지고 있는지에 대한 자료.\n",
    "\n"
   ]
  },
  {
   "cell_type": "code",
   "execution_count": 3,
   "metadata": {},
   "outputs": [],
   "source": [
    "def static(year,t,k) :\n",
    "    return k"
   ]
  },
  {
   "cell_type": "code",
   "execution_count": 4,
   "metadata": {
    "scrolled": true
   },
   "outputs": [],
   "source": [
    "from Portfolio_value import cons_withdraw, dyna_withdraw"
   ]
  },
  {
   "cell_type": "code",
   "execution_count": 5,
   "metadata": {},
   "outputs": [],
   "source": [
    "df =  pd.read_csv('./../data/data.csv')\n",
    "portfolio_strategy = [static]\n",
    "upper_years = [30]\n",
    "periods = 30\n",
    "periods_idx = 0"
   ]
  },
  {
   "cell_type": "code",
   "execution_count": 6,
   "metadata": {},
   "outputs": [],
   "source": [
    "init_wealth_list = np.array([1.63965472e+08, 2.70248416e+08, 3.82921690e+08, 5.36130637e+08,\n",
    "       1.06264929e+09]) / 1300"
   ]
  },
  {
   "cell_type": "code",
   "execution_count": 7,
   "metadata": {},
   "outputs": [],
   "source": [
    "init_p_vals = init_wealth_list\n",
    "bear_year = np.load('./../result/year/bear_year.npy', allow_pickle=True).reshape(1)[0]"
   ]
  },
  {
   "cell_type": "code",
   "execution_count": 8,
   "metadata": {},
   "outputs": [],
   "source": [
    "income_replacement_rate = [100,80,60]"
   ]
  },
  {
   "cell_type": "markdown",
   "metadata": {},
   "source": [
    "# 100%"
   ]
  },
  {
   "cell_type": "code",
   "execution_count": 9,
   "metadata": {},
   "outputs": [],
   "source": [
    "normal_withdrawal_rate = np.array([[0.16760578, 0.09163658, 0.05710473, 0.03629272, 0.0183105 ],\n",
    "       [0.16035815, 0.08557416, 0.05157263, 0.03159752, 0.01594167],\n",
    "       [0.15311053, 0.07951218, 0.04604085, 0.0269021 , 0.01357272]])"
   ]
  },
  {
   "cell_type": "code",
   "execution_count": 10,
   "metadata": {
    "scrolled": true
   },
   "outputs": [],
   "source": [
    "functions = [cons_withdraw]\n",
    "\n",
    "for upper_year in upper_years: # 1가지\n",
    "    for k in [0.5]:\n",
    "        for i, withdraw_rate in enumerate(list(normal_withdrawal_rate[periods_idx])):\n",
    "            print('year{}_k{}_rate{}_decile{}'.format(upper_year, k, withdraw_rate, i+1))\n",
    "            p_val = {}\n",
    "            w_val = {}\n",
    "            years = bear_year[upper_year][0]\n",
    "            for j, weight in enumerate(portfolio_strategy) :\n",
    "                print('{} Strategy'.format(weight))\n",
    "\n",
    "                for function in functions :\n",
    "                    for year in years :\n",
    "                        print(year)\n",
    "                        res = function(year, weight, k, upper_year, withdraw_rate, df, init_p_vals[i])\n",
    "                        p_val[year] = res[0]\n",
    "                        w_val[year] = res[1]\n",
    "\n",
    "            p_val = pd.DataFrame(p_val)\n",
    "            w_val = pd.DataFrame(w_val)\n",
    "            p_val.to_csv('./../result/income_replacement/p_val/year{}_k{}_decile{}_period{}_const_normal_spending_100%.csv'.format(upper_year, k, i+1, periods))\n",
    "            w_val.to_csv('./../result/income_replacement/w_val/year{}_k{}_decile{}_period{}_const_normal_spending_100%.csv'.format(upper_year, k, i+1, periods))\n",
    "            \n",
    "            "
   ]
  },
  {
   "cell_type": "markdown",
   "metadata": {},
   "source": [
    "# 80%"
   ]
  },
  {
   "cell_type": "code",
   "execution_count": 11,
   "metadata": {},
   "outputs": [],
   "source": [
    "normal_withdrawal_rate_80 = np.array([[0.17635693, 0.09895678, 0.06378461, 0.04196237, 0.02117097],\n",
    "       [0.17055884, 0.09410684, 0.05935894, 0.03820621, 0.0192759 ],\n",
    "       [0.16476074, 0.08925726, 0.05493351, 0.03444987, 0.01738074]])"
   ]
  },
  {
   "cell_type": "code",
   "execution_count": 12,
   "metadata": {
    "scrolled": true
   },
   "outputs": [],
   "source": [
    "functions = [cons_withdraw]\n",
    "\n",
    "for upper_year in upper_years: # 1가지\n",
    "    for k in [0.5]:\n",
    "        for i, withdraw_rate in enumerate(list(normal_withdrawal_rate_80[periods_idx])):\n",
    "            print('year{}_k{}_rate{}_decile{}'.format(upper_year, k, withdraw_rate, i+1))\n",
    "            p_val = {}\n",
    "            w_val = {}\n",
    "            years = bear_year[upper_year][0]\n",
    "            for j, weight in enumerate(portfolio_strategy) :\n",
    "                print('{} Strategy'.format(weight))\n",
    "\n",
    "                for function in functions :\n",
    "                    for year in years :\n",
    "                        print(year)\n",
    "                        res = function(year, weight, k, upper_year, withdraw_rate, df, init_p_vals[i])\n",
    "                        p_val[year] = res[0]\n",
    "                        w_val[year] = res[1]\n",
    "\n",
    "            p_val = pd.DataFrame(p_val)\n",
    "            w_val = pd.DataFrame(w_val)\n",
    "            p_val.to_csv('./../result/income_replacement/p_val/year{}_k{}_decile{}_period{}_const_normal_spending_80%.csv'.format(upper_year, k, i+1, periods))\n",
    "            w_val.to_csv('./../result/income_replacement/w_val/year{}_k{}_decile{}_period{}_const_normal_spending_80%.csv'.format(upper_year, k, i+1, periods))\n",
    "            \n",
    "            "
   ]
  },
  {
   "cell_type": "markdown",
   "metadata": {},
   "source": [
    "# 60%"
   ]
  },
  {
   "cell_type": "code",
   "execution_count": 13,
   "metadata": {},
   "outputs": [],
   "source": [
    "normal_withdrawal_rate_60 = np.array([[0.18510809, 0.10627697, 0.0704645 , 0.04763202, 0.02403143],\n",
    "       [0.18075952, 0.10263952, 0.06714524, 0.0448149 , 0.02261013],\n",
    "       [0.17641095, 0.09900233, 0.06382617, 0.04199764, 0.02118876]])"
   ]
  },
  {
   "cell_type": "code",
   "execution_count": 14,
   "metadata": {},
   "outputs": [],
   "source": [
    "functions = [cons_withdraw]\n",
    "\n",
    "for upper_year in upper_years: # 1가지\n",
    "    for k in [0.5]:\n",
    "        for i, withdraw_rate in enumerate(list(normal_withdrawal_rate_60[periods_idx])):\n",
    "            print('year{}_k{}_rate{}_decile{}'.format(upper_year, k, withdraw_rate, i+1))\n",
    "            p_val = {}\n",
    "            w_val = {}\n",
    "            years = bear_year[upper_year][0]\n",
    "            for j, weight in enumerate(portfolio_strategy) :\n",
    "                print('{} Strategy'.format(weight))\n",
    "\n",
    "                for function in functions :\n",
    "                    for year in years :\n",
    "                        print(year)\n",
    "                        res = function(year, weight, k, upper_year, withdraw_rate, df, init_p_vals[i])\n",
    "                        p_val[year] = res[0]\n",
    "                        w_val[year] = res[1]\n",
    "\n",
    "            p_val = pd.DataFrame(p_val)\n",
    "            w_val = pd.DataFrame(w_val)\n",
    "            p_val.to_csv('./../result/income_replacement/p_val/year{}_k{}_decile{}_period{}_const_normal_spending_60%.csv'.format(upper_year, k, i+1, periods))\n",
    "            w_val.to_csv('./../result/income_replacement/w_val/year{}_k{}_decile{}_period{}_const_normal_spending_60%.csv'.format(upper_year, k, i+1, periods))\n",
    "            \n",
    "            "
   ]
  },
  {
   "cell_type": "markdown",
   "metadata": {},
   "source": [
    "# Combine"
   ]
  },
  {
   "cell_type": "code",
   "execution_count": 15,
   "metadata": {},
   "outputs": [],
   "source": [
    "p_val = {}\n",
    "w_val = {}\n",
    "for upper_year in upper_years:\n",
    "    for k in [0.5]:\n",
    "        for rate in income_replacement_rate :\n",
    "            for i, withdraw_rate in enumerate(list(normal_withdrawal_rate[periods_idx])):\n",
    "                p_val['year{}_k{}_decile{}_period{}_{}%'.format(upper_year, k, i+1, periods, rate)] = {}\n",
    "                w_val['year{}_k{}_decile{}_period{}_{}%'.format(upper_year, k, i+1, periods, rate)] = {}\n",
    "            "
   ]
  },
  {
   "cell_type": "code",
   "execution_count": 16,
   "metadata": {},
   "outputs": [],
   "source": [
    "\n",
    "for upper_year in upper_years:\n",
    "    for k in [0.5]:\n",
    "        for i, withdraw_rate in enumerate(list(normal_withdrawal_rate[periods_idx])):\n",
    "            years = bear_year[upper_year][0]\n",
    "            for year in years:\n",
    "                for rate in income_replacement_rate :\n",
    "                    print('year{}_k{}_decile{}_period{}_{}%'.format(upper_year, k, i+1, periods, rate))\n",
    "                    print(year)\n",
    "                    p_val['year{}_k{}_decile{}_period{}_{}%'.format(upper_year, k, i+1, periods, rate)][year] = np.array(pd.read_csv('./../result/income_replacement/p_val/year{}_k{}_decile{}_period{}_const_normal_spending_{}%.csv'.format(upper_year, k, i+1, periods, rate))[str(year)])\n",
    "                    w_val['year{}_k{}_decile{}_period{}_{}%'.format(upper_year, k, i+1, periods, rate)][year] = np.array(pd.read_csv('./../result/income_replacement/w_val/year{}_k{}_decile{}_period{}_const_normal_spending_{}%.csv'.format(upper_year, k, i+1, periods, rate))[str(year)])\n",
    "\n",
    "np.save('./../result/income_replacement/p_val/p_val_year{}_const_normal_spending.npy'.format(upper_year), p_val)\n",
    "np.save('./../result/income_replacement/w_val/w_val_year{}_const_normal_spending.npy'.format(upper_year), w_val)"
   ]
  }
 ],
 "metadata": {
  "kernelspec": {
   "display_name": "hyungjinko",
   "language": "python",
   "name": "hyungjinko"
  },
  "language_info": {
   "codemirror_mode": {
    "name": "ipython",
    "version": 3
   },
   "file_extension": ".py",
   "mimetype": "text/x-python",
   "name": "python",
   "nbconvert_exporter": "python",
   "pygments_lexer": "ipython3",
   "version": "3.8.5"
  }
 },
 "nbformat": 4,
 "nbformat_minor": 4
}
