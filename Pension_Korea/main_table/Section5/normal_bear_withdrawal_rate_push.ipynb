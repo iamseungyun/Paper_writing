{
 "cells": [
  {
   "cell_type": "code",
   "execution_count": 4,
   "metadata": {},
   "outputs": [],
   "source": [
    "import pandas as pd\n",
    "import numpy as np\n",
    "from pandas import Series, DataFrame\n",
    "from datetime import datetime, timedelta\n",
    "from dateutil.relativedelta import relativedelta\n",
    "from matplotlib import pyplot as plt\n",
    "import pickle\n",
    "import import_ipynb\n",
    "import sys\n",
    "sys.path.append('./../../')\n",
    "import Portfolio_value as pv"
   ]
  },
  {
   "cell_type": "code",
   "execution_count": 5,
   "metadata": {},
   "outputs": [],
   "source": [
    "df =  pd.read_csv('./../../data/data.csv')"
   ]
  },
  {
   "cell_type": "code",
   "execution_count": 6,
   "metadata": {},
   "outputs": [],
   "source": [
    "p_val = np.load('./../../result/p_val/p_val_const_delaying.npy', allow_pickle=True)\n",
    "w_val = np.load('./../../result/w_val/w_val_const_delaying.npy', allow_pickle=True)\n",
    "\n",
    "p_val = p_val.reshape(1)\n",
    "p_val = p_val[0]\n",
    "\n",
    "w_val = w_val.reshape(1)\n",
    "w_val = w_val[0]"
   ]
  },
  {
   "cell_type": "code",
   "execution_count": 7,
   "metadata": {},
   "outputs": [],
   "source": [
    "\n",
    "# for upper_year in [15,20,25]:\n",
    "#     for k in [0.0,0.1,0.2,0.3,0.4,0.5,0.6,0.7,0.8,0.9,1.0]:\n",
    "#         for withdraw_rate in [0.04,0.06,0.08,0.10]:\n",
    "#             for year in range(1980,2003-upper_year):\n",
    "             "
   ]
  },
  {
   "cell_type": "code",
   "execution_count": 8,
   "metadata": {},
   "outputs": [],
   "source": [
    "normal_year = np.load('./../../result/year/normal_year.npy', allow_pickle=True).reshape(1)[0]\n",
    "bear_year = np.load('./../../result/year/bear_year.npy', allow_pickle=True).reshape(1)[0]\n",
    "full_year = np.load('./../../result/year/full_year.npy', allow_pickle=True).reshape(1)[0]"
   ]
  },
  {
   "cell_type": "code",
   "execution_count": 9,
   "metadata": {},
   "outputs": [],
   "source": [
    "# with drawal rate 바꿀때 마다 같이 바꿔 줘야 함.\n",
    "\n",
    "upper_years =\n",
    "\n",
    "#0년 딜레이 [20, 25, 30]\n",
    "#5년 딜레이 [15, 20, 25]\n",
    "#10년 딜레이 [10, 15, 20]\n"
   ]
  },
  {
   "cell_type": "code",
   "execution_count": 10,
   "metadata": {},
   "outputs": [],
   "source": [
    "normal_perform = {}\n",
    "bear_perform = {}\n",
    "full_perform = {}\n",
    "for upper_year in upper_years:\n",
    "    normal_perform[upper_year] = {\n",
    "    'dep':[],\n",
    "    'max':[],\n",
    "    'under':[],\n",
    "    'inc':[],\n",
    "    'beq':[],\n",
    "    'total':[]\n",
    "}\n",
    "    bear_perform[upper_year] = {\n",
    "    'dep':[],\n",
    "    'max':[],\n",
    "    'under':[],\n",
    "    'inc':[],\n",
    "    'beq':[],\n",
    "    'total':[]\n",
    "}\n",
    "    \n",
    "    full_perform[upper_year] = {\n",
    "    'dep':[],\n",
    "    'max':[],\n",
    "    'under':[],\n",
    "    'inc':[],\n",
    "    'beq':[],\n",
    "    'total':[]\n",
    "}"
   ]
  },
  {
   "cell_type": "code",
   "execution_count": 11,
   "metadata": {},
   "outputs": [],
   "source": [
    "# ((2070000 - 1101560)*12/1300)/init_wealth\n",
    "# ((2070000 - 945030)*12/1300)/init_wealth\n",
    "# ((2880000 - 1258080)*12/1300)/init_wealth"
   ]
  },
  {
   "cell_type": "code",
   "execution_count": 12,
   "metadata": {},
   "outputs": [],
   "source": [
    "#      30년간 납입 / 35년간 납입 / 40년간 납입\n",
    "# 8 -> 5.1 / 4.7 / 4.3\n",
    "# 6 -> 3 / 2.6 / 2.1\n",
    "# 4 -> 1.3 / 0.9 / 0.5"
   ]
  },
  {
   "cell_type": "code",
   "execution_count": 13,
   "metadata": {},
   "outputs": [
    {
     "data": {
      "text/plain": [
       "{10: [[1980,\n",
       "   1981,\n",
       "   1982,\n",
       "   1983,\n",
       "   1984,\n",
       "   1985,\n",
       "   1986,\n",
       "   1987,\n",
       "   2004,\n",
       "   2005,\n",
       "   2006,\n",
       "   2010,\n",
       "   2011,\n",
       "   2012]],\n",
       " 15: [[1980, 1981, 1982, 1983, 1984, 1985, 1986, 1987, 2004, 2005, 2006]],\n",
       " 20: [[1980, 1981, 1982, 1983, 1984, 1985, 1986, 1987]],\n",
       " 25: [[1980, 1981, 1982, 1983, 1984, 1985, 1986, 1987]],\n",
       " 30: [[1980, 1981, 1982, 1983, 1984, 1985, 1986, 1987]]}"
      ]
     },
     "execution_count": 13,
     "metadata": {},
     "output_type": "execute_result"
    }
   ],
   "source": [
    "normal_year"
   ]
  },
  {
   "cell_type": "markdown",
   "metadata": {},
   "source": [
    "# 10-year delayed"
   ]
  },
  {
   "cell_type": "code",
   "execution_count": 10,
   "metadata": {
    "scrolled": true
   },
   "outputs": [
    {
     "name": "stdout",
     "output_type": "stream",
     "text": [
      "upper_year: 10\n",
      "withdraw_rates: 0.043\n",
      "full dep prob: [0, 0, 0, 0, 0, 0, 0, 0, 0, 0, 0, 0, 0, 0, 0, 0, 0, 0, 0, 0, 0, 0, 0, 0, 0, 0, 0, 0, 0, 0, 0, 0, 0]\n",
      "upper_year: 15\n",
      "withdraw_rates: 0.043\n",
      "full dep prob: [0, 0, 0, 0, 0, 0, 0, 0, 0, 0, 0, 0, 0, 0, 0, 0, 0, 0, 0, 0, 0, 0, 0, 0, 0, 0, 0, 0]\n",
      "upper_year: 20\n",
      "withdraw_rates: 0.043\n",
      "full dep prob: [0, 0, 0, 0, 0, 0, 0, 0, 100, 100, 100, 0, 0, 0, 100, 100, 0, 0, 0, 0, 0, 0, 0]\n"
     ]
    }
   ],
   "source": [
    "init_wealth = 350000\n",
    "k = 0.5\n",
    "# 60대 가구의 평균 소득 4097만원/연 -> 341만/월 -> 945030(0년)/1101560(5년)/1258080(10년)\n",
    "withdraw_rate = 0.043#0.043 # 0.021\n",
    "\n",
    "for upper_year in upper_years:\n",
    "    for years in normal_year[upper_year]:\n",
    "        for year in years:\n",
    "            res = pv.get_metric(year, k, upper_year, withdraw_rate, df, init_wealth, p_val, w_val)\n",
    "            if res[2] < upper_year*12 : #고갈 시점이 upper_year보다 작으면 (이미 고갈이 되면)\n",
    "                normal_perform[upper_year]['dep'].append(100)\n",
    "            elif res[2] >= upper_year*12: # 고갈이 안되면\n",
    "                normal_perform[upper_year]['dep'].append(0)\n",
    "            normal_perform[upper_year]['max'].append(res[3])\n",
    "            normal_perform[upper_year]['under'].append(res[4])\n",
    "            normal_perform[upper_year]['inc'].append(res[1])\n",
    "            normal_perform[upper_year]['beq'].append(res[0])\n",
    "            normal_perform[upper_year]['total'].append(res[1] + res[0])\n",
    "\n",
    "    for years in bear_year[upper_year]:\n",
    "        for year in years:\n",
    "            res = pv.get_metric(year, k, upper_year, withdraw_rate, df, init_wealth, p_val, w_val)\n",
    "            if res[2] < upper_year*12 : #고갈 시점이 upper_year보다 작으면 (이미 고갈이 되면)\n",
    "                bear_perform[upper_year]['dep'].append(100)\n",
    "            elif res[2] >= upper_year*12: # 고갈이 안되면\n",
    "                bear_perform[upper_year]['dep'].append(0)\n",
    "            bear_perform[upper_year]['max'].append(res[3])\n",
    "            bear_perform[upper_year]['under'].append(res[4])\n",
    "            bear_perform[upper_year]['inc'].append(res[1])\n",
    "            bear_perform[upper_year]['beq'].append(res[0])\n",
    "            bear_perform[upper_year]['total'].append(res[1] + res[0])\n",
    "\n",
    "    for years in full_year[upper_year]:\n",
    "        for year in years:\n",
    "            res = pv.get_metric(year, k, upper_year, withdraw_rate, df, init_wealth, p_val, w_val)\n",
    "            if res[2] < upper_year*12 : #고갈 시점이 upper_year보다 작으면 (이미 고갈이 되면)\n",
    "                full_perform[upper_year]['dep'].append(100)\n",
    "            elif res[2] >= upper_year*12: # 고갈이 안되면\n",
    "                full_perform[upper_year]['dep'].append(0)\n",
    "            full_perform[upper_year]['max'].append(res[3])\n",
    "            full_perform[upper_year]['under'].append(res[4])\n",
    "            full_perform[upper_year]['inc'].append(res[1])\n",
    "            full_perform[upper_year]['beq'].append(res[0])\n",
    "            full_perform[upper_year]['total'].append(res[1] + res[0])\n",
    "    \n",
    "    print('upper_year:', upper_year)\n",
    "    print('withdraw_rates:', withdraw_rate)\n",
    "    print('full dep prob:', full_perform[upper_year]['dep'])"
   ]
  },
  {
   "cell_type": "markdown",
   "metadata": {},
   "source": [
    "# 5-year delayed"
   ]
  },
  {
   "cell_type": "code",
   "execution_count": 8,
   "metadata": {},
   "outputs": [
    {
     "name": "stdout",
     "output_type": "stream",
     "text": [
      "upper_year: 15\n",
      "withdraw_rates: 0.047\n",
      "full dep prob: [0, 0, 0, 0, 0, 0, 0, 0, 0, 0, 100, 0, 0, 0, 0, 0, 0, 0, 0, 0, 0, 0, 0, 0, 0, 0, 0, 0]\n",
      "upper_year: 20\n",
      "withdraw_rates: 0.047\n",
      "full dep prob: [0, 0, 0, 0, 0, 0, 0, 0, 100, 100, 100, 100, 100, 100, 100, 100, 100, 0, 0, 0, 0, 0, 0]\n",
      "upper_year: 25\n",
      "withdraw_rates: 0.047\n",
      "full dep prob: [0, 0, 0, 0, 0, 0, 0, 100, 100, 100, 100, 100, 100, 100, 100, 100, 100, 100]\n"
     ]
    }
   ],
   "source": [
    "init_wealth = 350000\n",
    "k = 0.5\n",
    "# 60대 가구의 평균 소득 4097만원/연 -> 341만/월 -> 945030(0년)/1101560(5년)/1258080(10년)\n",
    "withdraw_rate = 0.047#0.047 # \n",
    "\n",
    "\n",
    "for upper_year in upper_years:\n",
    "    for years in normal_year[upper_year]:\n",
    "        for year in years:\n",
    "            res = pv.get_metric(year, k, upper_year, withdraw_rate, df, init_wealth, p_val, w_val)\n",
    "            if res[2] < upper_year*12 : #고갈 시점이 upper_year보다 작으면 (이미 고갈이 되면)\n",
    "                normal_perform[upper_year]['dep'].append(100)\n",
    "            elif res[2] >= upper_year*12: # 고갈이 안되면\n",
    "                normal_perform[upper_year]['dep'].append(0)\n",
    "            normal_perform[upper_year]['max'].append(res[3])\n",
    "            normal_perform[upper_year]['under'].append(res[4])\n",
    "            normal_perform[upper_year]['inc'].append(res[1])\n",
    "            normal_perform[upper_year]['beq'].append(res[0])\n",
    "            normal_perform[upper_year]['total'].append(res[1] + res[0])\n",
    "\n",
    "    for years in bear_year[upper_year]:\n",
    "        for year in years:\n",
    "            res = pv.get_metric(year, k, upper_year, withdraw_rate, df, init_wealth, p_val, w_val)\n",
    "            if res[2] < upper_year*12 : #고갈 시점이 upper_year보다 작으면 (이미 고갈이 되면)\n",
    "                bear_perform[upper_year]['dep'].append(100)\n",
    "            elif res[2] >= upper_year*12: # 고갈이 안되면\n",
    "                bear_perform[upper_year]['dep'].append(0)\n",
    "            bear_perform[upper_year]['max'].append(res[3])\n",
    "            bear_perform[upper_year]['under'].append(res[4])\n",
    "            bear_perform[upper_year]['inc'].append(res[1])\n",
    "            bear_perform[upper_year]['beq'].append(res[0])\n",
    "            bear_perform[upper_year]['total'].append(res[1] + res[0])\n",
    "\n",
    "    for years in full_year[upper_year]:\n",
    "        for year in years:\n",
    "            res = pv.get_metric(year, k, upper_year, withdraw_rate, df, init_wealth, p_val, w_val)\n",
    "            if res[2] < upper_year*12 : #고갈 시점이 upper_year보다 작으면 (이미 고갈이 되면)\n",
    "                full_perform[upper_year]['dep'].append(100)\n",
    "            elif res[2] >= upper_year*12: # 고갈이 안되면\n",
    "                full_perform[upper_year]['dep'].append(0)\n",
    "            full_perform[upper_year]['max'].append(res[3])\n",
    "            full_perform[upper_year]['under'].append(res[4])\n",
    "            full_perform[upper_year]['inc'].append(res[1])\n",
    "            full_perform[upper_year]['beq'].append(res[0])\n",
    "            full_perform[upper_year]['total'].append(res[1] + res[0])\n",
    "    \n",
    "    print('upper_year:', upper_year)\n",
    "    print('withdraw_rates:', withdraw_rate)\n",
    "    print('full dep prob:', full_perform[upper_year]['dep'])"
   ]
  },
  {
   "cell_type": "markdown",
   "metadata": {},
   "source": [
    "# 0-year delayed"
   ]
  },
  {
   "cell_type": "code",
   "execution_count": 12,
   "metadata": {},
   "outputs": [
    {
     "name": "stdout",
     "output_type": "stream",
     "text": [
      "upper_year: 20\n",
      "withdraw_rates: 0.03\n",
      "full dep prob: [0, 0, 0, 0, 0, 0, 0, 0, 0, 0, 0, 0, 0, 0, 0, 0, 0, 0, 0, 0, 0, 0, 0]\n",
      "upper_year: 25\n",
      "withdraw_rates: 0.03\n",
      "full dep prob: [0, 0, 0, 0, 0, 0, 0, 0, 0, 100, 100, 0, 0, 0, 0, 0, 0, 0]\n",
      "upper_year: 30\n",
      "withdraw_rates: 0.03\n",
      "full dep prob: [0, 0, 0, 0, 0, 0, 0, 0, 100, 100, 100, 0, 0]\n"
     ]
    }
   ],
   "source": [
    "init_wealth = 350000\n",
    "k = 0.5\n",
    "# 60대 가구의 평균 소득 4097만원/연 -> 341만/월 -> 945030(0년)/1101560(5년)/1258080(10년)\n",
    "withdraw_rate = 0.03#0.051 # \n",
    "\n",
    "for upper_year in upper_years:\n",
    "    for years in normal_year[upper_year]:\n",
    "        for year in years:\n",
    "            res = pv.get_metric(year, k, upper_year, withdraw_rate, df, init_wealth, p_val, w_val)\n",
    "            if res[2] < upper_year*12 : #고갈 시점이 upper_year보다 작으면 (이미 고갈이 되면)\n",
    "                normal_perform[upper_year]['dep'].append(100)\n",
    "            elif res[2] >= upper_year*12: # 고갈이 안되면\n",
    "                normal_perform[upper_year]['dep'].append(0)\n",
    "            normal_perform[upper_year]['max'].append(res[3])\n",
    "            normal_perform[upper_year]['under'].append(res[4])\n",
    "            normal_perform[upper_year]['inc'].append(res[1])\n",
    "            normal_perform[upper_year]['beq'].append(res[0])\n",
    "            normal_perform[upper_year]['total'].append(res[1] + res[0])\n",
    "\n",
    "    for years in bear_year[upper_year]:\n",
    "        for year in years:\n",
    "            res = pv.get_metric(year, k, upper_year, withdraw_rate, df, init_wealth, p_val, w_val)\n",
    "            if res[2] < upper_year*12 : #고갈 시점이 upper_year보다 작으면 (이미 고갈이 되면)\n",
    "                bear_perform[upper_year]['dep'].append(100)\n",
    "            elif res[2] >= upper_year*12: # 고갈이 안되면\n",
    "                bear_perform[upper_year]['dep'].append(0)\n",
    "            bear_perform[upper_year]['max'].append(res[3])\n",
    "            bear_perform[upper_year]['under'].append(res[4])\n",
    "            bear_perform[upper_year]['inc'].append(res[1])\n",
    "            bear_perform[upper_year]['beq'].append(res[0])\n",
    "            bear_perform[upper_year]['total'].append(res[1] + res[0])\n",
    "\n",
    "    for years in full_year[upper_year]:\n",
    "        for year in years:\n",
    "            res = pv.get_metric(year, k, upper_year, withdraw_rate, df, init_wealth, p_val, w_val)\n",
    "            if res[2] < upper_year*12 : #고갈 시점이 upper_year보다 작으면 (이미 고갈이 되면)\n",
    "                full_perform[upper_year]['dep'].append(100)\n",
    "            elif res[2] >= upper_year*12: # 고갈이 안되면\n",
    "                full_perform[upper_year]['dep'].append(0)\n",
    "            full_perform[upper_year]['max'].append(res[3])\n",
    "            full_perform[upper_year]['under'].append(res[4])\n",
    "            full_perform[upper_year]['inc'].append(res[1])\n",
    "            full_perform[upper_year]['beq'].append(res[0])\n",
    "            full_perform[upper_year]['total'].append(res[1] + res[0])\n",
    "    \n",
    "    print('upper_year:', upper_year)\n",
    "    print('withdraw_rates:', withdraw_rate)\n",
    "    print('full dep prob:', full_perform[upper_year]['dep'])"
   ]
  },
  {
   "cell_type": "code",
   "execution_count": 9,
   "metadata": {},
   "outputs": [],
   "source": [
    "# Define all dictionaries and indices we want to calculate mean for\n",
    "dicts = [normal_perform, bear_perform, full_perform]\n",
    "indices = upper_years\n",
    "\n",
    "# Use list comprehension to compute all means at once\n",
    "# Store results in lists\n",
    "a = [np.round(np.mean(d[i]['dep']),1) for i in indices for d in dicts]\n",
    "b = [np.round(np.mean(d[i]['max']),1) for i in indices for d in dicts]\n",
    "c = [np.round(np.mean(d[i]['under']),1) for i in indices for d in dicts]\n",
    "d = [np.round(np.mean(d[i]['inc']),1) for i in indices for d in dicts]\n",
    "e = [np.round(np.mean(d[i]['beq']),1) for i in indices for d in dicts]\n",
    "f = [np.round(np.mean(d[i]['total']),1) for i in indices for d in dicts]\n",
    "\n",
    "# If you need to access the results separately, you can do so by indexing the lists:\n",
    "# For example, a1 corresponds to a_results[0], a2 corresponds to a_results[1], etc."
   ]
  },
  {
   "cell_type": "code",
   "execution_count": 10,
   "metadata": {},
   "outputs": [
    {
     "name": "stdout",
     "output_type": "stream",
     "text": [
      "Depletion Prob. (\\%) & & 0.0 & 5.9 & 3.6 & & 0.0 & 60.0 & 39.1 & & 12.5 & 100.0 & 61.1\n",
      "Max. decline (\\%) & & -41.5 & -72.4 & -60.2 & & -57.9 & -90.1 & -78.9 & & -68.1 & -100.0 & -85.8\n",
      "Underwater duration (month) & & 36.7 & 137.4 & 97.9 & & 19.1 & 205.8 & 140.9 & & 33.2 & 278.8 & 169.7\n",
      "Total withdrawal (\\%) & & 65.8 & 65.8 & 65.8 & & 85.6 & 80.9 & 82.5 & & 104.4 & 79.3 & 90.5\n",
      "Bequest (\\%) & & 68.1 & 27.6 & 43.5 & & 48.5 & 10.5 & 23.7 & & 35.5 & 0.0 & 15.8\n",
      "Total withdrawal + Bequest (\\%) & & 133.8 & 93.3 & 109.3 & & 134.1 & 91.4 & 106.2 & & 139.9 & 79.3 & 106.2\n"
     ]
    }
   ],
   "source": [
    "\n",
    "print('Depletion Prob. (\\%) & & {} & {} & {} & & {} & {} & {} & & {} & {} & {}'.format(a[0], a[1], a[2], a[3], a[4], a[5], a[6], a[7], a[8]))\n",
    "print('Max. decline (\\%) & & {} & {} & {} & & {} & {} & {} & & {} & {} & {}'.format(b[0], b[1], b[2], b[3], b[4], b[5], b[6], b[7], b[8]))\n",
    "print('Underwater duration (month) & & {} & {} & {} & & {} & {} & {} & & {} & {} & {}'.format(c[0], c[1], c[2], c[3], c[4], c[5], c[6], c[7], c[8]))\n",
    "print('Total withdrawal (\\%) & & {} & {} & {} & & {} & {} & {} & & {} & {} & {}'.format(d[0], d[1], d[2], d[3], d[4], d[5], d[6], d[7], d[8]))\n",
    "print('Bequest (\\%) & & {} & {} & {} & & {} & {} & {} & & {} & {} & {}'.format(e[0], e[1], e[2], e[3], e[4], e[5], e[6], e[7], e[8]))\n",
    "print('Total withdrawal + Bequest (\\%) & & {} & {} & {} & & {} & {} & {} & & {} & {} & {}'.format(f[0], f[1], f[2], f[3], f[4], f[5], f[6], f[7], f[8]))\n",
    "\n",
    "\n",
    "\n",
    "\n"
   ]
  },
  {
   "cell_type": "code",
   "execution_count": null,
   "metadata": {},
   "outputs": [],
   "source": []
  }
 ],
 "metadata": {
  "kernelspec": {
   "display_name": "hyungjinko",
   "language": "python",
   "name": "hyungjinko"
  },
  "language_info": {
   "codemirror_mode": {
    "name": "ipython",
    "version": 3
   },
   "file_extension": ".py",
   "mimetype": "text/x-python",
   "name": "python",
   "nbconvert_exporter": "python",
   "pygments_lexer": "ipython3",
   "version": "3.8.5"
  }
 },
 "nbformat": 4,
 "nbformat_minor": 4
}
