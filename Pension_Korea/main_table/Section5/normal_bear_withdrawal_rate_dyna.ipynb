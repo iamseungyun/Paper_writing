{
 "cells": [
  {
   "cell_type": "code",
   "execution_count": 1,
   "metadata": {},
   "outputs": [],
   "source": [
    "import pandas as pd\n",
    "import numpy as np\n",
    "from pandas import Series, DataFrame\n",
    "from datetime import datetime, timedelta\n",
    "from dateutil.relativedelta import relativedelta\n",
    "from matplotlib import pyplot as plt\n",
    "import pickle\n",
    "import import_ipynb\n",
    "import sys\n",
    "sys.path.append('./../')\n",
    "import Portfolio_value as pv"
   ]
  },
  {
   "cell_type": "code",
   "execution_count": 2,
   "metadata": {},
   "outputs": [],
   "source": [
    "df =  pd.read_csv('./../data/data.csv')"
   ]
  },
  {
   "cell_type": "code",
   "execution_count": 3,
   "metadata": {},
   "outputs": [],
   "source": [
    "p_val = np.load('./../result/p_val/p_val_dyna.npy', allow_pickle=True)\n",
    "w_val = np.load('./../result/w_val/w_val_dyna.npy', allow_pickle=True)\n",
    "\n",
    "p_val = p_val.reshape(1)\n",
    "p_val = p_val[0]\n",
    "\n",
    "w_val = w_val.reshape(1)\n",
    "w_val = w_val[0]"
   ]
  },
  {
   "cell_type": "code",
   "execution_count": 4,
   "metadata": {},
   "outputs": [],
   "source": [
    "\n",
    "# for upper_year in [15,20,25]:\n",
    "#     for k in [0.0,0.1,0.2,0.3,0.4,0.5,0.6,0.7,0.8,0.9,1.0]:\n",
    "#         for withdraw_rate in [0.04,0.06,0.08,0.10]:\n",
    "#             for year in range(1980,2003-upper_year):\n",
    "             "
   ]
  },
  {
   "cell_type": "code",
   "execution_count": 5,
   "metadata": {},
   "outputs": [],
   "source": [
    "normal_year = np.load('./../result/year/normal_year.npy', allow_pickle=True).reshape(1)[0]\n",
    "bear_year = np.load('./../result/year/bear_year.npy', allow_pickle=True).reshape(1)[0]\n",
    "full_year = np.load('./../result/year/full_year.npy', allow_pickle=True).reshape(1)[0]"
   ]
  },
  {
   "cell_type": "code",
   "execution_count": 6,
   "metadata": {},
   "outputs": [],
   "source": [
    "upper_years = [20, 25, 30]"
   ]
  },
  {
   "cell_type": "code",
   "execution_count": 7,
   "metadata": {},
   "outputs": [],
   "source": [
    "normal_perform = {}\n",
    "bear_perform = {}\n",
    "full_perform = {}\n",
    "for upper_year in upper_years:\n",
    "    normal_perform[upper_year] = {\n",
    "    'dep':[],\n",
    "    'max':[],\n",
    "    'under':[],\n",
    "    'inc':[],\n",
    "    'beq':[],\n",
    "    'total':[]\n",
    "}\n",
    "    bear_perform[upper_year] = {\n",
    "    'dep':[],\n",
    "    'max':[],\n",
    "    'under':[],\n",
    "    'inc':[],\n",
    "    'beq':[],\n",
    "    'total':[]\n",
    "}\n",
    "    \n",
    "    full_perform[upper_year] = {\n",
    "    'dep':[],\n",
    "    'max':[],\n",
    "    'under':[],\n",
    "    'inc':[],\n",
    "    'beq':[],\n",
    "    'total':[]\n",
    "}"
   ]
  },
  {
   "cell_type": "code",
   "execution_count": 8,
   "metadata": {
    "scrolled": true
   },
   "outputs": [],
   "source": [
    "init_wealth = 350000\n",
    "k = 0.5\n",
    "withdraw_rate = 0.08\n",
    "\n",
    "for upper_year in upper_years:\n",
    "    for years in normal_year[upper_year] :\n",
    "        for year in years:\n",
    "            res = pv.get_metric(year, k, upper_year, withdraw_rate, df, init_wealth, p_val, w_val)\n",
    "            if res[2] < upper_year*12 : #고갈 시점이 upper_year보다 작으면 (이미 고갈이 되면)\n",
    "                normal_perform[upper_year]['dep'].append(100)\n",
    "            elif res[2] >= upper_year*12: # 고갈이 안되면\n",
    "                normal_perform[upper_year]['dep'].append(0)\n",
    "            normal_perform[upper_year]['max'].append(res[3])\n",
    "            normal_perform[upper_year]['under'].append(res[4])\n",
    "            normal_perform[upper_year]['inc'].append(res[1])\n",
    "            normal_perform[upper_year]['beq'].append(res[0])\n",
    "            normal_perform[upper_year]['total'].append(res[1] + res[0])\n",
    "\n",
    "    for years in bear_year[upper_year]:\n",
    "        for year in years:\n",
    "            res = pv.get_metric(year, k, upper_year, withdraw_rate, df, init_wealth, p_val, w_val)\n",
    "            if res[2] < upper_year*12 : #고갈 시점이 upper_year보다 작으면 (이미 고갈이 되면)\n",
    "                bear_perform[upper_year]['dep'].append(100)\n",
    "            elif res[2] >= upper_year*12: # 고갈이 안되면\n",
    "                bear_perform[upper_year]['dep'].append(0)\n",
    "            bear_perform[upper_year]['max'].append(res[3])\n",
    "            bear_perform[upper_year]['under'].append(res[4])\n",
    "            bear_perform[upper_year]['inc'].append(res[1])\n",
    "            bear_perform[upper_year]['beq'].append(res[0])\n",
    "            bear_perform[upper_year]['total'].append(res[1] + res[0])\n",
    "\n",
    "    for years in full_year[upper_year]:\n",
    "        for year in years:\n",
    "            res = pv.get_metric(year, k, upper_year, withdraw_rate, df, init_wealth, p_val, w_val)\n",
    "            if res[2] < upper_year*12 : #고갈 시점이 upper_year보다 작으면 (이미 고갈이 되면)\n",
    "                full_perform[upper_year]['dep'].append(100)\n",
    "            elif res[2] >= upper_year*12: # 고갈이 안되면\n",
    "                full_perform[upper_year]['dep'].append(0)\n",
    "            full_perform[upper_year]['max'].append(res[3])\n",
    "            full_perform[upper_year]['under'].append(res[4])\n",
    "            full_perform[upper_year]['inc'].append(res[1])\n",
    "            full_perform[upper_year]['beq'].append(res[0])\n",
    "            full_perform[upper_year]['total'].append(res[1] + res[0])\n"
   ]
  },
  {
   "cell_type": "code",
   "execution_count": 9,
   "metadata": {},
   "outputs": [],
   "source": [
    "# Define all dictionaries and indices we want to calculate mean for\n",
    "dicts = [normal_perform, bear_perform, full_perform]\n",
    "indices = upper_years\n",
    "\n",
    "# Use list comprehension to compute all means at once\n",
    "# Store results in lists\n",
    "a = [np.round(np.mean(d[i]['dep']),1) for i in indices for d in dicts]\n",
    "b = [np.round(np.mean(d[i]['max']),1) for i in indices for d in dicts]\n",
    "c = [np.round(np.mean(d[i]['under']),1) for i in indices for d in dicts]\n",
    "d = [np.round(np.mean(d[i]['inc']),1) for i in indices for d in dicts]\n",
    "e = [np.round(np.mean(d[i]['beq']),1) for i in indices for d in dicts]\n",
    "f = [np.round(np.mean(d[i]['total']),1) for i in indices for d in dicts]\n",
    "\n",
    "# If you need to access the results separately, you can do so by indexing the lists:\n",
    "# For example, a1 corresponds to a_results[0], a2 corresponds to a_results[1], etc."
   ]
  },
  {
   "cell_type": "code",
   "execution_count": 10,
   "metadata": {},
   "outputs": [
    {
     "name": "stdout",
     "output_type": "stream",
     "text": [
      "Depletion Prob. (\\%) & & 12.5 & 80.0 & 56.5 & & 50.0 & 100.0 & 77.8 & & 100.0 & 100.0 & 100.0\n",
      "Max. decline (\\%) & & -84.8 & -99.2 & -94.2 & & -96.2 & -100.0 & -98.3 & & -100.0 & -100.0 & -100.0\n",
      "Underwater duration (month) & & 89.2 & 226.7 & 178.9 & & 149.2 & 286.8 & 225.7 & & 209.2 & 345.4 & 261.6\n",
      "Total withdrawal (\\%) & & 119.6 & 89.9 & 100.2 & & 134.1 & 80.9 & 104.5 & & 139.0 & 82.4 & 117.2\n",
      "Bequest (\\%) & & 16.1 & 0.9 & 6.2 & & 3.9 & 0.0 & 1.7 & & 0.0 & 0.0 & 0.0\n",
      "Total withdrawal + Bequest (\\%) & & 135.7 & 90.8 & 106.4 & & 138.0 & 80.9 & 106.3 & & 139.0 & 82.4 & 117.2\n"
     ]
    }
   ],
   "source": [
    "\n",
    "print('Depletion Prob. (\\%) & & {} & {} & {} & & {} & {} & {} & & {} & {} & {}'.format(a[0], a[1], a[2], a[3], a[4], a[5], a[6], a[7], a[8]))\n",
    "print('Max. decline (\\%) & & {} & {} & {} & & {} & {} & {} & & {} & {} & {}'.format(b[0], b[1], b[2], b[3], b[4], b[5], b[6], b[7], b[8]))\n",
    "print('Underwater duration (month) & & {} & {} & {} & & {} & {} & {} & & {} & {} & {}'.format(c[0], c[1], c[2], c[3], c[4], c[5], c[6], c[7], c[8]))\n",
    "print('Total withdrawal (\\%) & & {} & {} & {} & & {} & {} & {} & & {} & {} & {}'.format(d[0], d[1], d[2], d[3], d[4], d[5], d[6], d[7], d[8]))\n",
    "print('Bequest (\\%) & & {} & {} & {} & & {} & {} & {} & & {} & {} & {}'.format(e[0], e[1], e[2], e[3], e[4], e[5], e[6], e[7], e[8]))\n",
    "print('Total withdrawal + Bequest (\\%) & & {} & {} & {} & & {} & {} & {} & & {} & {} & {}'.format(f[0], f[1], f[2], f[3], f[4], f[5], f[6], f[7], f[8]))\n",
    "\n",
    "\n",
    "\n",
    "\n"
   ]
  },
  {
   "cell_type": "markdown",
   "metadata": {},
   "source": [
    "# Result"
   ]
  },
  {
   "cell_type": "code",
   "execution_count": 11,
   "metadata": {},
   "outputs": [],
   "source": [
    "# 매트릭 참고\n",
    "\n",
    "# https://papers.ssrn.com/sol3/papers.cfm?abstract_id=2544651\n",
    "# https://investmentsandwealth.org/getattachment/90eb6376-d090-4904-9f82-786553ff5ed9/RMJ023-OptimalWithdrawalStrategy.pdf\n",
    "# https://www.betterfinancialeducation.com/sites/larryfrank.us1.advisor.ws/files/documents/apr09_frank_and_blanchett.pdf\n",
    "# https://www.tandfonline.com/doi/epdf/10.2469/faj.v61.n6.2776?needAccess=true&role=button"
   ]
  }
 ],
 "metadata": {
  "kernelspec": {
   "display_name": "hyungjinko",
   "language": "python",
   "name": "hyungjinko"
  },
  "language_info": {
   "codemirror_mode": {
    "name": "ipython",
    "version": 3
   },
   "file_extension": ".py",
   "mimetype": "text/x-python",
   "name": "python",
   "nbconvert_exporter": "python",
   "pygments_lexer": "ipython3",
   "version": "3.8.5"
  }
 },
 "nbformat": 4,
 "nbformat_minor": 4
}
