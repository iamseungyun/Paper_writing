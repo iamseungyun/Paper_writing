{
 "cells": [
  {
   "cell_type": "code",
   "execution_count": 2,
   "metadata": {},
   "outputs": [],
   "source": [
    "import pandas as pd\n",
    "import numpy as np"
   ]
  },
  {
   "cell_type": "code",
   "execution_count": 3,
   "metadata": {},
   "outputs": [],
   "source": [
    "dt = pd.read_csv('./data.csv')\n",
    "dt = dt.set_index('Date')\n",
    "\n"
   ]
  },
  {
   "cell_type": "code",
   "execution_count": 4,
   "metadata": {},
   "outputs": [
    {
     "data": {
      "text/html": [
       "<div>\n",
       "<style scoped>\n",
       "    .dataframe tbody tr th:only-of-type {\n",
       "        vertical-align: middle;\n",
       "    }\n",
       "\n",
       "    .dataframe tbody tr th {\n",
       "        vertical-align: top;\n",
       "    }\n",
       "\n",
       "    .dataframe thead th {\n",
       "        text-align: right;\n",
       "    }\n",
       "</style>\n",
       "<table border=\"1\" class=\"dataframe\">\n",
       "  <thead>\n",
       "    <tr style=\"text-align: right;\">\n",
       "      <th></th>\n",
       "      <th>Mkt</th>\n",
       "      <th>RF</th>\n",
       "      <th>CPI</th>\n",
       "    </tr>\n",
       "    <tr>\n",
       "      <th>Date</th>\n",
       "      <th></th>\n",
       "      <th></th>\n",
       "      <th></th>\n",
       "    </tr>\n",
       "  </thead>\n",
       "  <tbody>\n",
       "    <tr>\n",
       "      <th>1980-01-01</th>\n",
       "      <td>0.000000</td>\n",
       "      <td>0.017500</td>\n",
       "      <td>19.362599</td>\n",
       "    </tr>\n",
       "    <tr>\n",
       "      <th>1980-02-01</th>\n",
       "      <td>-0.020513</td>\n",
       "      <td>0.017500</td>\n",
       "      <td>20.202078</td>\n",
       "    </tr>\n",
       "    <tr>\n",
       "      <th>1980-03-01</th>\n",
       "      <td>0.012073</td>\n",
       "      <td>0.017500</td>\n",
       "      <td>20.953681</td>\n",
       "    </tr>\n",
       "    <tr>\n",
       "      <th>1980-04-01</th>\n",
       "      <td>0.100405</td>\n",
       "      <td>0.017500</td>\n",
       "      <td>21.108129</td>\n",
       "    </tr>\n",
       "    <tr>\n",
       "      <th>1980-05-01</th>\n",
       "      <td>-0.003452</td>\n",
       "      <td>0.017500</td>\n",
       "      <td>21.771191</td>\n",
       "    </tr>\n",
       "    <tr>\n",
       "      <th>...</th>\n",
       "      <td>...</td>\n",
       "      <td>...</td>\n",
       "      <td>...</td>\n",
       "    </tr>\n",
       "    <tr>\n",
       "      <th>2022-08-01</th>\n",
       "      <td>0.008348</td>\n",
       "      <td>0.001042</td>\n",
       "      <td>114.504481</td>\n",
       "    </tr>\n",
       "    <tr>\n",
       "      <th>2022-09-01</th>\n",
       "      <td>-0.137030</td>\n",
       "      <td>0.001042</td>\n",
       "      <td>114.831275</td>\n",
       "    </tr>\n",
       "    <tr>\n",
       "      <th>2022-10-01</th>\n",
       "      <td>0.062109</td>\n",
       "      <td>0.001250</td>\n",
       "      <td>115.126444</td>\n",
       "    </tr>\n",
       "    <tr>\n",
       "      <th>2022-11-01</th>\n",
       "      <td>0.075115</td>\n",
       "      <td>0.001458</td>\n",
       "      <td>115.010485</td>\n",
       "    </tr>\n",
       "    <tr>\n",
       "      <th>2022-12-01</th>\n",
       "      <td>-0.100374</td>\n",
       "      <td>0.001458</td>\n",
       "      <td>115.200236</td>\n",
       "    </tr>\n",
       "  </tbody>\n",
       "</table>\n",
       "<p>516 rows × 3 columns</p>\n",
       "</div>"
      ],
      "text/plain": [
       "                 Mkt        RF         CPI\n",
       "Date                                      \n",
       "1980-01-01  0.000000  0.017500   19.362599\n",
       "1980-02-01 -0.020513  0.017500   20.202078\n",
       "1980-03-01  0.012073  0.017500   20.953681\n",
       "1980-04-01  0.100405  0.017500   21.108129\n",
       "1980-05-01 -0.003452  0.017500   21.771191\n",
       "...              ...       ...         ...\n",
       "2022-08-01  0.008348  0.001042  114.504481\n",
       "2022-09-01 -0.137030  0.001042  114.831275\n",
       "2022-10-01  0.062109  0.001250  115.126444\n",
       "2022-11-01  0.075115  0.001458  115.010485\n",
       "2022-12-01 -0.100374  0.001458  115.200236\n",
       "\n",
       "[516 rows x 3 columns]"
      ]
     },
     "execution_count": 4,
     "metadata": {},
     "output_type": "execute_result"
    }
   ],
   "source": [
    "dt"
   ]
  },
  {
   "cell_type": "code",
   "execution_count": 5,
   "metadata": {},
   "outputs": [
    {
     "data": {
      "text/plain": [
       "Mkt     0.005921\n",
       "RF      0.003339\n",
       "CPI    68.261022\n",
       "dtype: float64"
      ]
     },
     "execution_count": 5,
     "metadata": {},
     "output_type": "execute_result"
    }
   ],
   "source": [
    "dt.mean()"
   ]
  },
  {
   "cell_type": "code",
   "execution_count": 6,
   "metadata": {},
   "outputs": [
    {
     "data": {
      "text/plain": [
       "Mkt     0.250336\n",
       "RF      0.010900\n",
       "CPI    96.350761\n",
       "dtype: float64"
      ]
     },
     "execution_count": 6,
     "metadata": {},
     "output_type": "execute_result"
    }
   ],
   "source": [
    "dt.std() * np.sqrt(12)"
   ]
  },
  {
   "cell_type": "code",
   "execution_count": 7,
   "metadata": {},
   "outputs": [
    {
     "data": {
      "text/plain": [
       "Mkt    0.175937\n",
       "RF     2.204181\n",
       "CPI   -0.073430\n",
       "dtype: float64"
      ]
     },
     "execution_count": 7,
     "metadata": {},
     "output_type": "execute_result"
    }
   ],
   "source": [
    "dt.skew()"
   ]
  },
  {
   "cell_type": "code",
   "execution_count": 8,
   "metadata": {},
   "outputs": [
    {
     "data": {
      "text/plain": [
       "Mkt    2.768869\n",
       "RF     6.409616\n",
       "CPI   -1.358274\n",
       "dtype: float64"
      ]
     },
     "execution_count": 8,
     "metadata": {},
     "output_type": "execute_result"
    }
   ],
   "source": [
    "dt.kurtosis()"
   ]
  },
  {
   "cell_type": "code",
   "execution_count": 19,
   "metadata": {},
   "outputs": [
    {
     "data": {
      "text/html": [
       "<div>\n",
       "<style scoped>\n",
       "    .dataframe tbody tr th:only-of-type {\n",
       "        vertical-align: middle;\n",
       "    }\n",
       "\n",
       "    .dataframe tbody tr th {\n",
       "        vertical-align: top;\n",
       "    }\n",
       "\n",
       "    .dataframe thead th {\n",
       "        text-align: right;\n",
       "    }\n",
       "</style>\n",
       "<table border=\"1\" class=\"dataframe\">\n",
       "  <thead>\n",
       "    <tr style=\"text-align: right;\">\n",
       "      <th></th>\n",
       "      <th>Mkt</th>\n",
       "      <th>RF</th>\n",
       "      <th>CPI</th>\n",
       "    </tr>\n",
       "  </thead>\n",
       "  <tbody>\n",
       "    <tr>\n",
       "      <th>count</th>\n",
       "      <td>6192.000000</td>\n",
       "      <td>6192.000000</td>\n",
       "      <td>6192.000000</td>\n",
       "    </tr>\n",
       "    <tr>\n",
       "      <th>mean</th>\n",
       "      <td>0.071055</td>\n",
       "      <td>0.040065</td>\n",
       "      <td>819.132260</td>\n",
       "    </tr>\n",
       "    <tr>\n",
       "      <th>std</th>\n",
       "      <td>0.867189</td>\n",
       "      <td>0.037758</td>\n",
       "      <td>333.768828</td>\n",
       "    </tr>\n",
       "    <tr>\n",
       "      <th>min</th>\n",
       "      <td>-3.817250</td>\n",
       "      <td>0.002500</td>\n",
       "      <td>232.351193</td>\n",
       "    </tr>\n",
       "    <tr>\n",
       "      <th>25%</th>\n",
       "      <td>-0.379024</td>\n",
       "      <td>0.012500</td>\n",
       "      <td>496.190651</td>\n",
       "    </tr>\n",
       "    <tr>\n",
       "      <th>50%</th>\n",
       "      <td>0.040943</td>\n",
       "      <td>0.030000</td>\n",
       "      <td>832.819277</td>\n",
       "    </tr>\n",
       "    <tr>\n",
       "      <th>75%</th>\n",
       "      <td>0.498173</td>\n",
       "      <td>0.050000</td>\n",
       "      <td>1158.651043</td>\n",
       "    </tr>\n",
       "    <tr>\n",
       "      <th>max</th>\n",
       "      <td>4.734443</td>\n",
       "      <td>0.210000</td>\n",
       "      <td>1382.402834</td>\n",
       "    </tr>\n",
       "  </tbody>\n",
       "</table>\n",
       "</div>"
      ],
      "text/plain": [
       "               Mkt           RF          CPI\n",
       "count  6192.000000  6192.000000  6192.000000\n",
       "mean      0.071055     0.040065   819.132260\n",
       "std       0.867189     0.037758   333.768828\n",
       "min      -3.817250     0.002500   232.351193\n",
       "25%      -0.379024     0.012500   496.190651\n",
       "50%       0.040943     0.030000   832.819277\n",
       "75%       0.498173     0.050000  1158.651043\n",
       "max       4.734443     0.210000  1382.402834"
      ]
     },
     "execution_count": 19,
     "metadata": {},
     "output_type": "execute_result"
    }
   ],
   "source": [
    "dt.describe()*12"
   ]
  },
  {
   "cell_type": "code",
   "execution_count": 27,
   "metadata": {},
   "outputs": [
    {
     "data": {
      "text/plain": [
       "0.008520710059171079"
      ]
     },
     "execution_count": 27,
     "metadata": {},
     "output_type": "execute_result"
    }
   ],
   "source": [
    "dt['RF'][dt['RF']  < dt['RF'].quantile(0.333)].mean() * 12"
   ]
  },
  {
   "cell_type": "code",
   "execution_count": 24,
   "metadata": {},
   "outputs": [
    {
     "data": {
      "text/plain": [
       "0.027824074074073786"
      ]
     },
     "execution_count": 24,
     "metadata": {},
     "output_type": "execute_result"
    }
   ],
   "source": [
    "dt['RF'][dt['RF']  < dt['RF'].quantile(0.666)][dt['RF']  > dt['RF'].quantile(0.333)].mean() * 12"
   ]
  },
  {
   "cell_type": "code",
   "execution_count": 25,
   "metadata": {},
   "outputs": [
    {
     "data": {
      "text/plain": [
       "0.0881388349514558"
      ]
     },
     "execution_count": 25,
     "metadata": {},
     "output_type": "execute_result"
    }
   ],
   "source": [
    "dt['RF'][dt['RF']  < dt['RF'].quantile(1.0)][dt['RF']  > dt['RF'].quantile(0.666)].mean() * 12"
   ]
  },
  {
   "cell_type": "code",
   "execution_count": 21,
   "metadata": {},
   "outputs": [
    {
     "name": "stdout",
     "output_type": "stream",
     "text": [
      "\\begin{tabular}{lrrrrrrrr}\n",
      "\\toprule\n",
      "{} &      N &    Mean &  Median &     Min &      Max &  Stdev. &  Skewness &  Kurtosis \\\\\n",
      "\\midrule\n",
      "Mkt &  516.0 &   0.071 &   0.041 &  -3.817 &    4.734 &   0.250 &     0.175 &     2.731 \\\\\n",
      "RF  &  516.0 &   0.040 &   0.030 &   0.002 &    0.210 &   0.011 &     2.198 &     6.336 \\\\\n",
      "CPI &  516.0 &  68.261 &  69.402 &  19.363 &  115.200 &  27.814 &    -0.073 &    -1.357 \\\\\n",
      "\\bottomrule\n",
      "\\end{tabular}\n",
      "\n"
     ]
    },
    {
     "name": "stderr",
     "output_type": "stream",
     "text": [
      "<ipython-input-21-7dc34afa6105>:31: FutureWarning: In future versions `DataFrame.to_latex` is expected to utilise the base implementation of `Styler.to_latex` for formatting and rendering. The arguments signature may therefore change. It is recommended instead to use `DataFrame.style.to_latex` which also contains additional functionality.\n",
      "  latex_code = stats.to_latex()\n"
     ]
    }
   ],
   "source": [
    "import numpy as np\n",
    "import pandas as pd\n",
    "from scipy.stats import skew, kurtosis\n",
    "\n",
    "# Assuming 'dt' is your DataFrame\n",
    "# First, we calculate the basic statistics using the `describe()` function\n",
    "desc = dt.describe().T\n",
    "\n",
    "# Next, we compute skewness and kurtosis for each column and add them to our statistics DataFrame\n",
    "desc['skewness'] = dt.apply(lambda x: skew(x.dropna()))\n",
    "desc['kurtosis'] = dt.apply(lambda x: kurtosis(x.dropna()))\n",
    "\n",
    "# Then, we select the statistics we are interested in\n",
    "stats = desc[['count', 'mean', '50%', 'min', 'max', 'std', 'skewness', 'kurtosis']].copy()\n",
    "\n",
    "# We rename the columns to match the names given in the question\n",
    "stats.columns = ['N', 'Mean', 'Median', 'Min', 'Max', 'Stdev.', 'Skewness', 'Kurtosis']\n",
    "\n",
    "# Convert monthly returns to annualized returns\n",
    "for col in ['Mkt', 'RF']:\n",
    "    stats.loc[col, 'Mean'] = stats.loc[col, 'Mean'] * 12\n",
    "    stats.loc[col, 'Median'] = dt[col].median() * 12\n",
    "    stats.loc[col, 'Min'] = dt[col].min() * 12\n",
    "    stats.loc[col, 'Max'] = dt[col].max() * 12\n",
    "    stats.loc[col, 'Stdev.'] = stats.loc[col, 'Stdev.'] * np.sqrt(12)\n",
    "\n",
    "# Round all values in the DataFrame to 3 decimal points\n",
    "stats = stats.round(3)\n",
    "\n",
    "# Finally, we convert our DataFrame to LaTeX code and print it\n",
    "latex_code = stats.to_latex()\n",
    "print(latex_code)\n"
   ]
  },
  {
   "cell_type": "code",
   "execution_count": null,
   "metadata": {},
   "outputs": [],
   "source": []
  }
 ],
 "metadata": {
  "kernelspec": {
   "display_name": "Python 3",
   "language": "python",
   "name": "python3"
  },
  "language_info": {
   "codemirror_mode": {
    "name": "ipython",
    "version": 3
   },
   "file_extension": ".py",
   "mimetype": "text/x-python",
   "name": "python",
   "nbconvert_exporter": "python",
   "pygments_lexer": "ipython3",
   "version": "3.8.3"
  }
 },
 "nbformat": 4,
 "nbformat_minor": 4
}
