{
 "cells": [
  {
   "cell_type": "code",
   "execution_count": 1,
   "metadata": {},
   "outputs": [],
   "source": [
    "import pandas as pd\n",
    "import numpy as np\n",
    "\n"
   ]
  },
  {
   "cell_type": "code",
   "execution_count": 2,
   "metadata": {},
   "outputs": [],
   "source": [
    "kospi_daily = pd.read_csv('./kospi_daily_1980_2018.csv')\n",
    "kospi_monthly = pd.read_csv('./kospi_monthly_2018_2023.csv')"
   ]
  },
  {
   "cell_type": "code",
   "execution_count": 3,
   "metadata": {},
   "outputs": [],
   "source": [
    "kospi_daily['Date'] = pd.to_datetime(kospi_daily['Date'])\n",
    "kospi_monthly['Date'] = pd.to_datetime(kospi_monthly['Date'])"
   ]
  },
  {
   "cell_type": "code",
   "execution_count": 4,
   "metadata": {},
   "outputs": [],
   "source": [
    "kospi_daily.set_index('Date', inplace=True)\n",
    "kospi_daily = kospi_daily.resample('BM').last()\n",
    "kospi_monthly.set_index('Date', inplace=True)"
   ]
  },
  {
   "cell_type": "code",
   "execution_count": 5,
   "metadata": {},
   "outputs": [],
   "source": [
    "final_df = pd.concat([kospi_daily, kospi_monthly])"
   ]
  },
  {
   "cell_type": "code",
   "execution_count": 6,
   "metadata": {},
   "outputs": [],
   "source": [
    "\n",
    "final_df.sort_index(inplace=True)\n",
    "final_df = final_df.loc[~final_df.index.duplicated(keep='last')]"
   ]
  },
  {
   "cell_type": "code",
   "execution_count": 7,
   "metadata": {},
   "outputs": [],
   "source": [
    "final_df['Price'] = final_df['Price'].astype(str)"
   ]
  },
  {
   "cell_type": "code",
   "execution_count": 8,
   "metadata": {},
   "outputs": [],
   "source": [
    "final_df['Price'].str.replace(',', '')\n",
    "final_df['Price'] = final_df['Price'].str.replace(',', '').astype(float)"
   ]
  },
  {
   "cell_type": "code",
   "execution_count": 9,
   "metadata": {},
   "outputs": [],
   "source": [
    "final_df.index = final_df.index.to_period('M').to_timestamp()\n"
   ]
  },
  {
   "cell_type": "code",
   "execution_count": 10,
   "metadata": {},
   "outputs": [
    {
     "data": {
      "text/html": [
       "<div>\n",
       "<style scoped>\n",
       "    .dataframe tbody tr th:only-of-type {\n",
       "        vertical-align: middle;\n",
       "    }\n",
       "\n",
       "    .dataframe tbody tr th {\n",
       "        vertical-align: top;\n",
       "    }\n",
       "\n",
       "    .dataframe thead th {\n",
       "        text-align: right;\n",
       "    }\n",
       "</style>\n",
       "<table border=\"1\" class=\"dataframe\">\n",
       "  <thead>\n",
       "    <tr style=\"text-align: right;\">\n",
       "      <th></th>\n",
       "      <th>Price</th>\n",
       "    </tr>\n",
       "    <tr>\n",
       "      <th>Date</th>\n",
       "      <th></th>\n",
       "    </tr>\n",
       "  </thead>\n",
       "  <tbody>\n",
       "    <tr>\n",
       "      <th>1980-01-01</th>\n",
       "      <td>105.89</td>\n",
       "    </tr>\n",
       "    <tr>\n",
       "      <th>1980-02-01</th>\n",
       "      <td>103.74</td>\n",
       "    </tr>\n",
       "    <tr>\n",
       "      <th>1980-03-01</th>\n",
       "      <td>105.00</td>\n",
       "    </tr>\n",
       "    <tr>\n",
       "      <th>1980-04-01</th>\n",
       "      <td>116.09</td>\n",
       "    </tr>\n",
       "    <tr>\n",
       "      <th>1980-05-01</th>\n",
       "      <td>115.69</td>\n",
       "    </tr>\n",
       "    <tr>\n",
       "      <th>...</th>\n",
       "      <td>...</td>\n",
       "    </tr>\n",
       "    <tr>\n",
       "      <th>2023-02-01</th>\n",
       "      <td>2412.85</td>\n",
       "    </tr>\n",
       "    <tr>\n",
       "      <th>2023-03-01</th>\n",
       "      <td>2476.86</td>\n",
       "    </tr>\n",
       "    <tr>\n",
       "      <th>2023-04-01</th>\n",
       "      <td>2501.53</td>\n",
       "    </tr>\n",
       "    <tr>\n",
       "      <th>2023-05-01</th>\n",
       "      <td>2577.12</td>\n",
       "    </tr>\n",
       "    <tr>\n",
       "      <th>2023-06-01</th>\n",
       "      <td>2608.54</td>\n",
       "    </tr>\n",
       "  </tbody>\n",
       "</table>\n",
       "<p>524 rows × 1 columns</p>\n",
       "</div>"
      ],
      "text/plain": [
       "              Price\n",
       "Date               \n",
       "1980-01-01   105.89\n",
       "1980-02-01   103.74\n",
       "1980-03-01   105.00\n",
       "1980-04-01   116.09\n",
       "1980-05-01   115.69\n",
       "...             ...\n",
       "2023-02-01  2412.85\n",
       "2023-03-01  2476.86\n",
       "2023-04-01  2501.53\n",
       "2023-05-01  2577.12\n",
       "2023-06-01  2608.54\n",
       "\n",
       "[524 rows x 1 columns]"
      ]
     },
     "execution_count": 10,
     "metadata": {},
     "output_type": "execute_result"
    }
   ],
   "source": [
    "final_df"
   ]
  },
  {
   "cell_type": "code",
   "execution_count": 11,
   "metadata": {
    "scrolled": false
   },
   "outputs": [
    {
     "name": "stdout",
     "output_type": "stream",
     "text": [
      "1st bear market (1988-1993):\n",
      "Peak-to-trough decline (percentage): 49.17%\n",
      "Peak-to-trough duration (months): 40\n",
      "Peak month (date): 1989-03-01 00:00:00\n",
      "Trough month (date): 1992-07-01 00:00:00\n",
      "\n",
      "2nd bear market (1994-1999):\n",
      "Peak-to-trough decline (percentage): 73.06%\n",
      "Peak-to-trough duration (months): 44\n",
      "Peak month (date): 1994-10-01 00:00:00\n",
      "Trough month (date): 1998-06-01 00:00:00\n",
      "\n",
      "3rd bear market (2000-2003):\n",
      "Peak-to-trough decline (percentage): 49.18%\n",
      "Peak-to-trough duration (months): 20\n",
      "Peak month (date): 2000-01-01 00:00:00\n",
      "Trough month (date): 2001-09-01 00:00:00\n",
      "\n",
      "4th bear market (2007-2009):\n",
      "Peak-to-trough decline (percentage): 48.52%\n",
      "Peak-to-trough duration (months): 16\n",
      "Peak month (date): 2007-10-01 00:00:00\n",
      "Trough month (date): 2009-02-01 00:00:00\n",
      "\n",
      "5th bear market (2017-2020):\n",
      "Peak-to-trough decline (percentage): 31.63%\n",
      "Peak-to-trough duration (months): 26\n",
      "Peak month (date): 2018-01-01 00:00:00\n",
      "Trough month (date): 2020-03-01 00:00:00\n",
      "\n",
      "6th bear market (2021-2022):\n",
      "Peak-to-trough decline (percentage): 34.62%\n",
      "Peak-to-trough duration (months): 15\n",
      "Peak month (date): 2021-06-01 00:00:00\n",
      "Trough month (date): 2022-09-01 00:00:00\n",
      "\n"
     ]
    }
   ],
   "source": [
    "\n",
    "# Given bear markets\n",
    "bear_markets = {\n",
    "    '1st bear market (1988-1993)': {\n",
    "        'full': [1989,1990,1991,1992],\n",
    "        'partial': [1988,1993]\n",
    "    },\n",
    "    '2nd bear market (1994-1999)': {\n",
    "        'full': [1995,1996,1997,1998],\n",
    "        'partial': [1994,1999]\n",
    "    },\n",
    "    '3rd bear market (2000-2003)': {\n",
    "        'full': [2001,2002],\n",
    "        'partial': [2000,2003]\n",
    "    },\n",
    "    '4th bear market (2007-2009)': {\n",
    "        'full': [2008],\n",
    "        'partial': [2007,2009]\n",
    "    },\n",
    "    '5th bear market (2017-2020)': {\n",
    "        'full': [2018, 2019],\n",
    "        'partial': [2017, 2020]\n",
    "    },\n",
    "    '6th bear market (2021-2022)': {\n",
    "        'full': [2021],\n",
    "        'partial': [2022]\n",
    "    }\n",
    "}\n",
    "# Iterate over bear markets\n",
    "for name, periods in bear_markets.items():\n",
    "    \n",
    "    full_years = pd.date_range(start=f'{min(periods[\"full\"])}-01-01', end=f'{max(periods[\"full\"])}-12-31', freq='M')\n",
    "    full_years = full_years.to_period('M').to_timestamp()\n",
    "    partial_years = pd.date_range(start=f'{min(periods[\"partial\"])}-01-01', end=f'{max(periods[\"partial\"])}-12-31', freq='M')\n",
    "    partial_years = partial_years.to_period('M').to_timestamp()\n",
    "    # Get market data for the bear market period\n",
    "    market_data = final_df[final_df.index.isin(full_years.union(partial_years))]\n",
    "    # Ensure the market data for the period is not empty\n",
    "    if not market_data.empty:\n",
    "        # Calculate peak-to-trough decline (percentage), peak-to-trough duration (months), and peak and trough months (date)\n",
    "        \n",
    "        peak_price = market_data['Price'].max()\n",
    "        trough_price = market_data['Price'].min()\n",
    "\n",
    "        peak_month = market_data['Price'].idxmax()\n",
    "        trough_month = market_data['Price'].idxmin()\n",
    "\n",
    "        if 2020 in periods['partial']:\n",
    "            \n",
    "            market_data = final_df[final_df.index.isin(full_years.union(partial_years))]\n",
    "            market_data = market_data[:-5]\n",
    "            peak_price = market_data['Price'].max()\n",
    "            trough_price = market_data['Price'].min()\n",
    "\n",
    "            peak_month = market_data['Price'].idxmax()\n",
    "            trough_month = market_data['Price'].idxmin()\n",
    "\n",
    "        \n",
    "        decline = ((peak_price - trough_price) / peak_price) * 100\n",
    "        duration = (trough_month - peak_month).days // 30\n",
    "\n",
    "        print(f\"{name}:\")\n",
    "        print(f\"Peak-to-trough decline (percentage): {decline:.2f}%\")\n",
    "        print(f\"Peak-to-trough duration (months): {duration}\")\n",
    "        print(f\"Peak month (date): {peak_month}\")\n",
    "        print(f\"Trough month (date): {trough_month}\\n\")\n",
    "    else:\n",
    "        print(f\"No data available for {name}\")\n"
   ]
  },
  {
   "cell_type": "code",
   "execution_count": 12,
   "metadata": {},
   "outputs": [
    {
     "data": {
      "image/png": "[encoded data removed]",
      "text/plain": [
       "<Figure size 432x288 with 1 Axes>"
      ]
     },
     "metadata": {
      "needs_background": "light"
     },
     "output_type": "display_data"
    }
   ],
   "source": [
    "\n",
    "from matplotlib import pyplot as plt\n",
    "for i in range(1980,1999):\n",
    "    plt.plot(final_df['{}-01-01'.format(i):'{}-12-01'.format(i)])\n",
    "plt.show()\n",
    "plt.close()"
   ]
  },
  {
   "cell_type": "code",
   "execution_count": 13,
   "metadata": {},
   "outputs": [],
   "source": [
    "ret = np.log(final_df / final_df.shift(1))\n",
    "ret.iloc[0] = 0\n",
    "ret.index = ret.index.to_period('M').to_timestamp()"
   ]
  },
  {
   "cell_type": "code",
   "execution_count": 14,
   "metadata": {},
   "outputs": [],
   "source": [
    "dt_final = pd.DataFrame()\n",
    "dt_final['Mkt'] = ret['1980-01':'2022-12-01']"
   ]
  },
  {
   "cell_type": "code",
   "execution_count": 15,
   "metadata": {},
   "outputs": [],
   "source": [
    "rf = pd.read_csv('./risk_free.csv')\n",
    "rf['RF'] = rf['RF'].astype('float')\n",
    "rf['RF'] = rf['RF'] / 100"
   ]
  },
  {
   "cell_type": "code",
   "execution_count": 16,
   "metadata": {},
   "outputs": [],
   "source": [
    "rf.set_index('Date', inplace=True)\n",
    "rf.index = pd.to_datetime(rf.index)\n",
    "rf = rf.sort_values(by='Date')"
   ]
  },
  {
   "cell_type": "code",
   "execution_count": 17,
   "metadata": {},
   "outputs": [],
   "source": [
    "rf.index = rf.index.to_period('M').to_timestamp()\n",
    "dt_final.index = dt_final.index.to_period('M').to_timestamp()\n",
    "rf = rf['1980-01-01':'2022-12-01']"
   ]
  },
  {
   "cell_type": "code",
   "execution_count": 18,
   "outputs": [],
   "metadata": {
    "scrolled": true
   },
   "source": [
    "dt_final = pd.concat([dt_final,rf],1)"
   ]
  },
  {
   "cell_type": "code",
   "execution_count": 16,
   "metadata": {},
   "outputs": [],
   "source": [
    "# https://fred.stlouisfed.org/series/INTDSRKRM193N"
   ]
  },
  {
   "cell_type": "code",
   "execution_count": 20,
   "metadata": {},
   "outputs": [],
   "source": [
    "CPI = pd.read_csv('./CPI.csv')\n",
    "CPI = CPI.set_index('Date')\n",
    "CPI.index = pd.to_datetime(CPI.index)\n",
    "CPI = CPI['1980-01-01':'2022-12-01']"
   ]
  },
  {
   "cell_type": "code",
   "execution_count": 21,
   "metadata": {},
   "outputs": [],
   "source": [
    "dt_final = pd.concat([dt_final,CPI],1)\n",
    "dt_final = dt_final.astype(float)"
   ]
  },
  {
   "cell_type": "code",
   "execution_count": 22,
   "metadata": {},
   "outputs": [],
   "source": [
    "dt_final['RF'] = dt_final['RF'] / 12 # monthly로 바꿔야함"
   ]
  },
  {
   "cell_type": "code",
   "execution_count": 23,
   "metadata": {},
   "outputs": [],
   "source": [
    "dt_final = dt_final[~dt_final.index.duplicated(keep=\"first\")]"
   ]
  },
  {
   "cell_type": "code",
   "execution_count": 24,
   "metadata": {},
   "outputs": [],
   "source": [
    "dt_final.to_csv('./data.csv')"
   ]
  },
  {
   "cell_type": "code",
   "execution_count": 25,
   "metadata": {},
   "outputs": [],
   "source": [
    "dt_snp = pd.read_csv('./data_snp.csv')\n",
    "dt_snp = dt_snp.set_index('Date')"
   ]
  },
  {
   "cell_type": "code",
   "execution_count": 26,
   "metadata": {},
   "outputs": [],
   "source": [
    "dt_snp"
   ]
  }
 ],
 "metadata": {
  "kernelspec": {
   "display_name": "Python 3",
   "language": "python",
   "name": "python3"
  },
  "language_info": {
   "codemirror_mode": {
    "name": "ipython",
    "version": 3
   },
   "file_extension": ".py",
   "mimetype": "text/x-python",
   "name": "python",
   "nbconvert_exporter": "python",
   "pygments_lexer": "ipython3",
   "version": "3.8.3"
  }
 },
 "nbformat": 4,
 "nbformat_minor": 4
}
